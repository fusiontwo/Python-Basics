{
 "cells": [
  {
   "cell_type": "code",
   "execution_count": 1,
   "id": "7810bbac",
   "metadata": {},
   "outputs": [],
   "source": [
    "class Employee :\n",
    "    def __init__(self, name, emptype) :\n",
    "        self.name = name\n",
    "        self.emptype = emptype\n",
    "        \n",
    "    def print_profile(self) :\n",
    "        print(\"=\"*30)\n",
    "        print(\"이름 : {}\".format(self.name))\n",
    "        print(\"고용형태 : {}\".format(self.emptype))"
   ]
  },
  {
   "cell_type": "code",
   "execution_count": 2,
   "id": "37cdcf97",
   "metadata": {},
   "outputs": [
    {
     "name": "stdout",
     "output_type": "stream",
     "text": [
      "이름을 입력하세요: 홍길동\n",
      "고용 형태를 입력하세요: 정규직\n",
      "==============================\n",
      "이    름 : 홍길동\n",
      "고용형태 : 정규직\n",
      "None\n",
      "고용형태 선택(정규직<P>, 비정규직<T>) : P\n",
      "이름 : 홍길동\n",
      "기본급 : aa\n",
      "숫자가 아닌것 같은데요?\n",
      "기본급 : 3000000\n",
      "보너스 : 200000\n",
      "==============================\n",
      "이    름 : 홍길동\n",
      "고용형태 : 정규직\n",
      "급여 : 3200000\n"
     ]
    }
   ],
   "source": [
    "# import employee_parent\n",
    "from employee_parent import Employee\n",
    "\n",
    "# Employee를 상속받아 Permanent(정규직) 클래스 구현\n",
    "class Permanent(Employee) :\n",
    "    def __init__(self, name, emptype, money, bouns) :\n",
    "        # 부모의 생성자 이용, super()\n",
    "        super().__init__(name, emptype)\n",
    "        self.pay = money + bouns\n",
    "    \n",
    "    def print_profile(self) :\n",
    "        # 부모의 print_profile를 super()를 사용해 활용하면서 오버라이딩\n",
    "        super().print_profile()\n",
    "        print(f\"급여 : {self.pay}\")\n",
    "        \n",
    "# Employee를 상속받아 Temporary(비정규직) 클래스 구현\n",
    "class Temporary(Employee) :\n",
    "    def __init__(self, name, emptype, time, t_money) :\n",
    "        # 부모의 생성자 이용, super()\n",
    "        super().__init__(name, emptype)\n",
    "        self.pay = time * t_money\n",
    "    \n",
    "    def print_profile(self) :\n",
    "        # 부모의 print_profile를 super()를 사용해 활용하면서 오버라이딩\n",
    "        super().print_profile()\n",
    "        print(f\"급여 : {self.pay}\")\n",
    "\n",
    "# emptype 입력값을 정확하게 받을때까지 요청\n",
    "while True :\n",
    "    emptype = input(\"고용형태 선택(정규직<P>, 비정규직<T>) : \")\n",
    "    if emptype == 'p' or emptype == 'P' or emptype == 't' or emptype == 'T' :\n",
    "        break\n",
    "    else :\n",
    "        print('지원하지 않는 고용형태입니다. 입력을 다시하세요! ')\n",
    "        continue \n",
    "\n",
    "# emptype 조건에 따라 다른 클래스를 이용하여 객체 생성\n",
    "if emptype == 'p' or emptype == 'P' :\n",
    "    name = input(\"이름 : \")\n",
    "    emptype = '정규직'\n",
    "    while True :\n",
    "        # ValueError 처리\n",
    "        try :\n",
    "            money = int(input(\"기본급 : \"))\n",
    "            bouns = int(input(\"보너스 : \"))\n",
    "            break\n",
    "        except ValueError :\n",
    "            print(\"숫자가 아닌것 같은데요?\")\n",
    "    p = Permanent(name, emptype, money, bouns)\n",
    "    p.print_profile()\n",
    "        \n",
    "elif emptype == 't' or emptype == 'T' :\n",
    "    name = input(\"이름 : \")\n",
    "    emptype = '비정규직'\n",
    "    while True :\n",
    "        # ValueError 처리\n",
    "        try :\n",
    "            time = int(input(\"작업시간 : \"))\n",
    "            t_money = int(input(\"시급 : \"))\n",
    "            break\n",
    "        except ValueError :\n",
    "            print(\"숫자가 아닙니다. 정확하게 다시 입력하세요!\")\n",
    "    t = Temporary(name, emptype, time, t_money)\n",
    "    t.print_profile()\n",
    "else :\n",
    "    print('=' * 30)\n",
    "    print('입력오류')"
   ]
  },
  {
   "cell_type": "code",
   "execution_count": 12,
   "id": "1ccb98fc",
   "metadata": {},
   "outputs": [],
   "source": [
    "# os(Operating System) 모듈은 운영체제에서 제공되는 여러 기능을 파이썬에서 수행할 수 있게 해준다.\n",
    "# 폴더, 파일 생성 및 이동, 삭제 시 OR 디렉터리 내의 파일 목록 확인시 사용\n",
    "import os"
   ]
  },
  {
   "cell_type": "code",
   "execution_count": 13,
   "id": "22f5288d",
   "metadata": {},
   "outputs": [
    {
     "name": "stdout",
     "output_type": "stream",
     "text": [
      "C:\\Users\\최예름\\3. Mega Python\n"
     ]
    }
   ],
   "source": [
    "# 현재 작업중인 디렉토리의 경로를 보여주는 Current working dir\n",
    "print(os.getcwd())"
   ]
  },
  {
   "cell_type": "code",
   "execution_count": 14,
   "id": "9a16bd4d",
   "metadata": {},
   "outputs": [],
   "source": [
    "# 디렉토리를 이동하는 함수 chdir\n",
    "# \\n, \\t 등 문자열 조작하는 이스케이프 함수 쓸때 조심하라. \\\\로 작성해서 오류 없게...\n",
    "# os.chdir('Day08')\n",
    "# print(os.getcwd())"
   ]
  },
  {
   "cell_type": "code",
   "execution_count": 15,
   "id": "6a8ec305",
   "metadata": {},
   "outputs": [],
   "source": [
    "# # 특정 디렉토리안에 있는 파일등의 목록을 보여주는 listdir\n",
    "# print(os.listdir('C:\\chi_py_project\\Day08'))"
   ]
  },
  {
   "cell_type": "code",
   "execution_count": 16,
   "id": "f0d5bd95",
   "metadata": {},
   "outputs": [],
   "source": [
    "# # 디렉토리 구조 보기 예쁘게\n",
    "# for names in os.listdir('C:\\chi_py_project') :\n",
    "#     # if names.endswith('jpg') :\n",
    "#         print(names)"
   ]
  },
  {
   "cell_type": "code",
   "execution_count": 17,
   "id": "a2ec18ad",
   "metadata": {},
   "outputs": [],
   "source": [
    "# # 디렉토리 구조 보기 예쁘게\n",
    "# for names in os.listdir('C:\\chi_py_project') :\n",
    "#     # if names.endswith('jpg') :\n",
    "#         print(names)"
   ]
  },
  {
   "cell_type": "code",
   "execution_count": 18,
   "id": "b636053e",
   "metadata": {},
   "outputs": [],
   "source": [
    "# # 폴더를 만드는 함수(한번에 하나만) mkdir\n",
    "# os.mkdir('C:\\chi_py_project\\\\test_dir')\n",
    "# # 비어있는 폴더 하나 삭제하는 함수 rmdir\n",
    "# os.rmdir(\"C:\\chi_py_project\\\\test_dir\")"
   ]
  },
  {
   "cell_type": "code",
   "execution_count": 19,
   "id": "6c42142c",
   "metadata": {},
   "outputs": [],
   "source": [
    "# # 하위에 폴더를 연속적으로 만들어주는 함수 makedirs\n",
    "# os.makedirs('C:\\chi_py_project\\\\test_dir\\chi') \n",
    "# # 비어있는 폴더를 하위까지 삭제하는 함수 rmdir\n",
    "# os.removedirs(\"C:\\chi_py_project\\\\test_dir\\chi\")\n",
    "# # os.rmdir(\"C:\\chi_py_project\\\\test_dir\")"
   ]
  },
  {
   "cell_type": "code",
   "execution_count": 20,
   "id": "f8f60b74",
   "metadata": {},
   "outputs": [],
   "source": [
    "# # 안에 파일이 존재할때 디렉토리 지우는 파일관리 shutil 모듈\n",
    "# import shutil\n",
    "# os.makedirs('C:\\chi_py_project\\\\test_dir\\chi\\\\temp1\\\\temp2\\hyhrh')\n",
    "# # shutil.rmtree('C:\\chi_py_project\\\\test_dir')"
   ]
  },
  {
   "cell_type": "code",
   "execution_count": 21,
   "id": "303b7c8d",
   "metadata": {},
   "outputs": [],
   "source": [
    "# # 지금까지 폴더를 다루는 함수였다면 이번에는 파일을 다루는 함수, 어렵지 않으나 만드는 순서가 중요하다.\n",
    "# # txt형식으로 저장하는 기능은 파이썬 안에 내장되어있다."
   ]
  },
  {
   "cell_type": "code",
   "execution_count": 22,
   "id": "0f9cfacb",
   "metadata": {},
   "outputs": [],
   "source": [
    "# # 1.비어있는 A4페이지를 준비하듯 파일을 준비한다. r:읽기 w:쓰기 a:붙여쓰기\n",
    "# # 2.준비된 종이에 내용을 적어라(현재까지는 메모리에 쓴것이다)\n",
    "# file = open(\"C:\\chi_py_project\\\\text_01.txt\",\"w\")\n",
    "# file.write(\" 텍스트 파일에 처음 쓴 글입니다\")\n",
    "# file.close()\n",
    "\n",
    "# # 같은 파일을 w모드로 오픈할 경우 덮어씌운다. \n",
    "# file = open(\"C:\\chi_py_project\\\\text_01.txt\",\"w\")\n",
    "# file.write(\"텍스트 파일에 두번째 쓴 글입니다\")\n",
    "# file.close()"
   ]
  },
  {
   "cell_type": "code",
   "execution_count": 23,
   "id": "117513b0",
   "metadata": {},
   "outputs": [],
   "source": [
    "# file = open(\"C:\\chi_py_project\\\\text_01.txt\",\"a\")\n",
    "# file.write(\"\\n텍스트 파일에 추가모드로 쓴 첫번째 글입니다\")\n",
    "# file.close()"
   ]
  },
  {
   "cell_type": "code",
   "execution_count": 24,
   "id": "a251d784",
   "metadata": {},
   "outputs": [],
   "source": [
    "# file3 = open(\"C:\\chi_py_project\\\\text_01.txt\",\"a\")\n",
    "# file3.write(\"\\n텍스트 파일에 추가모드로 쓴 두번째 글입니다\")\n",
    "# file3.close( )"
   ]
  },
  {
   "cell_type": "code",
   "execution_count": 25,
   "id": "ab12da22",
   "metadata": {},
   "outputs": [],
   "source": [
    "# # 개행 전까지 읽어오기 -> 문자열을 반환\n",
    "# file = open(\"C:\\chi_py_project\\\\text_01.txt\",\"r\")\n",
    "# print(file.readline())\n",
    "# file.close( )"
   ]
  },
  {
   "cell_type": "code",
   "execution_count": 26,
   "id": "5400ebda",
   "metadata": {},
   "outputs": [],
   "source": [
    "# # 개행 기준으로 리스트로 불러오기 -> List[문자열]을 반환\n",
    "# file = open(\"C:\\chi_py_project\\\\text_01.txt\",\"r\")\n",
    "# print(file.readlines())\n",
    "# file.close( )"
   ]
  },
  {
   "cell_type": "code",
   "execution_count": 27,
   "id": "498669bc",
   "metadata": {},
   "outputs": [],
   "source": [
    "# # n바이트씩 읽어오기 -> 문자N개를 반환\n",
    "# file = open(\"C:\\chi_py_project\\\\text_01.txt\",\"r\")\n",
    "# print(file.read(5))\n",
    "# file.close( )\n",
    "# os.remove('C:\\chi_py_project\\\\text_01.txt')"
   ]
  },
  {
   "cell_type": "code",
   "execution_count": 28,
   "id": "677eb722",
   "metadata": {},
   "outputs": [],
   "source": [
    "# # file.close()를 하지 않고 실행시 삭제 안되는걸 확인 하라\n",
    "# file = open(\"C:\\chi_py_project\\\\text_01.txt\",\"w\")\n",
    "# file.close()\n",
    "# os.remove('C:\\chi_py_project\\\\text_01.txt')"
   ]
  },
  {
   "cell_type": "code",
   "execution_count": 29,
   "id": "ebd52d6d",
   "metadata": {},
   "outputs": [],
   "source": [
    "# print(ord('가'))\n",
    "# print(hex(44032))\n",
    "\n",
    "# print(ord('메'))\n",
    "# print(ord('가'))\n",
    "\n",
    "# print(hex(47700))\n",
    "# print(hex(44032))\n",
    "\n",
    "# print(chr(47700))\n",
    "# print(chr(44032))"
   ]
  },
  {
   "cell_type": "code",
   "execution_count": 30,
   "id": "71b5929a",
   "metadata": {},
   "outputs": [],
   "source": [
    "#txt형식으로 저장하는 기능은 특별한 설정이나 추가 설치 없이 파이썬 안에 내장되어있다.\n",
    "#하지만 기업에서 많이 사용하는 엑셀이나 CSV(표형태)로 저장하기위해서는 다르다\n",
    "#크롤링한 결과를 우선 표로 만들어 놓고 파이썬에게 저 표를 엑셀 또는 CSV 형태로 저장해라고 한다...\n",
    "#이때 설치해야 하는 패키지가 numpy 또는 pandas\n",
    "#pip install numpy\n",
    "#pip install pandas\n",
    "#pip는 파이썬에서 추가 모듈을 설치할 때 쓰는 명령어 -> 이는 idle이나 IDE에서 치는게 아니고 window cmd창에서 쓰는거야\n",
    "\n",
    "# import numpy\n",
    "# import pandas as pd\n",
    "\n",
    "# # 표 ( 데이터 프레임 ) 만들기\n",
    "# no = [ ]             #번호컬럼 생성\n",
    "# subject_name = [ ]   #이름컬럼 생성\n",
    "\n",
    "# no.append(1)\n",
    "# no.append(2)\n",
    "# no.append(3)\n",
    "\n",
    "# subject_name.append('수학')\n",
    "# subject_name.append('과학')\n",
    "# subject_name.append('빅데이터')\n",
    "\n",
    "# # 소스에서 DataFrame이 보이면 아 표와 관련된거구나 하고 생각하면 된다\n",
    "# # subject = pd.DataFrame()  # 표만들기, 판다스에 있는 함수를 이용해 표를 만들어라~\n",
    "# subject = pd.DataFrame( )\n",
    "# subject['과목번호'] = no\n",
    "# subject['과목명'] = subject_name\n",
    "# print(subject)\n",
    "\n",
    "# # subject.to_csv(\"c:\\\\chicoding\\\\subject.csv\", encoding=\"utf-8-sig\",index=False)  #csv 형태로 저장, index는 맨 왼쪽에 순번을 넣을래 안넣을래\n",
    "# subject.to_csv(\"c:\\chicoding\\subject_csv.csv\", encoding=\"utf-8-sig\", index=False)  #csv 형태로 저장, index는 맨 왼쪽에 순번을 넣을래 안넣을래\n",
    "# subject.to_excel(\"c:\\chicoding\\subject_xlsx.xlsx\" , index=False)                     #엑셀 형태로 저장"
   ]
  },
  {
   "cell_type": "code",
   "execution_count": 31,
   "id": "1bcf492f",
   "metadata": {},
   "outputs": [],
   "source": [
    "# =======================================================================================\n",
    "# # 이번엔 그림파일을 불러오기/저장하기!\n",
    "# # 그림은 바이너리 파일이기에 읽어올때 r모드만 써서는 안된다! 바이너리 파일로 불러와라 라고 해줘야 해\n",
    "# =======================================================================================\n",
    "\n",
    "# =======================================================================================\n",
    "# my_image = open(\"C:\\chi_py_project\\pic_test.jpg\",\"rb\")\n",
    "# my_image_copy = open(\"C:\\chi_py_project\\pic_test2.jpg\",\"wb\")\n",
    "# my_image_copy.write(my_image.read())\n",
    "# my_image.close()\n",
    "# my_image_copy.close()\n",
    "# ======================================================================================="
   ]
  }
 ],
 "metadata": {
  "kernelspec": {
   "display_name": "Python 3 (ipykernel)",
   "language": "python",
   "name": "python3"
  },
  "language_info": {
   "codemirror_mode": {
    "name": "ipython",
    "version": 3
   },
   "file_extension": ".py",
   "mimetype": "text/x-python",
   "name": "python",
   "nbconvert_exporter": "python",
   "pygments_lexer": "ipython3",
   "version": "3.9.12"
  }
 },
 "nbformat": 4,
 "nbformat_minor": 5
}
