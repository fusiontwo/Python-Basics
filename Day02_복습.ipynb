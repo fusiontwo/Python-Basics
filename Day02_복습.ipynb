{
 "cells": [
  {
   "cell_type": "code",
   "execution_count": 1,
   "id": "550735c1",
   "metadata": {},
   "outputs": [
    {
     "name": "stdout",
     "output_type": "stream",
     "text": [
      "정수를 입력하세요5\n",
      "문자를 입력하세요안녕하세요\n",
      "<class 'int'> 5\n",
      "<class 'str'> 안녕하세요\n"
     ]
    }
   ],
   "source": [
    "num_01 = int(input(\"정수를 입력하세요\"))\n",
    "num_02 = str(input(\"문자를 입력하세요\"))\n",
    "print(type(num_01), num_01)\n",
    "print(type(num_02), num_02)"
   ]
  },
  {
   "cell_type": "code",
   "execution_count": 3,
   "id": "5c3ea93c",
   "metadata": {},
   "outputs": [
    {
     "name": "stdout",
     "output_type": "stream",
     "text": [
      "첫번째 단어:Korea\n",
      "두번째 단어:Battle\n",
      "세번째 단어:Oxygen\n",
      "===============\n",
      "약자:KBO\n"
     ]
    }
   ],
   "source": [
    "word1 = input(\"첫번째 단어:\")\n",
    "word2 = input(\"두번째 단어:\")\n",
    "word3 = input(\"세번째 단어:\")\n",
    "print(\"===============\")\n",
    "print(\"약자:\"+word1[0]+word2[0]+word3[0])"
   ]
  },
  {
   "cell_type": "code",
   "execution_count": 5,
   "id": "d3437420",
   "metadata": {
    "scrolled": true
   },
   "outputs": [
    {
     "name": "stdout",
     "output_type": "stream",
     "text": [
      "첫번째 단어:Korea\n",
      "두번째 단어:America\n",
      "세번째 단어:China\n",
      "===============\n",
      "약자:KAC\n"
     ]
    }
   ],
   "source": [
    "word1 = input(\"첫번째 단어:\")\n",
    "word2 = input(\"두번째 단어:\")\n",
    "word3 = input(\"세번째 단어:\")\n",
    "result = word1[0]+word2[0]+word3[0]\n",
    "print(\"===============\")\n",
    "print(\"약자:\"+result)"
   ]
  },
  {
   "cell_type": "code",
   "execution_count": 59,
   "id": "59e17bbb",
   "metadata": {},
   "outputs": [
    {
     "name": "stdout",
     "output_type": "stream",
     "text": [
      "첫번째 단어:korea\n",
      "두번째 단어:america\n",
      "세번째 단어:china\n",
      "==============\n",
      "약자:KAC\n"
     ]
    }
   ],
   "source": [
    "# ★복습\n",
    "word1 = input(\"첫번째 단어:\")\n",
    "word2 = input(\"두번째 단어:\")\n",
    "word3 = input(\"세번째 단어:\")\n",
    "result = word1[0]+word2[0]+word3[0]\n",
    "print(\"==============\")\n",
    "print(\"약자:\"+result.upper()) # .upper()는 소문자를 대문자로 바꾼다. \n",
    "# .lower()는 대문자를 소문자로 바꾼다."
   ]
  },
  {
   "cell_type": "code",
   "execution_count": 3,
   "id": "8880b66a",
   "metadata": {},
   "outputs": [
    {
     "name": "stdout",
     "output_type": "stream",
     "text": [
      "사과\n",
      "바나나\n",
      "키위\n",
      "배\n"
     ]
    }
   ],
   "source": [
    "fruit_01 = \"사과\"\n",
    "fruit_02 = \"바나나\"\n",
    "fruit_03 = \"키위\"\n",
    "fruit_04 = \"배\"\n",
    "print(fruit_01)\n",
    "print(fruit_02)\n",
    "print(fruit_03)\n",
    "print(fruit_04)"
   ]
  },
  {
   "cell_type": "code",
   "execution_count": 4,
   "id": "0c88c2dd",
   "metadata": {},
   "outputs": [
    {
     "name": "stdout",
     "output_type": "stream",
     "text": [
      "<class 'list'> ['사과', '바나나', '키위', '배']\n"
     ]
    }
   ],
   "source": [
    "list_fruit = [\"사과\", \"바나나\", \"키위\", \"배\"]\n",
    "print(type(list_fruit), list_fruit)"
   ]
  },
  {
   "cell_type": "code",
   "execution_count": 5,
   "id": "979b807a",
   "metadata": {},
   "outputs": [
    {
     "name": "stdout",
     "output_type": "stream",
     "text": [
      "사과 배\n"
     ]
    }
   ],
   "source": [
    "# 리스트 인덱싱\n",
    "list_fruit = [\"사과\", \"바나나\", \"키위\", \"배\"]\n",
    "print(list_fruit[0], list_fruit[3])"
   ]
  },
  {
   "cell_type": "code",
   "execution_count": 7,
   "id": "69e6c6dd",
   "metadata": {},
   "outputs": [],
   "source": [
    "#행 복사 alt + shift + 방향키\n",
    "#행 삭제 alt + x"
   ]
  },
  {
   "cell_type": "code",
   "execution_count": 9,
   "id": "6feec3c9",
   "metadata": {},
   "outputs": [
    {
     "name": "stdout",
     "output_type": "stream",
     "text": [
      "<class 'list'>\n",
      "<class 'int'>\n"
     ]
    }
   ],
   "source": [
    "list_num = [1, 2, 3, 4, 5]\n",
    "print(type(list_num))\n",
    "print(type(list_num[0]))"
   ]
  },
  {
   "cell_type": "code",
   "execution_count": 10,
   "id": "1f28d7f3",
   "metadata": {},
   "outputs": [
    {
     "data": {
      "text/plain": [
       "4"
      ]
     },
     "execution_count": 10,
     "metadata": {},
     "output_type": "execute_result"
    }
   ],
   "source": [
    "num = [1,2,3]\n",
    "num[0]+num[2]"
   ]
  },
  {
   "cell_type": "code",
   "execution_count": 58,
   "id": "09c5baa2",
   "metadata": {},
   "outputs": [
    {
     "name": "stdout",
     "output_type": "stream",
     "text": [
      "[[1, 2], [3, 4], [5, 6]]\n",
      "[1, 2]\n",
      "2\n",
      "4\n",
      "5\n"
     ]
    }
   ],
   "source": [
    "# ★복습\n",
    "# 이차원 배열\n",
    "list_double = [[1, 2], [3, 4], [5, 6]]\n",
    "print(list_double)\n",
    "print(list_double[0])\n",
    "print(list_double[0][1]) #0번째 리스트에서 1번째 리스트를 출력하는 것\n",
    "print(list_double[1][1])\n",
    "print(list_double[2][0])"
   ]
  },
  {
   "cell_type": "code",
   "execution_count": 57,
   "id": "1f1a3714",
   "metadata": {},
   "outputs": [
    {
     "name": "stdout",
     "output_type": "stream",
     "text": [
      "[1, 2, 3]\n",
      "4\n",
      "1과 3의 덧셈 결과 : 4\n",
      "1과 3의 덧셈 결과 : 4\n",
      "1과 3의 덧셈 결과 : 4\n"
     ]
    }
   ],
   "source": [
    "# ★복습\n",
    "list_ex1 = ['a', 'b', 'c', [1, 2, 3]]\n",
    "number= list_ex1[3]\n",
    "print(number)\n",
    "print(list_ex1[3][0]+list_ex1[3][2]) # 이차원 배열 복습!\n",
    "\n",
    "# 포맷팅 방법 3가지\n",
    "print(\"%d과 %d의 덧셈 결과 : %d\"%(list_ex1[3][0], list_ex1[3][2], list_ex1[3][0]+list_ex1[3][2]))\n",
    "print(\"{}과 {}의 덧셈 결과 : {}\".format(list_ex1[3][0], list_ex1[3][2], list_ex1[3][0]+list_ex1[3][2]))\n",
    "print(f\"{list_ex1[3][0]}과 {list_ex1[3][2]}의 덧셈 결과 : {list_ex1[3][0]+list_ex1[3][2]}\") # 세 번째 포맷팅 방식 자꾸 잊어버림"
   ]
  },
  {
   "cell_type": "code",
   "execution_count": 21,
   "id": "f8c5ae04",
   "metadata": {},
   "outputs": [
    {
     "name": "stdout",
     "output_type": "stream",
     "text": [
      "['사과', '바나나']\n"
     ]
    }
   ],
   "source": [
    "list_fruit = [\"사과\", \"바나나\", \"키위\", \"배\"]\n",
    "print(list_fruit[:2])"
   ]
  },
  {
   "cell_type": "code",
   "execution_count": 22,
   "id": "e3a364c9",
   "metadata": {},
   "outputs": [
    {
     "name": "stdout",
     "output_type": "stream",
     "text": [
      "['사과', '바나나', '키위', '배']\n"
     ]
    }
   ],
   "source": [
    "list_fruit_01 = [\"사과\", \"바나나\"]\n",
    "list_fruit_02 = [\"키위\", \"배\"]\n",
    "result = list_fruit_01 + list_fruit_02\n",
    "print(result)"
   ]
  },
  {
   "cell_type": "code",
   "execution_count": 23,
   "id": "61889b31",
   "metadata": {},
   "outputs": [
    {
     "name": "stdout",
     "output_type": "stream",
     "text": [
      "[1, 2, 3, 1, 2, 3, 1, 2, 3]\n"
     ]
    }
   ],
   "source": [
    "num_list = [1, 2, 3]\n",
    "print(num_list*3)"
   ]
  },
  {
   "cell_type": "code",
   "execution_count": 56,
   "id": "7ce748ec",
   "metadata": {},
   "outputs": [
    {
     "name": "stdout",
     "output_type": "stream",
     "text": [
      "3\n",
      "9\n"
     ]
    }
   ],
   "source": [
    "# ★복습\n",
    "#list의 size 측정\n",
    "num_list = [1,2,3]\n",
    "print(len(num_list))\n",
    "print(len(num_list*3))"
   ]
  },
  {
   "cell_type": "code",
   "execution_count": 55,
   "id": "c743d1d7",
   "metadata": {},
   "outputs": [
    {
     "name": "stdout",
     "output_type": "stream",
     "text": [
      "수정하기 전의 값 :  [1, 3, 5, 7, 9, 10] 2350675741184\n",
      "수정한 다음의 값 :  [1, 3, 5, 4, 9, 10] 2350675741184\n"
     ]
    }
   ],
   "source": [
    "# ★복습\n",
    "list_num = [1,3,5,7,9,10]\n",
    "print(\"수정하기 전의 값 : \", list_num, id(list_num))\n",
    "list_num[3] = 4\n",
    "print(\"수정한 다음의 값 : \", list_num, id(list_num)) # id의 값은 바뀌지 않았다. (메모리)"
   ]
  },
  {
   "cell_type": "code",
   "execution_count": 31,
   "id": "84fc492d",
   "metadata": {},
   "outputs": [
    {
     "name": "stdout",
     "output_type": "stream",
     "text": [
      "I\n"
     ]
    },
    {
     "ename": "TypeError",
     "evalue": "'str' object does not support item assignment",
     "output_type": "error",
     "traceback": [
      "\u001b[1;31m---------------------------------------------------------------------------\u001b[0m",
      "\u001b[1;31mTypeError\u001b[0m                                 Traceback (most recent call last)",
      "Input \u001b[1;32mIn [31]\u001b[0m, in \u001b[0;36m<cell line: 3>\u001b[1;34m()\u001b[0m\n\u001b[0;32m      1\u001b[0m msg \u001b[38;5;241m=\u001b[39m \u001b[38;5;124m\"\u001b[39m\u001b[38;5;124mI like soccer\u001b[39m\u001b[38;5;124m\"\u001b[39m\n\u001b[0;32m      2\u001b[0m \u001b[38;5;28mprint\u001b[39m(msg[\u001b[38;5;241m0\u001b[39m])\n\u001b[1;32m----> 3\u001b[0m msg[\u001b[38;5;241m0\u001b[39m] \u001b[38;5;241m=\u001b[39m \u001b[38;5;124m'\u001b[39m\u001b[38;5;124my\u001b[39m\u001b[38;5;124m'\u001b[39m\n",
      "\u001b[1;31mTypeError\u001b[0m: 'str' object does not support item assignment"
     ]
    }
   ],
   "source": [
    "msg = \"I like soccer\"\n",
    "print(msg[0])\n",
    "msg[0] = 'y' # 메시지는 수정 불가능"
   ]
  },
  {
   "cell_type": "code",
   "execution_count": 32,
   "id": "1830c245",
   "metadata": {},
   "outputs": [
    {
     "name": "stdout",
     "output_type": "stream",
     "text": [
      "1 2350561192240\n",
      "2 2350561192272\n"
     ]
    }
   ],
   "source": [
    "a=1\n",
    "print(a, id(a))\n",
    "a=2\n",
    "print(a, id(a)) # id의 값이 바뀌었다. 재할당 되었다."
   ]
  },
  {
   "cell_type": "code",
   "execution_count": 35,
   "id": "e3b0e1cf",
   "metadata": {},
   "outputs": [
    {
     "name": "stdout",
     "output_type": "stream",
     "text": [
      "3\n"
     ]
    }
   ],
   "source": [
    "list_num = [1,3,5,7,9,10,3,3] # 원하는 숫자의 개수를 카운트한다.\n",
    "print(list_num.count(3))"
   ]
  },
  {
   "cell_type": "code",
   "execution_count": 36,
   "id": "bd3f999e",
   "metadata": {},
   "outputs": [
    {
     "name": "stdout",
     "output_type": "stream",
     "text": [
      "[5, 7, 9, 10, 3, 3]\n"
     ]
    }
   ],
   "source": [
    "list_num[0:2] = [] # 리스트의 [0:2]부분의 값을 지운다.\n",
    "print(list_num)"
   ]
  },
  {
   "cell_type": "code",
   "execution_count": 40,
   "id": "6cd54904",
   "metadata": {},
   "outputs": [
    {
     "name": "stdout",
     "output_type": "stream",
     "text": [
      "[5, [], 9, 10, 3, 3]\n"
     ]
    }
   ],
   "source": [
    "list_num[1] = [] #list_num[1]의 값을 비운다.\n",
    "print(list_num)"
   ]
  },
  {
   "cell_type": "code",
   "execution_count": 45,
   "id": "d2d599e3",
   "metadata": {},
   "outputs": [
    {
     "name": "stdout",
     "output_type": "stream",
     "text": [
      "[3, 5, 7, 9, 10, 3, 3]\n"
     ]
    }
   ],
   "source": [
    "# .remove 리스트 값을 삭제한다.\n",
    "list_num = [0,3,5,7,9,10,3,3]\n",
    "list_num.remove(0)\n",
    "print(list_num)"
   ]
  },
  {
   "cell_type": "code",
   "execution_count": 46,
   "id": "bccee610",
   "metadata": {},
   "outputs": [
    {
     "name": "stdout",
     "output_type": "stream",
     "text": [
      "['one', 'two', 'three', 'four', 'five', 'six']\n"
     ]
    }
   ],
   "source": [
    "# .append 새로운 리스트 값을 추가한다.\n",
    "list_number = [\"one\", \"two\", \"three\", \"four\", \"five\"]\n",
    "list_number.append(\"six\")\n",
    "print(list_number)"
   ]
  },
  {
   "cell_type": "code",
   "execution_count": 47,
   "id": "fc1142df",
   "metadata": {},
   "outputs": [
    {
     "name": "stdout",
     "output_type": "stream",
     "text": [
      "[1, 3, 5, 7, 9, 11, 'num']\n"
     ]
    }
   ],
   "source": [
    "list_num = [1, 3, 5, 7, 9, 11]\n",
    "list_num.append(\"num\")\n",
    "print(list_num)"
   ]
  },
  {
   "cell_type": "code",
   "execution_count": 48,
   "id": "75ad1b00",
   "metadata": {},
   "outputs": [
    {
     "name": "stdout",
     "output_type": "stream",
     "text": [
      "[1, 3, 5, 7, 9, 11, 'num', [2, 4, 6, 8]]\n",
      "[0, 1, 3, 5, 7, 9, 11, 'num', [2, 4, 6, 8]]\n"
     ]
    }
   ],
   "source": [
    "list_num.append([2,4,6,8])\n",
    "print(list_num)\n",
    "list_num.insert(0,0) # 0번째 위치에 0을 추가한다.\n",
    "print(list_num)"
   ]
  },
  {
   "cell_type": "code",
   "execution_count": 49,
   "id": "1d8262c2",
   "metadata": {},
   "outputs": [
    {
     "name": "stdout",
     "output_type": "stream",
     "text": [
      "[1, 2, 3, 4, 7, 9]\n"
     ]
    }
   ],
   "source": [
    "# ★복습\n",
    "list_num = [4,7,3,1,2,9]\n",
    "list_num.sort() # 오름차순으로 바뀐다.\n",
    "print(list_num)"
   ]
  },
  {
   "cell_type": "code",
   "execution_count": 50,
   "id": "39233a47",
   "metadata": {},
   "outputs": [
    {
     "name": "stdout",
     "output_type": "stream",
     "text": [
      "[9, 2, 1, 3, 7, 4]\n"
     ]
    }
   ],
   "source": [
    "# ★복습\n",
    "# .reverse 리스트 순서를 거꾸로\n",
    "list_num = [4,7,3,1,2,9]\n",
    "list_num.reverse()\n",
    "print(list_num)"
   ]
  },
  {
   "cell_type": "code",
   "execution_count": 51,
   "id": "b368ea2b",
   "metadata": {
    "scrolled": true
   },
   "outputs": [
    {
     "name": "stdout",
     "output_type": "stream",
     "text": [
      "[9, 7, 4, 3, 2, 1]\n"
     ]
    }
   ],
   "source": [
    "list_num.sort(reverse=True) # hidden인자로 True 입력 -> 내림차순으로 만든다. 기본적으로 reverse=False로 되어있는 것.\n",
    "print(list_num)"
   ]
  },
  {
   "cell_type": "code",
   "execution_count": 52,
   "id": "3cbe4256",
   "metadata": {},
   "outputs": [
    {
     "name": "stdout",
     "output_type": "stream",
     "text": [
      "1:2:3:4:5\n"
     ]
    }
   ],
   "source": [
    "# sep=\" \" 콤마를 원하는 문자나 공백으로 대체\n",
    "print(1,2,3,4,5, sep=\":\")"
   ]
  },
  {
   "cell_type": "code",
   "execution_count": 53,
   "id": "ba9a9a49",
   "metadata": {},
   "outputs": [
    {
     "name": "stdout",
     "output_type": "stream",
     "text": [
      "['egg', 'door', 'cat', 'banana', 'apple']\n"
     ]
    }
   ],
   "source": [
    "# ★복습\n",
    "list_lang = ['banana', 'cat', 'egg', 'apple', 'door']\n",
    "list_lang.sort(reverse=True) # 내림차순 정렬 # 커서를 가져갔을 때 None으로 출력\n",
    "print(list_lang)"
   ]
  },
  {
   "cell_type": "code",
   "execution_count": 61,
   "id": "0f408025",
   "metadata": {},
   "outputs": [
    {
     "name": "stdout",
     "output_type": "stream",
     "text": [
      "2\n"
     ]
    },
    {
     "ename": "ValueError",
     "evalue": "'cds' is not in list",
     "output_type": "error",
     "traceback": [
      "\u001b[1;31m---------------------------------------------------------------------------\u001b[0m",
      "\u001b[1;31mValueError\u001b[0m                                Traceback (most recent call last)",
      "Input \u001b[1;32mIn [61]\u001b[0m, in \u001b[0;36m<cell line: 2>\u001b[1;34m()\u001b[0m\n\u001b[0;32m      1\u001b[0m \u001b[38;5;28mprint\u001b[39m(list_lang\u001b[38;5;241m.\u001b[39mindex(\u001b[38;5;124m'\u001b[39m\u001b[38;5;124mcat\u001b[39m\u001b[38;5;124m'\u001b[39m)) \u001b[38;5;66;03m#'cat'은 리스트에서 몇 번째 문자인지 위치 반환\u001b[39;00m\n\u001b[1;32m----> 2\u001b[0m \u001b[38;5;28mprint\u001b[39m(\u001b[43mlist_lang\u001b[49m\u001b[38;5;241;43m.\u001b[39;49m\u001b[43mindex\u001b[49m\u001b[43m(\u001b[49m\u001b[38;5;124;43m'\u001b[39;49m\u001b[38;5;124;43mcds\u001b[39;49m\u001b[38;5;124;43m'\u001b[39;49m\u001b[43m)\u001b[49m)\n",
      "\u001b[1;31mValueError\u001b[0m: 'cds' is not in list"
     ]
    }
   ],
   "source": [
    "print(list_lang.index('cat')) #'cat'은 리스트에서 몇 번째 문자인지 위치 반환\n",
    "print(list_lang.index('cds')) # 없는 것을 indexing 하면 에러"
   ]
  },
  {
   "cell_type": "code",
   "execution_count": 64,
   "id": "dfc9797b",
   "metadata": {},
   "outputs": [
    {
     "name": "stdout",
     "output_type": "stream",
     "text": [
      "door\n",
      "['banana', 'cat', 'egg', 'apple']\n"
     ]
    }
   ],
   "source": [
    "# ★복습\n",
    "list_lang = ['banana', 'cat', 'egg', 'apple', 'door']\n",
    "print(list_lang.pop()) #pop: 리스트 중 마지막 요소만 끄집어내고 나머지만 남겨라\n",
    "print(list_lang)"
   ]
  },
  {
   "cell_type": "code",
   "execution_count": 66,
   "id": "d854b865",
   "metadata": {},
   "outputs": [
    {
     "name": "stdout",
     "output_type": "stream",
     "text": [
      "['python', 'is', 'fun']\n"
     ]
    }
   ],
   "source": [
    "msg = \"python is fun\"\n",
    "print(msg.split())"
   ]
  },
  {
   "cell_type": "code",
   "execution_count": 67,
   "id": "95399207",
   "metadata": {},
   "outputs": [
    {
     "name": "stdout",
     "output_type": "stream",
     "text": [
      "(1,)\n"
     ]
    }
   ],
   "source": [
    "# 튜플에 값이 하나일 때는 콤마를 꼭 적어야 한다.\n",
    "a = (1,)\n",
    "print(a)"
   ]
  },
  {
   "cell_type": "code",
   "execution_count": 69,
   "id": "03cd160a",
   "metadata": {},
   "outputs": [
    {
     "name": "stdout",
     "output_type": "stream",
     "text": [
      "<class 'tuple'> ()\n"
     ]
    }
   ],
   "source": [
    "tuple_test = ()\n",
    "print(type(tuple_test), tuple_test)"
   ]
  },
  {
   "cell_type": "code",
   "execution_count": 70,
   "id": "0649b0dd",
   "metadata": {},
   "outputs": [
    {
     "name": "stdout",
     "output_type": "stream",
     "text": [
      "<class 'tuple'> (1,)\n"
     ]
    }
   ],
   "source": [
    "tuple_test = (1, )\n",
    "print(type(tuple_test), tuple_test)"
   ]
  },
  {
   "cell_type": "code",
   "execution_count": 71,
   "id": "1b8c4f89",
   "metadata": {},
   "outputs": [
    {
     "name": "stdout",
     "output_type": "stream",
     "text": [
      "<class 'tuple'> (1, 2, 'a', 'b')\n"
     ]
    }
   ],
   "source": [
    "tuple_test = (1, 2, 'a', 'b')\n",
    "print(type(tuple_test), tuple_test)"
   ]
  },
  {
   "cell_type": "code",
   "execution_count": 73,
   "id": "66793330",
   "metadata": {},
   "outputs": [
    {
     "ename": "TypeError",
     "evalue": "'tuple' object does not support item assignment",
     "output_type": "error",
     "traceback": [
      "\u001b[1;31m---------------------------------------------------------------------------\u001b[0m",
      "\u001b[1;31mTypeError\u001b[0m                                 Traceback (most recent call last)",
      "Input \u001b[1;32mIn [73]\u001b[0m, in \u001b[0;36m<cell line: 1>\u001b[1;34m()\u001b[0m\n\u001b[1;32m----> 1\u001b[0m tuple_test[\u001b[38;5;241m0\u001b[39m] \u001b[38;5;241m=\u001b[39m \u001b[38;5;241m10\u001b[39m \u001b[38;5;66;03m# 튜플의 값 변경 불가능\u001b[39;00m\n\u001b[0;32m      2\u001b[0m \u001b[38;5;28mprint\u001b[39m(\u001b[38;5;28mtype\u001b[39m(tuple_test), tuple_test)\n",
      "\u001b[1;31mTypeError\u001b[0m: 'tuple' object does not support item assignment"
     ]
    }
   ],
   "source": [
    "tuple_test[0] = 10 # 튜플의 값 변경 불가능\n",
    "print(type(tuple_test), tuple_test)"
   ]
  },
  {
   "cell_type": "code",
   "execution_count": 75,
   "id": "ef357938",
   "metadata": {},
   "outputs": [
    {
     "ename": "TypeError",
     "evalue": "'tuple' object doesn't support item deletion",
     "output_type": "error",
     "traceback": [
      "\u001b[1;31m---------------------------------------------------------------------------\u001b[0m",
      "\u001b[1;31mTypeError\u001b[0m                                 Traceback (most recent call last)",
      "Input \u001b[1;32mIn [75]\u001b[0m, in \u001b[0;36m<cell line: 1>\u001b[1;34m()\u001b[0m\n\u001b[1;32m----> 1\u001b[0m \u001b[38;5;28;01mdel\u001b[39;00m tuple_test[\u001b[38;5;241m2\u001b[39m] \u001b[38;5;66;03m# 튜플의 값 삭제 불가능\u001b[39;00m\n\u001b[0;32m      2\u001b[0m \u001b[38;5;28mprint\u001b[39m(\u001b[38;5;28mtype\u001b[39m(tuple_test), tuple_test)\n",
      "\u001b[1;31mTypeError\u001b[0m: 'tuple' object doesn't support item deletion"
     ]
    }
   ],
   "source": [
    "del tuple_test[2] # 튜플의 값 삭제 불가능\n",
    "print(type(tuple_test), tuple_test)"
   ]
  },
  {
   "cell_type": "code",
   "execution_count": 78,
   "id": "b03fa225",
   "metadata": {},
   "outputs": [
    {
     "name": "stdout",
     "output_type": "stream",
     "text": [
      "1 2\n",
      "(1, 2, 'a')\n"
     ]
    }
   ],
   "source": [
    "print(tuple_test[0], tuple_test[1]) # 튜플의 값 인덱싱 가능\n",
    "print(tuple_test[0:3]) # 튜플의 값 슬라이싱 가능"
   ]
  },
  {
   "cell_type": "code",
   "execution_count": 80,
   "id": "3b860d78",
   "metadata": {},
   "outputs": [
    {
     "name": "stdout",
     "output_type": "stream",
     "text": [
      "(1, 2, 'a', 'b')\n"
     ]
    }
   ],
   "source": [
    "tuple_test_01 = (1,2)\n",
    "tuple_test_02 = ('a','b')\n",
    "print(tuple_test_01 + tuple_test_02) # 튜플의 더하기 가능"
   ]
  },
  {
   "cell_type": "code",
   "execution_count": 81,
   "id": "901c54bc",
   "metadata": {},
   "outputs": [],
   "source": [
    "# *: 곱하기, /: 나누기, //: 몫, %: 나머지"
   ]
  },
  {
   "cell_type": "code",
   "execution_count": 82,
   "id": "122b3758",
   "metadata": {},
   "outputs": [
    {
     "name": "stdout",
     "output_type": "stream",
     "text": [
      "33\n",
      "1\n",
      "몫은 33이고, 나머지는 1이다.\n"
     ]
    }
   ],
   "source": [
    "(m,n) = divmod(100,3)\n",
    "print(m) # 몫\n",
    "print(n) # 나머지\n",
    "print(\"몫은 %d이고, 나머지는 %d이다.\" %(m,n))"
   ]
  },
  {
   "cell_type": "code",
   "execution_count": 85,
   "id": "c4fd7d95",
   "metadata": {},
   "outputs": [
    {
     "name": "stdout",
     "output_type": "stream",
     "text": [
      "(33, 1)\n",
      "몫은 33이고, 나머지는 1이다.\n"
     ]
    }
   ],
   "source": [
    "# ★ 복습\n",
    "result = divmod(100,3)\n",
    "print(result)\n",
    "print(\"몫은 %d이고, 나머지는 %d이다.\" %result)"
   ]
  },
  {
   "cell_type": "code",
   "execution_count": 4,
   "id": "b0b0cb68",
   "metadata": {},
   "outputs": [
    {
     "name": "stdout",
     "output_type": "stream",
     "text": [
      "<class 'dict'> {'name': '메가스터디', 'address': '강남', 'type': 'python', 'floor': 4}\n",
      "메가스터디\n",
      "<class 'dict'> {'name': '메가스터디', 'address': '강남', 'type': 'python', 'floor': 4, 'python': '010-0000-1111'}\n",
      "<class 'dict'> {'name': '메가스터디', 'address': '신촌', 'type': 'python', 'floor': 4, 'python': '010-0000-1111'}\n",
      "<class 'dict'> {'name': '메가스터디', 'type': 'python', 'floor': 4, 'python': '010-0000-1111'}\n",
      "<class 'dict'> {'name': '메가스터디', 'type': 'python', 'python': '010-0000-1111'}\n",
      "<class 'dict'> {}\n"
     ]
    }
   ],
   "source": [
    "dict_profile = {\"name\":\"메가스터디\", \"address\":\"강남\", \"type\":\"python\",\"floor\":4}\n",
    "\n",
    "print(type(dict_profile), dict_profile)\n",
    "print(dict_profile[\"name\"])\n",
    "\n",
    "dict_profile[\"python\"] = \"010-0000-1111\"\n",
    "print(type(dict_profile), dict_profile)\n",
    "\n",
    "dict_profile[\"address\"] = \"신촌\"\n",
    "print(type(dict_profile), dict_profile)\n",
    "\n",
    "del dict_profile[\"address\"]\n",
    "print(type(dict_profile), dict_profile)\n",
    "\n",
    "dict_profile.pop(\"floor\")\n",
    "print(type(dict_profile), dict_profile)\n",
    "\n",
    "dict_profile.clear()\n",
    "print(type(dict_profile), dict_profile)"
   ]
  },
  {
   "cell_type": "code",
   "execution_count": 10,
   "id": "a4f6188c",
   "metadata": {},
   "outputs": [
    {
     "name": "stdout",
     "output_type": "stream",
     "text": [
      "삼성전자\n"
     ]
    }
   ],
   "source": [
    "le = {'name':\"메가스터디\", \"address\":\"강남\", \"type\":\"python\", \"floor\":4, 'name':\"삼성전자\"}\n",
    "print(le['name'])"
   ]
  },
  {
   "cell_type": "code",
   "execution_count": 12,
   "id": "99f92b1f",
   "metadata": {},
   "outputs": [
    {
     "name": "stdout",
     "output_type": "stream",
     "text": [
      "{'a': 1, 'b': 2, 'c': 3} {'a': 10, 'd': 4, 'e': 5}\n",
      "None\n",
      "{'a': 10, 'b': 2, 'c': 3, 'd': 4, 'e': 5}\n"
     ]
    }
   ],
   "source": [
    "dic_01 = {'a':1, 'b':2, 'c':3}\n",
    "dic_02 = {'a':10, 'd':4, 'e':5}\n",
    "print(dic_01, dic_02)\n",
    "print(dic_01.update(dic_02))\n",
    "print(dic_01)"
   ]
  },
  {
   "cell_type": "code",
   "execution_count": 13,
   "id": "e2b2c896",
   "metadata": {},
   "outputs": [
    {
     "name": "stdout",
     "output_type": "stream",
     "text": [
      "<class 'dict_keys'> dict_keys(['a', 'b', 'c', 'd', 'e'])\n",
      "['a', 'b', 'c', 'd', 'e']\n"
     ]
    }
   ],
   "source": [
    "# key 값만 추출\n",
    "keys = dic_01.keys()\n",
    "print(type(keys), keys)\n",
    "list_keys = list(keys)\n",
    "print(list_keys)"
   ]
  },
  {
   "cell_type": "code",
   "execution_count": 14,
   "id": "8e352623",
   "metadata": {},
   "outputs": [
    {
     "name": "stdout",
     "output_type": "stream",
     "text": [
      "<class 'dict_values'> dict_values([10, 2, 3, 4, 5])\n",
      "[10, 2, 3, 4, 5]\n"
     ]
    }
   ],
   "source": [
    "# value 값만 추출\n",
    "values = dic_01.values()\n",
    "print(type(values), values)\n",
    "list_values = list(values)\n",
    "print(list_values)"
   ]
  },
  {
   "cell_type": "code",
   "execution_count": 20,
   "id": "b9e01392",
   "metadata": {},
   "outputs": [
    {
     "name": "stdout",
     "output_type": "stream",
     "text": [
      "찾고자 하는 작가의 도서명을 입력하세요 도서1\n",
      "작가1\n",
      "입력하실 도서명을 입력하세요 도서1\n",
      "입력하실 작가명을 입력하세요 작가1\n",
      "{'도서1': '작가1', '도서2': '작가2', '도서3': '작가3'}\n"
     ]
    }
   ],
   "source": [
    "book_dict = {\"도서1\":\"작가1\",\"도서2\":\"작가2\", \"도서3\":\"작가3\"}\n",
    "result = input(\"찾고자 하는 작가의 도서명을 입력하세요 \")\n",
    "print(book_dict[result])\n",
    "book_01 = input(\"입력하실 도서명을 입력하세요 \")\n",
    "writer_01 = input(\"입력하실 작가명을 입력하세요 \")\n",
    "\n",
    "book_dict[book_01] = writer_01\n",
    "print(book_dict) # 집 가서 오류 찾아보기"
   ]
  },
  {
   "cell_type": "code",
   "execution_count": 24,
   "id": "4e99760c",
   "metadata": {},
   "outputs": [
    {
     "name": "stdout",
     "output_type": "stream",
     "text": [
      "<class 'set'> {1, 2, 3}\n",
      "{1, 2, 3}\n",
      "[1, 2, 3, 1, 2, 3, 1]\n",
      "1\n",
      "[1, 2, 3, 1, 2, 3]\n"
     ]
    }
   ],
   "source": [
    "set_01 = {1,2,3,1,2,3,1} # set으로 중복 제거\n",
    "list_num = [1,2,3,1,2,3,1]\n",
    "print(type(set_01), set_01)\n",
    "print(set(list_num))\n",
    "\n",
    "set_num_list = list(list_num)\n",
    "print(set_num_list)\n",
    "print(set_num_list.pop()) # 마지막에 있는 1만 끄집어내고, 나머지는 남겼다.\n",
    "print(set_num_list) # 마지막에 있던 1이 사라진 걸 알 수 있다."
   ]
  },
  {
   "cell_type": "code",
   "execution_count": 1,
   "id": "e9560a86",
   "metadata": {},
   "outputs": [
    {
     "name": "stdout",
     "output_type": "stream",
     "text": [
      "합집합 :  {1, 2, 3, 4, 5, 6, 7, 8}\n",
      "합집합 :  {1, 2, 3, 4, 5, 6, 7, 8}\n",
      "합집합 :  {1, 2, 3, 4, 5, 6, 7, 8}\n"
     ]
    }
   ],
   "source": [
    "set_01 = {1,2,3,4,5}\n",
    "set_02 = {4,5,6,7,8}\n",
    "set_union = set_01 | set_02\n",
    "\n",
    "print(\"합집합 : \", set_01 | set_02)\n",
    "print(\"합집합 : \", set_01.union(set_02))\n",
    "print(\"합집합 : \", set_union)"
   ]
  },
  {
   "cell_type": "code",
   "execution_count": 2,
   "id": "81a512d1",
   "metadata": {},
   "outputs": [
    {
     "name": "stdout",
     "output_type": "stream",
     "text": [
      "교집합1 :  {4, 5}\n",
      "교집합2 :  {4, 5}\n",
      "교집합3 :  {4, 5}\n"
     ]
    }
   ],
   "source": [
    "set_inter = set_01 & set_02\n",
    "print(\"교집합1 : \", set_01 & set_02)\n",
    "print(\"교집합2 : \", set_01.intersection(set_02))\n",
    "print(\"교집합3 : \", set_inter)"
   ]
  },
  {
   "cell_type": "code",
   "execution_count": 1,
   "id": "7dc7ed86",
   "metadata": {},
   "outputs": [
    {
     "name": "stdout",
     "output_type": "stream",
     "text": [
      "[4, 5]\n"
     ]
    }
   ],
   "source": [
    "set_01 = {1,2,3,4,5}\n",
    "set_02 = {4,5,6,7,8}\n",
    "list_01 = list(set_01)\n",
    "list_02 = list(set_02)\n",
    "list_result = []\n",
    "\n",
    "for x in list_01 :\n",
    "    for y in list_02 :\n",
    "        if( x == y ) : # x와 y가 같으면 list_result에 넣는다.\n",
    "            list_result.append(x)\n",
    "print(list_result)"
   ]
  },
  {
   "cell_type": "code",
   "execution_count": 2,
   "id": "257ea050",
   "metadata": {},
   "outputs": [
    {
     "name": "stdout",
     "output_type": "stream",
     "text": [
      "차집합1 :  {1, 2, 3}\n",
      "차집합2 :  {1, 2, 3}\n"
     ]
    }
   ],
   "source": [
    "set_01 = {1,2,3,4,5}\n",
    "set_02 = {4,5,6,7,8}\n",
    "print(\"차집합1 : \", set_01-set_02)\n",
    "print(\"차집합2 : \", set_01.difference(set_02))"
   ]
  },
  {
   "cell_type": "code",
   "execution_count": 4,
   "id": "9c0179ec",
   "metadata": {},
   "outputs": [
    {
     "name": "stdout",
     "output_type": "stream",
     "text": [
      "{1, 2, 3, 4, 5, 6, 7, 8, 9}\n"
     ]
    }
   ],
   "source": [
    "set_01 = {1,2,3,4,5}\n",
    "set_02 = {4,5,6,7,8}\n",
    "set_01.add(6)\n",
    "set_01.update({7,8,9})\n",
    "print(set_01)"
   ]
  },
  {
   "cell_type": "code",
   "execution_count": 5,
   "id": "f42ab6e8",
   "metadata": {},
   "outputs": [
    {
     "ename": "KeyError",
     "evalue": "10",
     "output_type": "error",
     "traceback": [
      "\u001b[1;31m---------------------------------------------------------------------------\u001b[0m",
      "\u001b[1;31mKeyError\u001b[0m                                  Traceback (most recent call last)",
      "Input \u001b[1;32mIn [5]\u001b[0m, in \u001b[0;36m<cell line: 1>\u001b[1;34m()\u001b[0m\n\u001b[1;32m----> 1\u001b[0m \u001b[43mset_01\u001b[49m\u001b[38;5;241;43m.\u001b[39;49m\u001b[43mremove\u001b[49m\u001b[43m(\u001b[49m\u001b[38;5;241;43m10\u001b[39;49m\u001b[43m)\u001b[49m \u001b[38;5;66;03m# set에 없는 값을 지우라고 하면 에러\u001b[39;00m\n\u001b[0;32m      2\u001b[0m \u001b[38;5;28mprint\u001b[39m(set_01)\n",
      "\u001b[1;31mKeyError\u001b[0m: 10"
     ]
    }
   ],
   "source": [
    "set_01.remove(10) # set에 없는 값을 지우라고 하면 에러\n",
    "print(set_01)"
   ]
  },
  {
   "cell_type": "code",
   "execution_count": 7,
   "id": "044a917b",
   "metadata": {},
   "outputs": [
    {
     "name": "stdout",
     "output_type": "stream",
     "text": [
      "{'사람3', '사람10', '사람5', '사람2', '사람4', '사람6', '사람1', '사람9', '사람7'}\n",
      "['사람1', '사람10', '사람2', '사람3', '사람4', '사람5', '사람6', '사람7', '사람9']\n"
     ]
    }
   ],
   "source": [
    "photo = {\"사람1\", \"사람2\", \"사람3\", \"사람4\"}\n",
    "dance = {\"사람1\", \"사람7\", \"사람9\", \"사람10\"}\n",
    "sing = {\"사람2\", \"사람3\", \"사람5\", \"사람6\"}\n",
    "\n",
    "result_union = photo | dance | sing\n",
    "list_result = list(result_union)\n",
    "print(photo | dance | sing)\n",
    "list_result.sort()\n",
    "print(list_result) # 왜 사람10 이 가장 뒤로 가지 않지?"
   ]
  },
  {
   "cell_type": "code",
   "execution_count": 8,
   "id": "813e844d",
   "metadata": {},
   "outputs": [
    {
     "name": "stdout",
     "output_type": "stream",
     "text": [
      "True\n",
      "False\n",
      "True\n",
      "False\n",
      "True\n",
      "False\n"
     ]
    }
   ],
   "source": [
    "# 불(True or False 판단)\n",
    "print(bool(\"python\"))\n",
    "print(bool(\"\"))\n",
    "print(bool([1,2,3]))\n",
    "print(bool([]))\n",
    "print(bool(12))\n",
    "print(bool(0))"
   ]
  },
  {
   "cell_type": "code",
   "execution_count": 9,
   "id": "fba2ee8f",
   "metadata": {},
   "outputs": [
    {
     "name": "stdout",
     "output_type": "stream",
     "text": [
      "<class 'bool'> True\n"
     ]
    }
   ],
   "source": [
    "# 자료형 타입을 함께 출력\n",
    "trueOrFalse = True\n",
    "print(type(trueOrFalse), trueOrFalse)"
   ]
  },
  {
   "cell_type": "code",
   "execution_count": 10,
   "id": "e9579413",
   "metadata": {},
   "outputs": [
    {
     "name": "stdout",
     "output_type": "stream",
     "text": [
      "False\n",
      "True\n",
      "True\n"
     ]
    }
   ],
   "source": [
    "a = True\n",
    "b = False\n",
    "c = True\n",
    "\n",
    "print(a and b)\n",
    "print(a and c)\n",
    "print(a or b)"
   ]
  },
  {
   "cell_type": "code",
   "execution_count": 11,
   "id": "dd9dd25b",
   "metadata": {},
   "outputs": [
    {
     "name": "stdout",
     "output_type": "stream",
     "text": [
      "python\n"
     ]
    }
   ],
   "source": [
    "word = \"python\"\n",
    "if word : # word에 값이 들어 있어서 참으로 간주되어 출력된다.\n",
    "    print(word)"
   ]
  },
  {
   "cell_type": "code",
   "execution_count": 13,
   "id": "6f6634ac",
   "metadata": {},
   "outputs": [],
   "source": [
    "a = 3\n",
    "b = 4\n",
    "if(a>b) :\n",
    "    print(\"참\")"
   ]
  },
  {
   "cell_type": "code",
   "execution_count": 14,
   "id": "4f3d1f59",
   "metadata": {},
   "outputs": [
    {
     "name": "stdout",
     "output_type": "stream",
     "text": [
      "참\n"
     ]
    }
   ],
   "source": [
    "a = 3\n",
    "b = 4\n",
    "if(a<b) :\n",
    "    print(\"참\")"
   ]
  }
 ],
 "metadata": {
  "kernelspec": {
   "display_name": "Python 3 (ipykernel)",
   "language": "python",
   "name": "python3"
  },
  "language_info": {
   "codemirror_mode": {
    "name": "ipython",
    "version": 3
   },
   "file_extension": ".py",
   "mimetype": "text/x-python",
   "name": "python",
   "nbconvert_exporter": "python",
   "pygments_lexer": "ipython3",
   "version": "3.9.12"
  }
 },
 "nbformat": 4,
 "nbformat_minor": 5
}
