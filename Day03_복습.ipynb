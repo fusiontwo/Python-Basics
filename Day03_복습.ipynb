{
 "cells": [
  {
   "cell_type": "code",
   "execution_count": 1,
   "id": "9347fa0c",
   "metadata": {},
   "outputs": [],
   "source": [
    "num = 1\n",
    "# print(num > 10)\n",
    "if num > 10 :\n",
    "    print(f\"{num}은 10보다 큽니다.\")"
   ]
  },
  {
   "cell_type": "code",
   "execution_count": 2,
   "id": "f40cdc56",
   "metadata": {},
   "outputs": [
    {
     "name": "stdout",
     "output_type": "stream",
     "text": [
      "11은 10보다 큽니다.\n",
      "if문에 종속되지 않은 실행문\n"
     ]
    }
   ],
   "source": [
    "num = 11\n",
    "# print(num > 10)\n",
    "if num > 10 :\n",
    "    print(f\"{num}은 10보다 큽니다.\")\n",
    "print(\"if문에 종속되지 않은 실행문\")"
   ]
  },
  {
   "cell_type": "code",
   "execution_count": 3,
   "id": "9e9bed46",
   "metadata": {},
   "outputs": [
    {
     "name": "stdout",
     "output_type": "stream",
     "text": [
      "몸무게를 입력하세요55\n",
      "치킨 드셔도 됩니다.\n"
     ]
    }
   ],
   "source": [
    "weight = int(input(\"몸무게를 입력하세요\"))\n",
    "# 몸무게가 60이하라면 '치킨'을 출력\n",
    "if weight <= 60 :\n",
    "    print(\"치킨 드셔도 됩니다.\")"
   ]
  },
  {
   "cell_type": "code",
   "execution_count": 4,
   "id": "77d66c2c",
   "metadata": {},
   "outputs": [
    {
     "name": "stdout",
     "output_type": "stream",
     "text": [
      "몸무게를 입력하세요85\n",
      "운동 시작\n"
     ]
    }
   ],
   "source": [
    "weight = int(input(\"몸무게를 입력하세요\"))\n",
    "if weight >= 80 :\n",
    "    print(\"운동 시작\")"
   ]
  },
  {
   "cell_type": "code",
   "execution_count": 5,
   "id": "4059f97f",
   "metadata": {},
   "outputs": [
    {
     "name": "stdout",
     "output_type": "stream",
     "text": [
      "몸무게를 입력하세요70\n",
      "70kg 입니다.\n"
     ]
    }
   ],
   "source": [
    "weight = int(input(\"몸무게를 입력하세요\"))\n",
    "if weight == 70 :\n",
    "    print(\"70kg 입니다.\")"
   ]
  },
  {
   "cell_type": "code",
   "execution_count": 6,
   "id": "66795214",
   "metadata": {},
   "outputs": [
    {
     "name": "stdout",
     "output_type": "stream",
     "text": [
      "첫번째 정수 입력: 47\n",
      "두번째 정수 입력: 15\n",
      "47가 15보다 크다\n"
     ]
    }
   ],
   "source": [
    "num_01 = int(input(\"첫번째 정수 입력: \"))\n",
    "num_02 = int(input(\"두번째 정수 입력: \"))\n",
    "\n",
    "if num_01 > num_02 :\n",
    "    print(\"%d가 %d보다 크다\"%(num_01, num_02))\n",
    "if num_01 < num_02 :\n",
    "    print(\"%d가 %d보다 작다\"%(num_01, num_02))\n",
    "if num_01 == num_02 :\n",
    "    print(\"%d와 %d은 같다\"%(num_01, num_02))"
   ]
  },
  {
   "cell_type": "code",
   "execution_count": 9,
   "id": "f6df1e6f",
   "metadata": {},
   "outputs": [
    {
     "name": "stdout",
     "output_type": "stream",
     "text": [
      "두개의 정수를 입력하세요 : 10 77\n",
      "10 77\n"
     ]
    }
   ],
   "source": [
    "num_01, num_02 = input(\"두개의 정수를 입력하세요 : \").split( ) # 띄어쓰기를 해서 값을 넣어야 한다. \n",
    "num_01 = int(num_01)\n",
    "num_02 = int(num_02)\n",
    "print(num_01, num_02)"
   ]
  },
  {
   "cell_type": "code",
   "execution_count": 11,
   "id": "a1a56d77",
   "metadata": {},
   "outputs": [
    {
     "name": "stdout",
     "output_type": "stream",
     "text": [
      "두개의 정수를 입력하세요 : 10:77\n",
      "10 77\n"
     ]
    }
   ],
   "source": [
    "num_01, num_02 = input(\"두개의 정수를 입력하세요 : \").split(\":\") #:을 넣어서 값을 넣어야 한다.\n",
    "num_01 = int(num_01)\n",
    "num_02 = int(num_02)\n",
    "print(num_01, num_02)"
   ]
  },
  {
   "cell_type": "code",
   "execution_count": 12,
   "id": "ded9fe06",
   "metadata": {},
   "outputs": [
    {
     "name": "stdout",
     "output_type": "stream",
     "text": [
      "즐기세요\n"
     ]
    }
   ],
   "source": [
    "weight = 70\n",
    "if weight > 75 :\n",
    "    print(\"다이어트\")\n",
    "else :\n",
    "    print(\"즐기세요\")"
   ]
  },
  {
   "cell_type": "code",
   "execution_count": 14,
   "id": "14604fea",
   "metadata": {},
   "outputs": [
    {
     "name": "stdout",
     "output_type": "stream",
     "text": [
      "참입니다.\n"
     ]
    }
   ],
   "source": [
    "trueOrFalse = True\n",
    "if trueOrFalse :   # if trueOrFalse == True 처럼 쓸 필요 없음.\n",
    "    print(\"참입니다.\")\n",
    "else :\n",
    "    print(\"거짓입니다.\")"
   ]
  },
  {
   "cell_type": "code",
   "execution_count": 15,
   "id": "edc7606d",
   "metadata": {},
   "outputs": [
    {
     "name": "stdout",
     "output_type": "stream",
     "text": [
      "도보\n"
     ]
    }
   ],
   "source": [
    "money = 5000\n",
    "if money >= 10000 :\n",
    "    print(\"택시 탑승\")\n",
    "else :\n",
    "    print(\"도보\")"
   ]
  },
  {
   "cell_type": "code",
   "execution_count": 16,
   "id": "f94b955f",
   "metadata": {},
   "outputs": [
    {
     "name": "stdout",
     "output_type": "stream",
     "text": [
      "걸어가시오\n"
     ]
    }
   ],
   "source": [
    "money = 13000\n",
    "if money >= 30000 :\n",
    "    print(\"택시 탑승\")\n",
    "else :\n",
    "    print(\"걸어가시오\")"
   ]
  },
  {
   "cell_type": "code",
   "execution_count": 17,
   "id": "a531881c",
   "metadata": {},
   "outputs": [
    {
     "name": "stdout",
     "output_type": "stream",
     "text": [
      "현재 가진 현금을 입력하세요 :45000\n",
      "택시 탑승\n"
     ]
    }
   ],
   "source": [
    "money = int(input(\"현재 가진 현금을 입력하세요 :\"))\n",
    "if money >= 30000 :\n",
    "    print(\"택시 탑승\")\n",
    "else :\n",
    "    print(\"걸어가시오\")"
   ]
  },
  {
   "cell_type": "code",
   "execution_count": 18,
   "id": "e6307552",
   "metadata": {},
   "outputs": [
    {
     "name": "stdout",
     "output_type": "stream",
     "text": [
      "첫번째 정수를 입력하시오 : 17\n",
      "두번째 정수를 입력하시오 : 64\n",
      "64\n"
     ]
    }
   ],
   "source": [
    "a = int(input(\"첫번째 정수를 입력하시오 : \"))\n",
    "b = int(input(\"두번째 정수를 입력하시오 : \"))\n",
    "if a > b :\n",
    "    print(a)\n",
    "else :\n",
    "    print(b)"
   ]
  },
  {
   "cell_type": "code",
   "execution_count": 19,
   "id": "d7efda30",
   "metadata": {},
   "outputs": [
    {
     "name": "stdout",
     "output_type": "stream",
     "text": [
      "첫번째 정수를 입력하시오 : 99\n",
      "두번째 정수를 입력하시오 : 99\n",
      "a와 b는 같다.\n"
     ]
    }
   ],
   "source": [
    "a = int(input(\"첫번째 정수를 입력하시오 : \"))\n",
    "b = int(input(\"두번째 정수를 입력하시오 : \"))\n",
    "if a > b :\n",
    "    print(a)\n",
    "if a == b :\n",
    "    print(\"a와 b는 같다.\")\n",
    "if a < b :\n",
    "    print(b)"
   ]
  },
  {
   "cell_type": "code",
   "execution_count": 20,
   "id": "26442e8a",
   "metadata": {},
   "outputs": [
    {
     "name": "stdout",
     "output_type": "stream",
     "text": [
      "짐의 무게는 얼마입니까?21\n",
      "짐의 무게는 21kg이며 수수료는 20000입니다.\n"
     ]
    }
   ],
   "source": [
    "weight = int(input(\"짐의 무게는 얼마입니까?\"))\n",
    "if weight < 10 :\n",
    "    print(\"짐의 무게는 %dkg이며 수수료는 없습니다.\"%weight)\n",
    "else :\n",
    "    print(\"짐의 무게는 %dkg이며 수수료는 %d입니다.\"%(weight, (weight//10)*10000))"
   ]
  },
  {
   "cell_type": "code",
   "execution_count": 21,
   "id": "3e1404a7",
   "metadata": {},
   "outputs": [
    {
     "name": "stdout",
     "output_type": "stream",
     "text": [
      "짐의 무게는 얼마입니까?8\n",
      "짐의 무게는 8kg이며 수수료는 없습니다.\n"
     ]
    }
   ],
   "source": [
    "weight = int(input(\"짐의 무게는 얼마입니까?\"))\n",
    "if weight < 10 :\n",
    "    print(\"짐의 무게는 %dkg이며 수수료는 없습니다.\"%weight)\n",
    "else :\n",
    "    print(\"짐의 무게는 %dkg이며 수수료는 %d입니다.\"%(weight, (weight//10)*10000))"
   ]
  },
  {
   "cell_type": "code",
   "execution_count": 22,
   "id": "92d7f5b7",
   "metadata": {},
   "outputs": [
    {
     "name": "stdout",
     "output_type": "stream",
     "text": [
      "짐의 무게는 얼마입니까?21\n",
      "짐의 무게는 21kg이며 수수료는 20000원 입니다.\n"
     ]
    }
   ],
   "source": [
    "weight = int(input(\"짐의 무게는 얼마입니까?\"))\n",
    "price = (weight//10)*10000\n",
    "if weight < 10 :\n",
    "    print(\"짐의 무게는 %dkg이며 수수료는 없습니다.\"%weight)\n",
    "else :\n",
    "    print(\"짐의 무게는 %dkg이며 수수료는 %d원 입니다.\"%(weight, price))"
   ]
  },
  {
   "cell_type": "code",
   "execution_count": 25,
   "id": "b8c80bc0",
   "metadata": {},
   "outputs": [
    {
     "name": "stdout",
     "output_type": "stream",
     "text": [
      "택시 탑승\n",
      "대화한다\n"
     ]
    }
   ],
   "source": [
    "money = 15000\n",
    "talk = True\n",
    "# 중첩 if 문 : 하나의 if문 아래에 다른 if문을 종속\n",
    "if money >= 10000:\n",
    "    print(\"택시 탑승\")\n",
    "    if talk :  # 여기도 if talk == True 처럼 적을 필요 없음\n",
    "        print(\"대화한다\")\n",
    "    else :\n",
    "        print(\"잔다\")\n",
    "else :\n",
    "    print(\"도보\")"
   ]
  },
  {
   "cell_type": "code",
   "execution_count": 26,
   "id": "5ab07978",
   "metadata": {},
   "outputs": [
    {
     "name": "stdout",
     "output_type": "stream",
     "text": [
      "택시 탑승\n",
      "대화한다\n"
     ]
    }
   ],
   "source": [
    "money = 15000\n",
    "talk = True\n",
    "if money >= 10000 and talk:\n",
    "    print(\"택시 탑승\")\n",
    "    print(\"대화한다\")\n",
    "else :\n",
    "    print(\"도보\")"
   ]
  },
  {
   "cell_type": "code",
   "execution_count": 27,
   "id": "31950611",
   "metadata": {},
   "outputs": [
    {
     "name": "stdout",
     "output_type": "stream",
     "text": [
      "A와 B 둘다 참입니다.\n"
     ]
    }
   ],
   "source": [
    "# 비교연산자 and, or, not\n",
    "A = True\n",
    "B = True\n",
    "C = False\n",
    "\n",
    "if A and B :\n",
    "    print(\"A와 B 둘다 참입니다.\")\n",
    "else :\n",
    "    print(\"둘 중 하나는 거짓입니다.\")"
   ]
  },
  {
   "cell_type": "code",
   "execution_count": 28,
   "id": "9e3a0d10",
   "metadata": {},
   "outputs": [
    {
     "name": "stdout",
     "output_type": "stream",
     "text": [
      "A와 B 둘중 하나는 참입니다.\n"
     ]
    }
   ],
   "source": [
    "A = True\n",
    "B = False\n",
    "C = False\n",
    "\n",
    "if A or B :\n",
    "    print(\"A와 B 둘중 하나는 참입니다.\")\n",
    "else :\n",
    "    print(\"두개 다 거짓입니다.\")"
   ]
  },
  {
   "cell_type": "code",
   "execution_count": 39,
   "id": "6837f75b",
   "metadata": {},
   "outputs": [
    {
     "name": "stdout",
     "output_type": "stream",
     "text": [
      "두개 다 거짓입니다.\n"
     ]
    }
   ],
   "source": [
    "A = False\n",
    "B = False\n",
    "C = False\n",
    "\n",
    "if A or B :\n",
    "    print(\"A와 B 둘중 하나는 참입니다.\")\n",
    "else :\n",
    "    print(\"두개 다 거짓입니다.\")"
   ]
  },
  {
   "cell_type": "code",
   "execution_count": 42,
   "id": "8f7af51b",
   "metadata": {},
   "outputs": [
    {
     "name": "stdout",
     "output_type": "stream",
     "text": [
      "거짓입니다.\n"
     ]
    }
   ],
   "source": [
    "if A :\n",
    "    print(\"참입니다.\")\n",
    "else :\n",
    "    print(\"거짓입니다.\")"
   ]
  },
  {
   "cell_type": "code",
   "execution_count": 43,
   "id": "a6de1114",
   "metadata": {},
   "outputs": [
    {
     "name": "stdout",
     "output_type": "stream",
     "text": [
      "참입니다.\n"
     ]
    }
   ],
   "source": [
    "if not A :\n",
    "    print(\"참입니다.\")\n",
    "else :\n",
    "    print(\"거짓입니다.\")"
   ]
  },
  {
   "cell_type": "code",
   "execution_count": 44,
   "id": "a545866b",
   "metadata": {},
   "outputs": [
    {
     "name": "stdout",
     "output_type": "stream",
     "text": [
      "리스트에 4가 있습니다.\n"
     ]
    }
   ],
   "source": [
    "if 4 in [1,2,3,4] :\n",
    "    print(\"리스트에 4가 있습니다.\")"
   ]
  },
  {
   "cell_type": "code",
   "execution_count": 46,
   "id": "3cabe019",
   "metadata": {},
   "outputs": [
    {
     "name": "stdout",
     "output_type": "stream",
     "text": [
      "리스트 내에 1이 있습니다.\n"
     ]
    }
   ],
   "source": [
    "num_list = [1,2,3,4,5]\n",
    "num_01 = 1\n",
    "\n",
    "if num_01 in num_list :\n",
    "    print(f\"리스트 내에 {num_01}이 있습니다.\")"
   ]
  },
  {
   "cell_type": "code",
   "execution_count": 47,
   "id": "1bb2ccd6",
   "metadata": {},
   "outputs": [
    {
     "name": "stdout",
     "output_type": "stream",
     "text": [
      "숫자 하나를 입력하세요15\n",
      "15는 10이상이고 20미만이다.\n"
     ]
    }
   ],
   "source": [
    "number = int(input(\"숫자 하나를 입력하세요\"))\n",
    "\n",
    "if number >= 10 and number < 20 :\n",
    "    print(f\"{number}는 10이상이고 20미만이다.\")"
   ]
  },
  {
   "cell_type": "code",
   "execution_count": 50,
   "id": "1c9dfab3",
   "metadata": {},
   "outputs": [
    {
     "name": "stdout",
     "output_type": "stream",
     "text": [
      "숫자 하나를 입력하세요15\n",
      "15는 10이상이고 20미만이다.\n"
     ]
    }
   ],
   "source": [
    "number = int(input(\"숫자 하나를 입력하세요\"))\n",
    "\n",
    "if 10 <= number < 20 : # C언어와 달리 숫자 범위를 이렇게 표현 가능\n",
    "    print(f\"{number}는 10이상이고 20미만이다.\")"
   ]
  },
  {
   "cell_type": "code",
   "execution_count": 52,
   "id": "82df1fbf",
   "metadata": {},
   "outputs": [
    {
     "name": "stdout",
     "output_type": "stream",
     "text": [
      "숫자 하나를 입력하세요25\n",
      "25는 10보다 작거나 20보다 크다\n"
     ]
    }
   ],
   "source": [
    "number = int(input(\"숫자 하나를 입력하세요\"))\n",
    "\n",
    "if number < 10 or number > 20 :\n",
    "    print(f\"{number}는 10보다 작거나 20보다 크다\")"
   ]
  },
  {
   "cell_type": "code",
   "execution_count": 53,
   "id": "8446e8ac",
   "metadata": {},
   "outputs": [
    {
     "name": "stdout",
     "output_type": "stream",
     "text": [
      "<class 'list'> [1, 2, 3, 4, 5, 6, 7, 8, 9, 10]\n"
     ]
    }
   ],
   "source": [
    "# 1부터 10까지 이루어진 리스트\n",
    "num_list = list(range(1,11)) #range(a,b) -> a는 이상, b는 미만\n",
    "print(type(num_list), num_list)"
   ]
  },
  {
   "cell_type": "code",
   "execution_count": 54,
   "id": "0f72d240",
   "metadata": {},
   "outputs": [
    {
     "name": "stdout",
     "output_type": "stream",
     "text": [
      "<class 'list'> [1, 3, 5, 7, 9, 11, 13, 15, 17, 19, 21, 23, 25, 27, 29, 31, 33, 35, 37, 39, 41, 43, 45, 47, 49, 51, 53, 55, 57, 59, 61, 63, 65, 67, 69, 71, 73, 75, 77, 79, 81, 83, 85, 87, 89, 91, 93, 95, 97, 99]\n"
     ]
    }
   ],
   "source": [
    "# 1부터 100까지 홀수로 이루어진 리스트\n",
    "num_list = list(range(1, 100, 2)) #range(a,b,c) -> a는 이상, b는 미만, c는 간격\n",
    "print(type(num_list), num_list)"
   ]
  },
  {
   "cell_type": "code",
   "execution_count": 56,
   "id": "74f083dc",
   "metadata": {},
   "outputs": [
    {
     "name": "stdout",
     "output_type": "stream",
     "text": [
      "[1, 2, 3, 4, 5, 6, 7, 8, 9, 10]\n",
      "숫자 하나를 입력하세요: 2150\n",
      "해당값 2150는 리스트에 포함되지 않았습니다.\n"
     ]
    }
   ],
   "source": [
    "num_list = list(range(1,11))\n",
    "print(num_list)\n",
    "a = int(input(\"숫자 하나를 입력하세요: \"))\n",
    "if a in num_list :\n",
    "    place = num_list.index(a) # index 자꾸 잊어버리네. 주어진 값의 위치를 추출\n",
    "    print(\"입력하신 숫자는 num_list[%d]에 존재합니다.\"%place)\n",
    "else :\n",
    "    print(f\"해당값 {a}는 리스트에 포함되지 않았습니다.\")"
   ]
  },
  {
   "cell_type": "code",
   "execution_count": 57,
   "id": "cd898c5e",
   "metadata": {},
   "outputs": [
    {
     "name": "stdout",
     "output_type": "stream",
     "text": [
      "저녁을 사먹으시오\n"
     ]
    }
   ],
   "source": [
    "money = 20000\n",
    "hungry = True\n",
    "\n",
    "if money >= 10000 and hungry :\n",
    "    print(\"저녁을 사먹으시오\")\n",
    "else :\n",
    "    print(\"집에 가시오\")"
   ]
  },
  {
   "cell_type": "code",
   "execution_count": 58,
   "id": "0ab06755",
   "metadata": {},
   "outputs": [
    {
     "name": "stdout",
     "output_type": "stream",
     "text": [
      "집에 가시오\n"
     ]
    }
   ],
   "source": [
    "money = 20000\n",
    "hungry = False\n",
    "\n",
    "if money >= 10000 and hungry :\n",
    "    print(\"저녁을 사먹으시오\")\n",
    "else :\n",
    "    print(\"집에 가시오\")"
   ]
  },
  {
   "cell_type": "code",
   "execution_count": 59,
   "id": "2cd50710",
   "metadata": {},
   "outputs": [
    {
     "name": "stdout",
     "output_type": "stream",
     "text": [
      "정수를 입력하세요. 18\n",
      "정수 18는 짝수입니다.\n"
     ]
    }
   ],
   "source": [
    "num = int(input(\"정수를 입력하세요. \"))\n",
    "if num%2 == 0 :\n",
    "    print(\"정수 %d는 짝수입니다.\"%num)\n",
    "else :\n",
    "    print(\"정수 %d는 홀수입니다.\"%num)"
   ]
  },
  {
   "cell_type": "code",
   "execution_count": 60,
   "id": "7cc1e507",
   "metadata": {},
   "outputs": [
    {
     "name": "stdout",
     "output_type": "stream",
     "text": [
      "정수를 입력하세요. 12\n",
      "12은 하샤드 수 입니다.\n"
     ]
    }
   ],
   "source": [
    "# 하샤드 수 구하기(정수가 두 자리수인 경우)\n",
    "num1 = int(input(\"정수를 입력하세요. \"))\n",
    "num2 = num1\n",
    "sum = num2//10 + num2%10\n",
    "if num1%sum == 0 :\n",
    "    print(\"%d은 하샤드 수 입니다.\"%num1)\n",
    "else :\n",
    "    print(\"%d는 하샤드 수가 아닙니다.\"%num1)"
   ]
  },
  {
   "cell_type": "code",
   "execution_count": 66,
   "id": "bc711b1d",
   "metadata": {},
   "outputs": [
    {
     "name": "stdout",
     "output_type": "stream",
     "text": [
      "정수 입력 : 12\n",
      "하샤드 수 입니다.\n"
     ]
    }
   ],
   "source": [
    "# 하샤드 수 구하기(자리수 제한 없이)\n",
    "num = input(\"정수 입력 : \") #str 문자열 형태로 받음(int 안 적음)\n",
    "sum = 0\n",
    "\n",
    "for i in num : # num 안에 각 자릿수가 들어있다. \n",
    "    sum += int(i) # str을 다시 int로 형변환해서 sum에 더한다.\n",
    "    \n",
    "if int(num) % sum == 0 :\n",
    "    print(\"하샤드 수 입니다.\")\n",
    "else :\n",
    "    print(\"하샤드 수가 아닙니다.\")"
   ]
  },
  {
   "cell_type": "code",
   "execution_count": 63,
   "id": "a558364d",
   "metadata": {},
   "outputs": [
    {
     "name": "stdout",
     "output_type": "stream",
     "text": [
      "p\n",
      "y\n",
      "t\n",
      "h\n",
      "o\n",
      "n\n"
     ]
    }
   ],
   "source": [
    "# 바로 위에 있는 for i in num 원리\n",
    "num = 'python'\n",
    "for i in num :\n",
    "    print(i)"
   ]
  },
  {
   "cell_type": "code",
   "execution_count": 70,
   "id": "ed82b3a3",
   "metadata": {},
   "outputs": [
    {
     "name": "stdout",
     "output_type": "stream",
     "text": [
      "10보다 큽니다.\n",
      "20보다 큽니다.\n",
      "30보다 큽니다.\n"
     ]
    }
   ],
   "source": [
    "# if만 이용하면 각각의 조건을 모두 판단\n",
    "score = 100\n",
    "\n",
    "if score > 10 :\n",
    "    print(\"10보다 큽니다.\")\n",
    "if score > 20 :\n",
    "    print(\"20보다 큽니다.\")\n",
    "if score > 30 :\n",
    "    print(\"30보다 큽니다.\")"
   ]
  },
  {
   "cell_type": "code",
   "execution_count": 71,
   "id": "378a9b50",
   "metadata": {},
   "outputs": [
    {
     "name": "stdout",
     "output_type": "stream",
     "text": [
      "10보다 큽니다.\n",
      "정상 종료\n"
     ]
    }
   ],
   "source": [
    "# 한 번이라도 조건을 만족하면 하위 조건은 판단하지 않고 프로그램 종료\n",
    "score = 100\n",
    "if score > 10 :\n",
    "    print(\"10보다 큽니다.\")\n",
    "elif score > 20 :\n",
    "    print(\"20보다 큽니다.\")\n",
    "elif score > 30 :\n",
    "    print(\"30보다 큽니다.\")\n",
    "else :\n",
    "    print(\"10보다 작습니다.\")\n",
    "print(\"정상 종료\")"
   ]
  },
  {
   "cell_type": "code",
   "execution_count": 72,
   "id": "1812ddd0",
   "metadata": {},
   "outputs": [
    {
     "name": "stdout",
     "output_type": "stream",
     "text": [
      "버스\n"
     ]
    }
   ],
   "source": [
    "money = 7500\n",
    "\n",
    "if money >= 10000 :\n",
    "    print(\"택시\")\n",
    "elif 10000 > money >= 2000 : # 10000 > 지워도 의미 동일(이미 앞에서 판단했으니까)\n",
    "    print(\"버스\")\n",
    "elif 2000 > money >= 1000 : # 2000 > 지워도 의미 동일\n",
    "    print(\"킥보드\")\n",
    "else :\n",
    "    print(\"걸어가세요\")"
   ]
  },
  {
   "cell_type": "code",
   "execution_count": 73,
   "id": "f979022e",
   "metadata": {},
   "outputs": [
    {
     "name": "stdout",
     "output_type": "stream",
     "text": [
      "버스\n"
     ]
    }
   ],
   "source": [
    "money = 7500\n",
    "\n",
    "if money >= 10000 :\n",
    "    print(\"택시\")\n",
    "elif money >= 2000 : # 10000 > 지워도 의미 동일(이미 앞에서 판단했으니까)\n",
    "    print(\"버스\")\n",
    "elif money >= 1000 : # 2000 > 지워도 의미 동일\n",
    "    print(\"킥보드\")\n",
    "else :\n",
    "    print(\"걸어가세요\")"
   ]
  },
  {
   "cell_type": "code",
   "execution_count": 75,
   "id": "81bce6ed",
   "metadata": {},
   "outputs": [
    {
     "name": "stdout",
     "output_type": "stream",
     "text": [
      "당신의 학점을 입력하세요.3.86\n",
      "당신의 학점은 B+입니다.\n"
     ]
    }
   ],
   "source": [
    "jumsu = float(input(\"당신의 학점을 입력하세요.\"))\n",
    "if jumsu == 4.5 :\n",
    "    grade = 'A+'\n",
    "elif jumsu >= 4.25 :\n",
    "    grade = 'A'\n",
    "elif jumsu >= 4.0 :\n",
    "    grade = 'A-'\n",
    "elif jumsu >= 3.75 :\n",
    "    grade = 'B+'\n",
    "elif jumsu >= 3.5 :\n",
    "    grade = 'B'\n",
    "elif jumsu >= 3.25 :\n",
    "    grade = 'B-'\n",
    "elif jumsu >= 3.0 :\n",
    "    grade = 'C+'\n",
    "elif jumsu >= 2.75 :\n",
    "    grade = 'C'\n",
    "elif jumsu >= 2.5 :\n",
    "    grade = 'C-'\n",
    "else :\n",
    "    grade = 'F'\n",
    "print(\"당신의 학점은 %s입니다.\"%grade)"
   ]
  },
  {
   "cell_type": "code",
   "execution_count": 76,
   "id": "c5f055df",
   "metadata": {},
   "outputs": [
    {
     "name": "stdout",
     "output_type": "stream",
     "text": [
      "합격\n"
     ]
    }
   ],
   "source": [
    "score = 95\n",
    "if score >= 80 :\n",
    "    print(\"합격\")\n",
    "else :\n",
    "    print(\"불합격\")"
   ]
  },
  {
   "cell_type": "code",
   "execution_count": 77,
   "id": "c00bbba8",
   "metadata": {},
   "outputs": [
    {
     "name": "stdout",
     "output_type": "stream",
     "text": [
      "불합격\n"
     ]
    }
   ],
   "source": [
    "score = 80\n",
    "print(\"합격\") if score > 80 else print(\"불합격\") # 조건부 표현식"
   ]
  },
  {
   "cell_type": "code",
   "execution_count": 79,
   "id": "bae8b732",
   "metadata": {},
   "outputs": [],
   "source": [
    "# 파이썬에서 for문 쓰는 방법.\n",
    "# for A(변수) in B(리스트)\n",
    "# B 안에 있는 값에 순서대로 접근. A라는 변수에 담아 실행. "
   ]
  },
  {
   "cell_type": "code",
   "execution_count": 81,
   "id": "a234c62e",
   "metadata": {},
   "outputs": [
    {
     "name": "stdout",
     "output_type": "stream",
     "text": [
      "hello 1\n",
      "hello 2\n",
      "hello 3\n",
      "hello 4\n",
      "hello 5\n"
     ]
    }
   ],
   "source": [
    "num_list = list(range(1, 6))\n",
    "for A in num_list : # num_list = [1,2,3,4,5]\n",
    "                     # A = 1, 2, 3, 4, 5\n",
    "        print(\"hello\", A)\n",
    "        pass"
   ]
  },
  {
   "cell_type": "code",
   "execution_count": 82,
   "id": "2b9129a0",
   "metadata": {},
   "outputs": [],
   "source": [
    "# 중단점 breakpoint 사용, 디버깅"
   ]
  },
  {
   "cell_type": "code",
   "execution_count": 85,
   "id": "4ba133d3",
   "metadata": {},
   "outputs": [
    {
     "name": "stdout",
     "output_type": "stream",
     "text": [
      "f\n",
      "o\n",
      "r\n",
      " \n",
      "반\n",
      "복\n",
      "문\n",
      " \n",
      "연\n",
      "습\n"
     ]
    }
   ],
   "source": [
    "msg = \"for 반복문 연습\"\n",
    "for text in msg :\n",
    "    print(text)  # 문자열이 하나씩 출력된다."
   ]
  },
  {
   "cell_type": "code",
   "execution_count": 84,
   "id": "2f6db1bc",
   "metadata": {},
   "outputs": [
    {
     "name": "stdout",
     "output_type": "stream",
     "text": [
      "새우깡\n",
      "홈런볼\n",
      "초코파이\n"
     ]
    }
   ],
   "source": [
    "list_cookies = [\"새우깡\", \"홈런볼\", \"초코파이\"]\n",
    "for cookie in list_cookies :\n",
    "    print(cookie)"
   ]
  },
  {
   "cell_type": "code",
   "execution_count": 86,
   "id": "a8981513",
   "metadata": {},
   "outputs": [
    {
     "name": "stdout",
     "output_type": "stream",
     "text": [
      "1\n",
      "0\n",
      "2\n",
      "0\n",
      "3\n",
      "0\n",
      "0\n"
     ]
    }
   ],
   "source": [
    "# for 문 안에서 num = 0을 선언했다.\n",
    "num = 0\n",
    "for num in [1,2,3] : # num = 1\n",
    "    print(num) #1, 2, 3\n",
    "    num = 0\n",
    "    print(num) # 0, 0, 0\n",
    "print(num)  # 마지막에 저장한 0이 출력된다."
   ]
  },
  {
   "cell_type": "code",
   "execution_count": 87,
   "id": "350ece79",
   "metadata": {},
   "outputs": [
    {
     "name": "stdout",
     "output_type": "stream",
     "text": [
      "<class 'str'> one\n",
      "<class 'str'> two\n",
      "<class 'str'> three\n"
     ]
    }
   ],
   "source": [
    "list_num = [\"one\", \"two\", \"three\"]\n",
    "for num in list_num :\n",
    "    print(type(num), num) # 문자열로 이루어진 값들이 들어있다."
   ]
  },
  {
   "cell_type": "code",
   "execution_count": 88,
   "id": "5fd6f489",
   "metadata": {},
   "outputs": [
    {
     "name": "stdout",
     "output_type": "stream",
     "text": [
      "1 2\n",
      "3 4\n",
      "5 6\n"
     ]
    }
   ],
   "source": [
    "tuple_num = ((1,2),(3,4),(5,6))\n",
    "for a,b in tuple_num :\n",
    "    print(a,b)"
   ]
  },
  {
   "cell_type": "code",
   "execution_count": 89,
   "id": "9bec00a9",
   "metadata": {},
   "outputs": [
    {
     "name": "stdout",
     "output_type": "stream",
     "text": [
      "1\n",
      "2\n",
      "3\n",
      "3\n"
     ]
    }
   ],
   "source": [
    "for num in [1,2,3] :\n",
    "    print(num) #1, 2, 3\n",
    "    result = 0\n",
    "    result += num\n",
    "print(result) #result 부분"
   ]
  },
  {
   "cell_type": "code",
   "execution_count": 91,
   "id": "a3980a8d",
   "metadata": {},
   "outputs": [
    {
     "name": "stdout",
     "output_type": "stream",
     "text": [
      "6\n"
     ]
    }
   ],
   "source": [
    "result = 0\n",
    "for num in [1,2,3] : # num = 1\n",
    "    result += num\n",
    "print(result) #result 부분"
   ]
  }
 ],
 "metadata": {
  "kernelspec": {
   "display_name": "Python 3 (ipykernel)",
   "language": "python",
   "name": "python3"
  },
  "language_info": {
   "codemirror_mode": {
    "name": "ipython",
    "version": 3
   },
   "file_extension": ".py",
   "mimetype": "text/x-python",
   "name": "python",
   "nbconvert_exporter": "python",
   "pygments_lexer": "ipython3",
   "version": "3.9.12"
  }
 },
 "nbformat": 4,
 "nbformat_minor": 5
}
