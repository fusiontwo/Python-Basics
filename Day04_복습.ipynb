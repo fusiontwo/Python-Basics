{
 "cells": [
  {
   "cell_type": "code",
   "execution_count": 1,
   "id": "af14546e",
   "metadata": {},
   "outputs": [
    {
     "name": "stdout",
     "output_type": "stream",
     "text": [
      "f\n",
      "o\n",
      "r\n",
      " \n",
      "반\n",
      "복\n",
      "문\n",
      " \n",
      "연\n",
      "습\n"
     ]
    }
   ],
   "source": [
    "# For문 예제를 통한 이해1(문자열)\n",
    "str1 = 'for 반복문 연습'\n",
    "for i in str1 :\n",
    "    print(i)"
   ]
  },
  {
   "cell_type": "code",
   "execution_count": 2,
   "id": "1dfcc502",
   "metadata": {},
   "outputs": [
    {
     "name": "stdout",
     "output_type": "stream",
     "text": [
      "새우깡\n",
      "홈런볼\n",
      "초코파이\n"
     ]
    }
   ],
   "source": [
    "# For문 예제를 통한 이해2(리스트)\n",
    "list_cookies = ['새우깡', '홈런볼', '초코파이']\n",
    "for cookie in list_cookies :\n",
    "    print(cookie)"
   ]
  },
  {
   "cell_type": "code",
   "execution_count": 3,
   "id": "deef3111",
   "metadata": {},
   "outputs": [
    {
     "name": "stdout",
     "output_type": "stream",
     "text": [
      "1\n",
      "0\n",
      "2\n",
      "0\n",
      "3\n",
      "0\n",
      "0\n"
     ]
    }
   ],
   "source": [
    "# 변수의 범위? 영향력 이해\n",
    "a = 0\n",
    "for a in [1,2,3] :\n",
    "    print(a)\n",
    "    a = 0\n",
    "    print(a)\n",
    "print(a)"
   ]
  },
  {
   "cell_type": "code",
   "execution_count": 4,
   "id": "1f8b1ab2",
   "metadata": {},
   "outputs": [
    {
     "name": "stdout",
     "output_type": "stream",
     "text": [
      "<class 'str'> one\n",
      "<class 'str'> two\n",
      "<class 'int'> 3\n"
     ]
    }
   ],
   "source": [
    "# for문 예제 01(list)\n",
    "list_num = ['one', 'two', 3]\n",
    "for a in list_num:\n",
    "    print(type(a), a)"
   ]
  },
  {
   "cell_type": "code",
   "execution_count": 5,
   "id": "1766b777",
   "metadata": {},
   "outputs": [
    {
     "name": "stdout",
     "output_type": "stream",
     "text": [
      "3\n",
      "7\n",
      "11\n"
     ]
    }
   ],
   "source": [
    "# 튜플로 구성된 리스트\n",
    "tupleList = [(1, 2), (3, 4), (5, 6)]\n",
    "for a, b in tupleList:\n",
    "    print(a + b)"
   ]
  },
  {
   "cell_type": "code",
   "execution_count": 10,
   "id": "e25d12d8",
   "metadata": {},
   "outputs": [
    {
     "name": "stdout",
     "output_type": "stream",
     "text": [
      "1 2 3 4 5 6 7 8 9 10 11 12 13 14 15 16 17 18 19 20 21 22 23 24 25 26 27 28 29 30 31 32 33 34 35 36 37 38 39 40 41 42 43 44 45 46 47 48 49 50 51 52 53 54 55 56 57 58 59 60 61 62 63 64 65 66 67 68 69 70 71 72 73 74 75 76 77 78 79 80 81 82 83 84 85 86 87 88 89 90 91 92 93 94 95 96 97 98 99 100 "
     ]
    }
   ],
   "source": [
    "# 긴 범위를 쉽게 작성할 수 있게 도와주는 range함수\n",
    "for num in range(1, 101): #슬라이싱 범위와 같은 개념\n",
    "    print(num, end=' ')"
   ]
  },
  {
   "cell_type": "code",
   "execution_count": 11,
   "id": "a7d48daa",
   "metadata": {},
   "outputs": [
    {
     "name": "stdout",
     "output_type": "stream",
     "text": [
      "0\n",
      "1\n",
      "2\n",
      "3\n",
      "4\n",
      "5\n",
      "6\n",
      "7\n",
      "8\n",
      "9\n",
      "10\n",
      "11\n",
      "12\n",
      "13\n",
      "14\n",
      "15\n",
      "16\n",
      "17\n",
      "18\n",
      "19\n",
      "20\n",
      "21\n",
      "22\n",
      "23\n",
      "24\n",
      "25\n",
      "26\n",
      "27\n",
      "28\n",
      "29\n",
      "30\n",
      "31\n",
      "32\n",
      "33\n",
      "34\n",
      "35\n",
      "36\n",
      "37\n",
      "38\n",
      "39\n",
      "40\n",
      "41\n",
      "42\n",
      "43\n",
      "44\n",
      "45\n",
      "46\n",
      "47\n",
      "48\n",
      "49\n",
      "50\n",
      "51\n",
      "52\n",
      "53\n",
      "54\n",
      "55\n",
      "56\n",
      "57\n",
      "58\n",
      "59\n",
      "60\n",
      "61\n",
      "62\n",
      "63\n",
      "64\n",
      "65\n",
      "66\n",
      "67\n",
      "68\n",
      "69\n",
      "70\n",
      "71\n",
      "72\n",
      "73\n",
      "74\n",
      "75\n",
      "76\n",
      "77\n",
      "78\n",
      "79\n",
      "80\n",
      "81\n",
      "82\n",
      "83\n",
      "84\n",
      "85\n",
      "86\n",
      "87\n",
      "88\n",
      "89\n",
      "90\n",
      "91\n",
      "92\n",
      "93\n",
      "94\n",
      "95\n",
      "96\n",
      "97\n",
      "98\n",
      "99\n",
      "100\n",
      "==================================================\n"
     ]
    }
   ],
   "source": [
    "# For문 예제를 통한 이해(range01)\n",
    "for num in range(101) :   # 0 ~ 100\n",
    "    print(num)\n",
    "print(\"=\" * 50)"
   ]
  },
  {
   "cell_type": "code",
   "execution_count": 12,
   "id": "4e6301ed",
   "metadata": {},
   "outputs": [
    {
     "name": "stdout",
     "output_type": "stream",
     "text": [
      "5\n",
      "4\n",
      "3\n",
      "2\n",
      "1\n"
     ]
    }
   ],
   "source": [
    "# For문 예제를 통한 이해(range03)\n",
    "for i in range(5, 0, -1):   # 5 4 3 2 1 0\n",
    "    print(i)"
   ]
  },
  {
   "cell_type": "code",
   "execution_count": 13,
   "id": "ec1c20b1",
   "metadata": {},
   "outputs": [
    {
     "name": "stdout",
     "output_type": "stream",
     "text": [
      "반복할 횟수를 입력하세요:3\n",
      "0 1 2 \n",
      "끝\n"
     ]
    }
   ],
   "source": [
    "# 반복할 횟수만큼 돌기\n",
    "count = int(input(\"반복할 횟수를 입력하세요:\"))   # 3\n",
    "for i in range(count):  # 0 1 2 => 3번\n",
    "    print(i, end=' ')\n",
    "print()\n",
    "print(\"끝\")"
   ]
  },
  {
   "cell_type": "code",
   "execution_count": 14,
   "id": "ada66166",
   "metadata": {},
   "outputs": [
    {
     "name": "stdout",
     "output_type": "stream",
     "text": [
      "5050\n"
     ]
    }
   ],
   "source": [
    "# for문 예제 02(추가적인 변수 사용법)\n",
    "sum = 0\n",
    "for i in range(1, 101):\n",
    "# for num in range(101) :\n",
    "    sum = sum + i\n",
    "print(sum)"
   ]
  },
  {
   "cell_type": "code",
   "execution_count": 15,
   "id": "3d483d09",
   "metadata": {},
   "outputs": [
    {
     "name": "stdout",
     "output_type": "stream",
     "text": [
      "단수를 입력하세요:6\n",
      "6 X 1 = 6\n",
      "6 X 2 = 12\n",
      "6 X 3 = 18\n",
      "6 X 4 = 24\n",
      "6 X 5 = 30\n",
      "6 X 6 = 36\n",
      "6 X 7 = 42\n",
      "6 X 8 = 48\n",
      "6 X 9 = 54\n"
     ]
    }
   ],
   "source": [
    "# for문 예제 03(구구단)\n",
    "number = int(input(\"단수를 입력하세요:\"))\n",
    "for i in range(1, 10):  # 1 2 3 4 5 6 7 8 9\n",
    "    print(f\"{number} X {i} = {number * i}\")"
   ]
  },
  {
   "cell_type": "code",
   "execution_count": 16,
   "id": "7eb6633e",
   "metadata": {},
   "outputs": [
    {
     "name": "stdout",
     "output_type": "stream",
     "text": [
      "[1, 2, 3, 4, 5, 6, 7, 8, 9]\n"
     ]
    }
   ],
   "source": [
    "# [1 2 3 4 5 6 7 8 9] 리스트 완성하기\n",
    "a = [4, 3, 5, 7, 9, 2, 1]   # 6, 8\n",
    "a.sort()     # [1, 2, 3, 4, 5, 7, 9]\n",
    "\n",
    "for i in range(9):   # 0 1 2 3 4 5 6 7 8\n",
    "    if a[i] != i + 1:\n",
    "        a.insert(i, i + 1)\n",
    "print(a)"
   ]
  },
  {
   "cell_type": "code",
   "execution_count": 17,
   "id": "91a206d1",
   "metadata": {},
   "outputs": [
    {
     "name": "stdout",
     "output_type": "stream",
     "text": [
      "최고점과 최저점을 제외한 평균 점수는 7.75입니다.\n"
     ]
    }
   ],
   "source": [
    "# 최고점과 최저점을 제외하고 평균을 구하시오\n",
    "scores = [8, 7, 8, 8, 9, 4, 6, 8, 10, 8]\n",
    "\n",
    "scores.sort()\n",
    "del scores[0]   # 최저점 \n",
    "del scores[len(scores) - 1] # 최고점\n",
    "\n",
    "sum = 0\n",
    "for score in scores:\n",
    "    sum += score\n",
    "\n",
    "print(\"최고점과 최저점을 제외한 평균 점수는 %g입니다.\" % (sum / len(scores)))"
   ]
  },
  {
   "cell_type": "code",
   "execution_count": 18,
   "id": "0779ddac",
   "metadata": {},
   "outputs": [
    {
     "name": "stdout",
     "output_type": "stream",
     "text": [
      "3 6 9 12 15 18 21 24 27 30 33 36 39 42 45 48 \n"
     ]
    }
   ],
   "source": [
    "# 반복문과 제어문의 조합\n",
    "# # 1 ~ 50 사이의 3의 배수만 출력하세요.\n",
    "# # (1)\n",
    "for i in range(1, 51):\n",
    "    if i % 3 == 0:\n",
    "        print(i, end=\" \")\n",
    "print()"
   ]
  },
  {
   "cell_type": "code",
   "execution_count": 19,
   "id": "b71544e0",
   "metadata": {},
   "outputs": [
    {
     "name": "stdout",
     "output_type": "stream",
     "text": [
      "3 6 9 12 15 18 21 24 27 30 33 36 39 42 45 48 \n"
     ]
    }
   ],
   "source": [
    "# (2)\n",
    "for i in range(3, 51, 3):  # 위와 출력은 같으나 값만 같을뿐... 의미없는 과정\n",
    "    print(i, end=\" \")\n",
    "print()"
   ]
  },
  {
   "cell_type": "code",
   "execution_count": 20,
   "id": "755a992a",
   "metadata": {},
   "outputs": [
    {
     "name": "stdout",
     "output_type": "stream",
     "text": [
      "7의 배수의 개수 14\n"
     ]
    }
   ],
   "source": [
    "# 1 ~ 100 사이의 7의 배수 개수를 구하세요.\n",
    "count = 0\n",
    "for i in range(1, 101):\n",
    "    if i % 7 == 0:\n",
    "        count += 1\n",
    "\n",
    "print(\"7의 배수의 개수\", count)"
   ]
  },
  {
   "cell_type": "code",
   "execution_count": 21,
   "id": "f5279084",
   "metadata": {
    "scrolled": true
   },
   "outputs": [
    {
     "name": "stdout",
     "output_type": "stream",
     "text": [
      "3 9 15 21 27 33 39 45 51 57 63 69 75 81 87 93 99 \n",
      "누적합은 867 입니다.\n"
     ]
    }
   ],
   "source": [
    "# for문 예제 04(and 활용)\n",
    "# # 1~100사이에서 3의 배수이면서 2의 배수가 아닌 수를 한줄에 출력하고, 누적합을 출력.\n",
    "num_list = range(1,101)\n",
    "sum = 0\n",
    "\n",
    "for num in num_list :\n",
    "    if num % 3 ==0 and num % 2 != 0 :\n",
    "        print(num, end=' ')\n",
    "        sum += num\n",
    "    else :\n",
    "        pass\n",
    "print(f\"\\n누적합은 {sum} 입니다.\")"
   ]
  },
  {
   "cell_type": "code",
   "execution_count": 22,
   "id": "9c93f481",
   "metadata": {},
   "outputs": [
    {
     "name": "stdout",
     "output_type": "stream",
     "text": [
      "1번 학생 90점으로 합격입니다\n",
      "2번 학생 25점으로 불합격입니다\n",
      "3번 학생 67점으로 합격입니다\n",
      "4번 학생 45점으로 불합격입니다\n",
      "5번 학생 80점으로 합격입니다\n"
     ]
    }
   ],
   "source": [
    "# for문 예제 05(for&if 조합)\n",
    "list_score = [90, 25, 67, 45, 80]\n",
    "no = 0\n",
    "for a in list_score :\n",
    "    no += 1\n",
    "    if a >= 60 :\n",
    "        print(\"{}번 학생 {}점으로 합격입니다\".format(no, a))\n",
    "    else :\n",
    "        print(\"{}번 학생 {}점으로 불합격입니다\".format(no, a))"
   ]
  },
  {
   "cell_type": "code",
   "execution_count": 23,
   "id": "e1ca489b",
   "metadata": {},
   "outputs": [
    {
     "name": "stdout",
     "output_type": "stream",
     "text": [
      "수를 입력하세요:24\n",
      "1 2 3 4 6 8 12 24 "
     ]
    }
   ],
   "source": [
    "# for문 예제 06(약수 구하기)\n",
    "number = int(input(\"수를 입력하세요:\"))   # 24\n",
    "for i in range(1, number + 1):\n",
    "    if number % i == 0:\n",
    "        print(i, end=\" \")"
   ]
  },
  {
   "cell_type": "code",
   "execution_count": 24,
   "id": "c82b462e",
   "metadata": {},
   "outputs": [
    {
     "name": "stdout",
     "output_type": "stream",
     "text": [
      "숫자 1\n",
      "숫자 2\n",
      "숫자 3\n",
      "숫자 5\n",
      "숫자 6\n",
      "숫자 7\n",
      "숫자 8\n",
      "숫자 9\n",
      "숫자 10\n",
      "프로그램을 종료합니다.\n"
     ]
    }
   ],
   "source": [
    "# continue문 기본 이해 01\n",
    "for num in range(1,11) : \n",
    "    if num == 4 :\n",
    "        continue\n",
    "    print(f\"숫자 {num}\")\n",
    "print(\"프로그램을 종료합니다.\")"
   ]
  },
  {
   "cell_type": "code",
   "execution_count": 25,
   "id": "988f3934",
   "metadata": {},
   "outputs": [
    {
     "name": "stdout",
     "output_type": "stream",
     "text": [
      "숫자 1\n",
      "숫자 2\n",
      "숫자 3\n",
      "숫자 4\n",
      "숫자 5\n",
      "숫자 6\n",
      "숫자 7\n",
      "숫자 8\n",
      "숫자 9\n",
      "숫자 10\n",
      "프로그램을 종료합니다.\n"
     ]
    }
   ],
   "source": [
    "# continue문 기본 이해 02\n",
    "for num in range(1,11) : \n",
    "    print(f\"숫자 {num}\")\n",
    "    continue\n",
    "    # break\n",
    "    print(\"컨티뉴 다음 문장입니다\")\n",
    "print(\"프로그램을 종료합니다.\")"
   ]
  },
  {
   "cell_type": "code",
   "execution_count": 26,
   "id": "f3c0843d",
   "metadata": {},
   "outputs": [
    {
     "name": "stdout",
     "output_type": "stream",
     "text": [
      "408\n"
     ]
    }
   ],
   "source": [
    "# 3부터 50까지 3의 배수의 합을 출력하세요.\n",
    "sum = 0\n",
    "for i in range(3, 51): # 3 4 5 6 .... 50\n",
    "    if i % 3 != 0:\n",
    "        continue   # 아래 코드 수행하지 않고 조건을 보러 간다.\n",
    "\n",
    "    # 3의 배수\n",
    "    sum += i\n",
    "print(sum)"
   ]
  },
  {
   "cell_type": "code",
   "execution_count": 27,
   "id": "9cbfe994",
   "metadata": {},
   "outputs": [
    {
     "name": "stdout",
     "output_type": "stream",
     "text": [
      "숫자 1\n",
      "숫자 2\n",
      "숫자 3\n",
      "숫자 4가 나와 종료합니다.\n",
      "프로그램을 종료합니다.\n"
     ]
    }
   ],
   "source": [
    "# break문 기본 이해\n",
    "for num in range(1,11) : \n",
    "    if num == 4 :\n",
    "        print(f\"숫자 {num}가 나와 종료합니다.\")\n",
    "        break\n",
    "    print(f\"숫자 {num}\")\n",
    "print(\"프로그램을 종료합니다.\")"
   ]
  },
  {
   "cell_type": "code",
   "execution_count": 28,
   "id": "f8823c00",
   "metadata": {},
   "outputs": [
    {
     "name": "stdout",
     "output_type": "stream",
     "text": [
      "1번 학생 90점으로 합격입니다.\n",
      "3번 학생 67점으로 합격입니다.\n",
      "5번 학생 80점으로 합격입니다.\n"
     ]
    }
   ],
   "source": [
    "# for문과 continue\n",
    "list_num = [90, 25, 67, 45, 80]\n",
    "no = 0\n",
    "for a in list_num:\n",
    "    no += 1\n",
    "    if a < 60:\n",
    "        continue\n",
    "    print(\"%s번 학생 %s점으로 합격입니다.\" %(no,a))"
   ]
  },
  {
   "cell_type": "code",
   "execution_count": 29,
   "id": "6232cd48",
   "metadata": {},
   "outputs": [
    {
     "name": "stdout",
     "output_type": "stream",
     "text": [
      "1번 학생 66점으로 합격입니다.\n",
      "2번 학생 72점으로 합격입니다.\n",
      "4번 학생 89점으로 합격입니다.\n"
     ]
    }
   ],
   "source": [
    "# 60점 이상인 학생들의 합격 문구 출력 예시(continue)\n",
    "score = [66, 72, 45, 89, 31]\n",
    "for i in range(len(score)) :\n",
    "    if score[i] < 60 :\n",
    "        continue\n",
    "    print(f\"{i+1}번 학생 {score[i]}점으로 합격입니다.\")"
   ]
  },
  {
   "cell_type": "code",
   "execution_count": 30,
   "id": "92a1b825",
   "metadata": {},
   "outputs": [
    {
     "name": "stdout",
     "output_type": "stream",
     "text": [
      "1번 고객님 b형이시군요. 불발입니다.\n",
      "2번 고객님 b형이시군요. 불발입니다.\n",
      "3번 고객님 ab형이시군요. 불발입니다.\n",
      "4번 고객님 a형이시군요. 당첨되셨습니다.\n"
     ]
    }
   ],
   "source": [
    "# for문 예제 07(break) 가장 먼저 뽑힌 a형 고객을 선착순 1명만 찾는다고 한다고 할 때\n",
    "list_blood_type = ['b', 'b', 'ab', 'a', 'b', 'a', 'b']\n",
    "seq = 0\n",
    "for blood in list_blood_type :\n",
    "    seq += 1\n",
    "    if blood == 'a' :\n",
    "        print(\"{}번 고객님 {}형이시군요. 당첨되셨습니다.\".format(seq, blood))\n",
    "        break\n",
    "    else :\n",
    "        print(\"{}번 고객님 {}형이시군요. 불발입니다.\".format(seq, blood))"
   ]
  },
  {
   "cell_type": "code",
   "execution_count": 31,
   "id": "9543e690",
   "metadata": {},
   "outputs": [
    {
     "name": "stdout",
     "output_type": "stream",
     "text": [
      "[3, 6, 9, 12, 15, 18, 21, 24, 27, 30, 33, 36, 39, 42, 45, 48, 51, 54, 57, 60, 63, 66, 69, 72, 75, 78, 81, 84, 87, 90, 93, 96, 99]\n"
     ]
    }
   ],
   "source": [
    "# 리스트 내포 변형 전\n",
    "# # 1~100까지의 숫자중에 3의 배수를 리스트에 담은 후 해당 리스트를 print 하여라.\n",
    "list_result = []\n",
    "for num in range(1, 101) :\n",
    "    if num % 3 == 0 :\n",
    "        list_result.append(num)\n",
    "print(list_result)"
   ]
  },
  {
   "cell_type": "code",
   "execution_count": 32,
   "id": "e76d740c",
   "metadata": {},
   "outputs": [
    {
     "name": "stdout",
     "output_type": "stream",
     "text": [
      "[3, 6, 9, 12, 15, 18, 21, 24, 27, 30, 33, 36, 39, 42, 45, 48, 51, 54, 57, 60, 63, 66, 69, 72, 75, 78, 81, 84, 87, 90, 93, 96, 99]\n"
     ]
    }
   ],
   "source": [
    "# for문 예제 08(리스트 내포)\n",
    "# # 1~100까지의 숫자중에 3의 배수를 리스트에 담은 후 해당 리스트를 print 하여라\n",
    "list_result = [num for num in range(1, 101) if num % 3 == 0]\n",
    "print(list_result)"
   ]
  },
  {
   "cell_type": "code",
   "execution_count": 33,
   "id": "99b1905e",
   "metadata": {},
   "outputs": [
    {
     "name": "stdout",
     "output_type": "stream",
     "text": [
      "마에다 유지\n"
     ]
    }
   ],
   "source": [
    "# 연습문제 dict 활용 : '메모의 마법' 책의 저자가 누구인지 출력하세요.\n",
    "books_dict = {'자기계발':{'말 그릇':'김윤나', '메모의 마법':'마에다 유지'},\n",
    "              '소설':{'아몬드':'손원평', '나미야 잡화점의 기적':'히가시노 게이고', '어린왕자':'생텍쥐페리'},\n",
    "              '과학':{'마음의 미래':'미치오 카쿠', '시간은 흐르지 않는다':'카를로 로벨리',\n",
    "                    '평행우주':'미치오 카쿠'}}\n",
    "\n",
    "for genre in books_dict:    # 3\n",
    "    books_of_genre = books_dict.get(genre)\n",
    "    if '메모의 마법' in books_of_genre:\n",
    "        print(books_of_genre.get('메모의 마법'))"
   ]
  },
  {
   "cell_type": "code",
   "execution_count": 1,
   "id": "8c7d9a97",
   "metadata": {},
   "outputs": [
    {
     "name": "stdout",
     "output_type": "stream",
     "text": [
      "I love fried chicken\n",
      "I hate fried chicken\n",
      "정확도: 85%\n"
     ]
    }
   ],
   "source": [
    "# 문자 타이핑 정확도 구하기\n",
    "# # 정확도 공식: (일치하는 문자 수 / 전체 문자 수) * 100\n",
    "text = \"I love fried chicken\"\n",
    "input_text = input(text + \"\\n\")\n",
    "\n",
    "correct_count = 0\n",
    "for i in range(len(text)):\n",
    "    if text[i] == input_text[i]:\n",
    "        correct_count += 1\n",
    "ratio = (correct_count / len(text)) * 100\n",
    "print(\"정확도: %g%%\" % ratio) "
   ]
  },
  {
   "cell_type": "code",
   "execution_count": null,
   "id": "c4cd963e",
   "metadata": {},
   "outputs": [],
   "source": [
    "# 중첩 반복문: 반복문 안에 반복문\n",
    "# 바깥 반복문: 천천히 돈다. ex) 세트    \n",
    "# 안쪽 반복문: 빠르게 돈다. ex) 운동 횟수"
   ]
  },
  {
   "cell_type": "code",
   "execution_count": 2,
   "id": "24f9840b",
   "metadata": {},
   "outputs": [
    {
     "name": "stdout",
     "output_type": "stream",
     "text": [
      "스쿼트 1회\n",
      "스쿼트 2회\n",
      "스쿼트 3회\n",
      "스쿼트 4회\n",
      "스쿼트 5회\n",
      "스쿼트 6회\n",
      "스쿼트 7회\n",
      "스쿼트 8회\n",
      "스쿼트 9회\n",
      "스쿼트 10회\n"
     ]
    }
   ],
   "source": [
    "# 스쿼트 10회\n",
    "for i in range(1, 11):\n",
    "    print(\"스쿼트 %d회\" % i)"
   ]
  },
  {
   "cell_type": "code",
   "execution_count": 4,
   "id": "012a6b2f",
   "metadata": {},
   "outputs": [
    {
     "name": "stdout",
     "output_type": "stream",
     "text": [
      "1세트:1회차\n",
      "1세트:2회차\n",
      "1세트:3회차\n",
      "1세트:4회차\n",
      "1세트:5회차\n",
      "1세트:6회차\n",
      "1세트:7회차\n",
      "1세트:8회차\n",
      "1세트:9회차\n",
      "1세트:10회차\n",
      "2세트:1회차\n",
      "2세트:2회차\n",
      "2세트:3회차\n",
      "2세트:4회차\n",
      "2세트:5회차\n",
      "2세트:6회차\n",
      "2세트:7회차\n",
      "2세트:8회차\n",
      "2세트:9회차\n",
      "2세트:10회차\n",
      "3세트:1회차\n",
      "3세트:2회차\n",
      "3세트:3회차\n",
      "3세트:4회차\n",
      "3세트:5회차\n",
      "3세트:6회차\n",
      "3세트:7회차\n",
      "3세트:8회차\n",
      "3세트:9회차\n",
      "3세트:10회차\n"
     ]
    }
   ],
   "source": [
    "# 스쿼트 3세트 10회씩\n",
    "for i in range(1, 4):   # 1 ~ 3세트\n",
    "    for j in range(1, 11):   # 1 ~ 10회\n",
    "        print(\"%d세트:%d회차\" % (i, j))"
   ]
  },
  {
   "cell_type": "code",
   "execution_count": 5,
   "id": "65946db8",
   "metadata": {},
   "outputs": [
    {
     "name": "stdout",
     "output_type": "stream",
     "text": [
      "2 * 1 = 2\n",
      "2 * 2 = 4\n",
      "2 * 3 = 6\n",
      "2 * 4 = 8\n",
      "2 * 5 = 10\n",
      "2 * 6 = 12\n",
      "2 * 7 = 14\n",
      "2 * 8 = 16\n",
      "2 * 9 = 18\n",
      "3 * 1 = 3\n",
      "3 * 2 = 6\n",
      "3 * 3 = 9\n",
      "3 * 4 = 12\n",
      "3 * 5 = 15\n",
      "3 * 6 = 18\n",
      "3 * 7 = 21\n",
      "3 * 8 = 24\n",
      "3 * 9 = 27\n",
      "4 * 1 = 4\n",
      "4 * 2 = 8\n",
      "4 * 3 = 12\n",
      "4 * 4 = 16\n",
      "4 * 5 = 20\n",
      "4 * 6 = 24\n",
      "4 * 7 = 28\n",
      "4 * 8 = 32\n",
      "4 * 9 = 36\n",
      "5 * 1 = 5\n",
      "5 * 2 = 10\n",
      "5 * 3 = 15\n",
      "5 * 4 = 20\n",
      "5 * 5 = 25\n",
      "5 * 6 = 30\n",
      "5 * 7 = 35\n",
      "5 * 8 = 40\n",
      "5 * 9 = 45\n",
      "6 * 1 = 6\n",
      "6 * 2 = 12\n",
      "6 * 3 = 18\n",
      "6 * 4 = 24\n",
      "6 * 5 = 30\n",
      "6 * 6 = 36\n",
      "6 * 7 = 42\n",
      "6 * 8 = 48\n",
      "6 * 9 = 54\n",
      "7 * 1 = 7\n",
      "7 * 2 = 14\n",
      "7 * 3 = 21\n",
      "7 * 4 = 28\n",
      "7 * 5 = 35\n",
      "7 * 6 = 42\n",
      "7 * 7 = 49\n",
      "7 * 8 = 56\n",
      "7 * 9 = 63\n",
      "8 * 1 = 8\n",
      "8 * 2 = 16\n",
      "8 * 3 = 24\n",
      "8 * 4 = 32\n",
      "8 * 5 = 40\n",
      "8 * 6 = 48\n",
      "8 * 7 = 56\n",
      "8 * 8 = 64\n",
      "8 * 9 = 72\n",
      "9 * 1 = 9\n",
      "9 * 2 = 18\n",
      "9 * 3 = 27\n",
      "9 * 4 = 36\n",
      "9 * 5 = 45\n",
      "9 * 6 = 54\n",
      "9 * 7 = 63\n",
      "9 * 8 = 72\n",
      "9 * 9 = 81\n"
     ]
    }
   ],
   "source": [
    "# 이중 for문 예제 09(구구단 출력)\n",
    "for x in range(2,10) :\n",
    "    for y in range(1,10) :\n",
    "        print(\"{} * {} = {}\".format(x, y, x*y))"
   ]
  },
  {
   "cell_type": "code",
   "execution_count": 6,
   "id": "87b9e3b2",
   "metadata": {},
   "outputs": [
    {
     "name": "stdout",
     "output_type": "stream",
     "text": [
      "\n",
      "2 * 1 = 2 2 * 2 = 4 2 * 3 = 6 2 * 4 = 8 2 * 5 = 10 2 * 6 = 12 2 * 7 = 14 2 * 8 = 16 2 * 9 = 18 \n",
      "3 * 1 = 3 3 * 2 = 6 3 * 3 = 9 3 * 4 = 12 3 * 5 = 15 3 * 6 = 18 3 * 7 = 21 3 * 8 = 24 3 * 9 = 27 \n",
      "4 * 1 = 4 4 * 2 = 8 4 * 3 = 12 4 * 4 = 16 4 * 5 = 20 4 * 6 = 24 4 * 7 = 28 4 * 8 = 32 4 * 9 = 36 \n",
      "5 * 1 = 5 5 * 2 = 10 5 * 3 = 15 5 * 4 = 20 5 * 5 = 25 5 * 6 = 30 5 * 7 = 35 5 * 8 = 40 5 * 9 = 45 \n",
      "6 * 1 = 6 6 * 2 = 12 6 * 3 = 18 6 * 4 = 24 6 * 5 = 30 6 * 6 = 36 6 * 7 = 42 6 * 8 = 48 6 * 9 = 54 \n",
      "7 * 1 = 7 7 * 2 = 14 7 * 3 = 21 7 * 4 = 28 7 * 5 = 35 7 * 6 = 42 7 * 7 = 49 7 * 8 = 56 7 * 9 = 63 \n",
      "8 * 1 = 8 8 * 2 = 16 8 * 3 = 24 8 * 4 = 32 8 * 5 = 40 8 * 6 = 48 8 * 7 = 56 8 * 8 = 64 8 * 9 = 72 \n",
      "9 * 1 = 9 9 * 2 = 18 9 * 3 = 27 9 * 4 = 36 9 * 5 = 45 9 * 6 = 54 9 * 7 = 63 9 * 8 = 72 9 * 9 = 81 "
     ]
    }
   ],
   "source": [
    "# 이중 for문 예제 09(구구단 출력 - 프린트문 조작을 통해 예쁘게 출력)\n",
    "for x in range(2,10) : \n",
    "    print(\"\")\n",
    "    for y in range(1,10) :\n",
    "        print(f\"{x} * {y} = {x*y}\", end=' ')"
   ]
  },
  {
   "cell_type": "code",
   "execution_count": 7,
   "id": "2421b5e5",
   "metadata": {},
   "outputs": [
    {
     "name": "stdout",
     "output_type": "stream",
     "text": [
      "[3, 6, 9, 12, 15, 18, 21, 24, 27, 30, 33, 36, 39, 42, 45, 48, 51, 54, 57, 60, 63, 66, 69, 72, 75, 78, 81, 84, 87, 90, 93, 96, 99]\n"
     ]
    }
   ],
   "source": [
    "# For문을 활용하여 리스트에 각종 값을 담기 01\n",
    "result = []\n",
    "for i in range(1, 101):\n",
    "    if i % 3 == 0 :\n",
    "        result.append(i)\n",
    "print(result)"
   ]
  },
  {
   "cell_type": "code",
   "execution_count": 8,
   "id": "9fd17f7e",
   "metadata": {},
   "outputs": [
    {
     "name": "stdout",
     "output_type": "stream",
     "text": [
      "[2, 4, 6, 8, 10, 12, 14, 16, 18, 3, 6, 9, 12, 15, 18, 21, 24, 27, 4, 8, 12, 16, 20, 24, 28, 32, 36, 5, 10, 15, 20, 25, 30, 35, 40, 45, 6, 12, 18, 24, 30, 36, 42, 48, 54, 7, 14, 21, 28, 35, 42, 49, 56, 63, 8, 16, 24, 32, 40, 48, 56, 64, 72, 9, 18, 27, 36, 45, 54, 63, 72, 81]\n"
     ]
    }
   ],
   "source": [
    "# For문을 활용하여 리스트에 각종 값을 담기 02\n",
    "result = list()\n",
    "for x in range(2,10) : \n",
    "    for y in range(1,10) :\n",
    "        # result.append(f\"{x}*{y}={x*y}\")\n",
    "        result.append(x*y)\n",
    "print(result)"
   ]
  },
  {
   "cell_type": "code",
   "execution_count": 9,
   "id": "7e22587b",
   "metadata": {},
   "outputs": [
    {
     "name": "stdout",
     "output_type": "stream",
     "text": [
      "중복되지 않은 직급 : ['a.사장', 'b.부장', 'c.과장', 'd.대리']\n",
      "각 직급별 인원수 : {'a.사장': 1, 'b.부장': 1, 'c.과장': 2, 'd.대리': 2}\n"
     ]
    }
   ],
   "source": [
    "# 제어문(반복문_for) list, set, dic 모두 이용한 마지막 for 예제\n",
    "# # 각종 형 변환 활용가능\n",
    "list_position = ['c.과장', 'b.부장', 'd.대리', 'a.사장', 'd.대리', 'c.과장']\n",
    "set_position = set(list_position)\n",
    "set_to_list_position = list(set_position)\n",
    "set_to_list_position.sort()\n",
    "print(f\"중복되지 않은 직급 : {set_to_list_position}\")\n",
    "\n",
    "dic_position = {}\n",
    "for position1 in set_to_list_position:\n",
    "    count = 0\n",
    "    for position2 in list_position:\n",
    "        if position1 == position2:\n",
    "            count += 1\n",
    "    dic_position[position1] = count\n",
    "\n",
    "print(f\"각 직급별 인원수 : {dic_position}\")"
   ]
  },
  {
   "cell_type": "code",
   "execution_count": 10,
   "id": "a8f838ab",
   "metadata": {},
   "outputs": [
    {
     "name": "stdout",
     "output_type": "stream",
     "text": [
      "<class 'list_iterator'>\n",
      "1\n",
      "2\n",
      "3\n",
      "더이상 없습니다\n"
     ]
    }
   ],
   "source": [
    "# [참고]for문 내부는 이런식으로 돌아간다.\n",
    "list_a = [1,2,3] \n",
    "iter_test = iter(list_a)\n",
    "print(type(iter_test))\n",
    "print(next(iter_test))\n",
    "print(next(iter_test))\n",
    "print(next(iter_test))\n",
    "try :\n",
    "    print(next(iter_test))\n",
    "except :\n",
    "    print('더이상 없습니다')"
   ]
  }
 ],
 "metadata": {
  "kernelspec": {
   "display_name": "Python 3 (ipykernel)",
   "language": "python",
   "name": "python3"
  },
  "language_info": {
   "codemirror_mode": {
    "name": "ipython",
    "version": 3
   },
   "file_extension": ".py",
   "mimetype": "text/x-python",
   "name": "python",
   "nbconvert_exporter": "python",
   "pygments_lexer": "ipython3",
   "version": "3.9.12"
  }
 },
 "nbformat": 4,
 "nbformat_minor": 5
}
