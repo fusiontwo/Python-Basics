{
 "cells": [
  {
   "cell_type": "code",
   "execution_count": 5,
   "id": "181f137b",
   "metadata": {},
   "outputs": [
    {
     "name": "stdout",
     "output_type": "stream",
     "text": [
      "mega 기업의 영업일수는 20이고 일수익은 100입니다. \n",
      "2000\n",
      "mega1 기업의 영업일수는 21이고 일수익은 101입니다. \n",
      "4121\n"
     ]
    }
   ],
   "source": [
    "# 클래스를 사용하지 않고 회계관리 프로그램을 만든다면...\n",
    "result = 0\n",
    "def account(company, day, money) : \n",
    "    print(f\"{company} 기업의 영업일수는 {day}이고 일수익은 {money}입니다. \")\n",
    "    \n",
    "    global result\n",
    "    result += money*day\n",
    "    return result\n",
    "\n",
    "company = \"mega\"\n",
    "day = 20\n",
    "money = 100\n",
    "\n",
    "monthly_money = account(company, day, money)\n",
    "print(monthly_money)\n",
    "\n",
    "# # 새로운 회사가 사용을 요청한다면... 변수가 증가...\n",
    "# # 지금은 하나의 회사가 추가 되었으나 수십~ 수백개의 회사가 요청한다면...\n",
    "company1 = \"mega1\"\n",
    "day1 = 21\n",
    "money1 = 101\n",
    "\n",
    "monthly_money2 = account(company1, day1, money1)\n",
    "print(monthly_money2)"
   ]
  },
  {
   "cell_type": "code",
   "execution_count": 6,
   "id": "bf648bd3",
   "metadata": {},
   "outputs": [],
   "source": [
    "# 이와같은 방법으로 변수 관리를 할수도 있겠지만... 이는 객체지향과는 거리가 멀다...\n",
    "list_cName = [\"mega1\", \"mega2\", \"mega3\"]\n",
    "list_day = [\"day1\", \"day2\", \"day3\"]\n",
    "list_money = [\"money1\", \"money2\", \"money3\"]"
   ]
  },
  {
   "cell_type": "code",
   "execution_count": 7,
   "id": "60c918af",
   "metadata": {},
   "outputs": [
    {
     "name": "stdout",
     "output_type": "stream",
     "text": [
      "<class 'int'>\n",
      "<class 'float'>\n",
      "<class 'str'>\n",
      "<class 'list'>\n",
      "<class 'tuple'>\n"
     ]
    }
   ],
   "source": [
    "# 전부다 클래스\n",
    "print(type(3))\n",
    "print(type(3.1))\n",
    "print(type('3'))\n",
    "print(type([]))\n",
    "print(type(()))"
   ]
  },
  {
   "cell_type": "code",
   "execution_count": 8,
   "id": "673d3fa0",
   "metadata": {},
   "outputs": [
    {
     "name": "stdout",
     "output_type": "stream",
     "text": [
      "<class '__main__.account'> 2669314483872\n",
      "<class '__main__.account'> 2669314484016\n"
     ]
    }
   ],
   "source": [
    "# 클래스의 기본 구조\n",
    "class account :\n",
    "    pass\n",
    "\n",
    "company_A = account()\n",
    "print(type(company_A), id(company_A))\n",
    "company_B = account()\n",
    "print(type(company_B), id(company_B))"
   ]
  },
  {
   "cell_type": "code",
   "execution_count": 9,
   "id": "2db5790f",
   "metadata": {},
   "outputs": [],
   "source": [
    "# 클래스 구성 하나하나 천천히\n",
    "class account :\n",
    "    # 변수를 할당하는 역할을 하는 메소드(함수)\n",
    "    def set_data (self, name, day, money) :\n",
    "        self.name = name\n",
    "        self.day = day\n",
    "        self.money = money\n",
    "        self.result = 0\n",
    "    # 인스턴스 변수를 이용해 월수익을 계산하는 역할을 하는 메소드(함수)    \n",
    "    def sumMoney(self) :\n",
    "        for i in range(self.day) : \n",
    "            self.result += self.money\n",
    "        return self.result\n",
    "    # 월수익에 보너스를 추가하여 누적시키는 역할을 하는 메소드(함수)\n",
    "    def bonus_add(self, bouns) :\n",
    "        self.result += bouns"
   ]
  },
  {
   "cell_type": "code",
   "execution_count": 10,
   "id": "6b2d4f36",
   "metadata": {},
   "outputs": [
    {
     "name": "stdout",
     "output_type": "stream",
     "text": [
      "=========================\n",
      "상호명   : mega\n",
      "영업일수 : 20\n",
      "일수익   : 100\n",
      "월수익   : 2000\n"
     ]
    }
   ],
   "source": [
    "# account클래스를 이용해 company_A인스턴스(객체)를 생성\n",
    "company_A = account()\n",
    "company_A.set_data('mega', 20, 100)\n",
    "# print(company_A.__dict__,'네임 스페이스')\n",
    "print(\"=\"*25)\n",
    "print(\"상호명   :\", company_A.name)\n",
    "print(\"영업일수 :\", company_A.day)\n",
    "print(\"일수익   :\", company_A.money)\n",
    "print(\"월수익   :\", company_A.sumMoney())"
   ]
  },
  {
   "cell_type": "code",
   "execution_count": 11,
   "id": "416908d7",
   "metadata": {},
   "outputs": [
    {
     "name": "stdout",
     "output_type": "stream",
     "text": [
      "보너스 추가된 금액 :  3000\n",
      "=========================\n"
     ]
    }
   ],
   "source": [
    "# 기존 result에 bouns를 추가 누적 시키는 역할\n",
    "company_A.bonus_add(1000)\n",
    "print(\"보너스 추가된 금액 : \",company_A.result)\n",
    "# print(company_A.bonus)                # 해당 변수는 인스턴스 변수가 아닌 매개 변수로 함수 종료후 사라짐 출력X\n",
    "print(\"=\"*25)"
   ]
  },
  {
   "cell_type": "code",
   "execution_count": 12,
   "id": "ab969d0e",
   "metadata": {
    "scrolled": true
   },
   "outputs": [
    {
     "name": "stdout",
     "output_type": "stream",
     "text": [
      "상호명   : samsung\n",
      "영업일수 : 22\n",
      "일수익   : 300\n",
      "월수익   : 6600\n",
      "=========================\n"
     ]
    }
   ],
   "source": [
    "# account클래스를 이용해 company_B인스턴스(객체)를 생성\n",
    "company_B = account()\n",
    "company_B.set_data('samsung', 22, 300)\n",
    "print(\"상호명   :\", company_B.name)\n",
    "print(\"영업일수 :\", company_B.day)\n",
    "print(\"일수익   :\", company_B.money)\n",
    "print(\"월수익   :\", company_B.sumMoney())\n",
    "print(\"=\"*25)"
   ]
  },
  {
   "cell_type": "code",
   "execution_count": 13,
   "id": "2848ecc1",
   "metadata": {},
   "outputs": [],
   "source": [
    "# 지금까지 배운 내용을 정리해보면 파이썬의 클래스를 이용하면 프로그래머가 원하는 새로운 타입을 만들 수 있다.\n",
    "# # 생성된 타입은 변수에 데이터를 할당하고 그 데이터를 처리하는 메서드(함수)로 구성되어 있다."
   ]
  },
  {
   "cell_type": "code",
   "execution_count": 14,
   "id": "75023070",
   "metadata": {},
   "outputs": [
    {
     "name": "stdout",
     "output_type": "stream",
     "text": [
      "0\n",
      "20\n"
     ]
    }
   ],
   "source": [
    "# 함수를 이용해 하나의 값을 누적해서 이를 해결하기 위해 global//재할당 방법을 사용했으나\n",
    "result = 0\n",
    "def add(num) : \n",
    "    global result\n",
    "    result += num\n",
    "    return result\n",
    "print(result)\n",
    "add(10)\n",
    "add(10)\n",
    "print(result)"
   ]
  },
  {
   "cell_type": "code",
   "execution_count": 15,
   "id": "ef4bd4c7",
   "metadata": {},
   "outputs": [
    {
     "name": "stdout",
     "output_type": "stream",
     "text": [
      "Plus 함수 수행횟수 :  1\n",
      "Plus 함수 수행횟수 :  2\n",
      "200\n",
      "Plus 함수 수행횟수 :  3\n",
      "300\n"
     ]
    }
   ],
   "source": [
    "# 클래스를 사용한다면 아래와 같이 사용가능하다\n",
    "class Calculator :\n",
    "    # 클래스 변수 사용을 통한 채번/넘버링\n",
    "    count = 0\n",
    "    def __init__(self) :\n",
    "        self.result = 0\n",
    "    \n",
    "    def plus(self, num) :\n",
    "        Calculator.count += 1\n",
    "        self.result += num\n",
    "        return self.result\n",
    "\n",
    "cal_a = Calculator()\n",
    "cal_a.plus(100)\n",
    "print(\"Plus 함수 수행횟수 : \", cal_a.count)\n",
    "cal_a.plus(100)\n",
    "print(\"Plus 함수 수행횟수 : \", cal_a.count)\n",
    "print(cal_a.result)\n",
    "\n",
    "cal_b = Calculator()\n",
    "cal_b.plus(300)\n",
    "print(\"Plus 함수 수행횟수 : \", cal_b.count)\n",
    "print(cal_b.result)"
   ]
  },
  {
   "cell_type": "code",
   "execution_count": 16,
   "id": "1fb3e60d",
   "metadata": {},
   "outputs": [
    {
     "name": "stdout",
     "output_type": "stream",
     "text": [
      "생성자 입니다.\n"
     ]
    }
   ],
   "source": [
    "# 클래스에 생성자로 변수를 초기화 해보자\n",
    "# # 생성자 테스트\n",
    "class test_init :\n",
    "    def __init__(self) :\n",
    "        print(\"생성자 입니다.\")\n",
    "\n",
    "test_print = test_init()"
   ]
  },
  {
   "cell_type": "code",
   "execution_count": 17,
   "id": "2997084e",
   "metadata": {},
   "outputs": [],
   "source": [
    "# 앞선 코드 중 set_data 메소드를 __init__메소드로 변형\n",
    "class account :\n",
    "    # 변수를 할당하는 역할을 하는 메소드(함수)\n",
    "    def __init__(self, name, day, money) :\n",
    "        self.name = name\n",
    "        self.day = day\n",
    "        self.money = money\n",
    "        self.result = 0\n",
    "    # 인스턴스 변수를 이용해 월수익을 계산하는 역할을 하는 메소드(함수)    \n",
    "    def sumMoney(self) :\n",
    "        for i in range(self.day) : \n",
    "            self.result += self.money\n",
    "        return self.result\n",
    "    # 월수익에 보너스를 추가하여 누적시키는 역할을 하는 메소드(함수)\n",
    "    def bonus_add(self, bouns) :\n",
    "        self.result += bouns"
   ]
  },
  {
   "cell_type": "code",
   "execution_count": 18,
   "id": "8083a4e5",
   "metadata": {},
   "outputs": [
    {
     "name": "stdout",
     "output_type": "stream",
     "text": [
      "{'name': 'mega', 'day': 20, 'money': 100, 'result': 0} 네임 스페이스\n",
      "=========================\n",
      "상호명   : mega\n",
      "영업일수 : 20\n",
      "일수익   : 100\n",
      "월수익   : 2000\n"
     ]
    }
   ],
   "source": [
    "# account클래스를 이용해 company_A인스턴스(객체)를 생성\n",
    "company_A = account('mega', 20, 100)\n",
    "# company_A.set_data('mega', 20, 100)\n",
    "print(company_A.__dict__,'네임 스페이스')\n",
    "print(\"=\"*25)\n",
    "print(\"상호명   :\", company_A.name)\n",
    "print(\"영업일수 :\", company_A.day)\n",
    "print(\"일수익   :\", company_A.money)\n",
    "print(\"월수익   :\", company_A.sumMoney())"
   ]
  },
  {
   "cell_type": "code",
   "execution_count": 19,
   "id": "a2dfe2f5",
   "metadata": {},
   "outputs": [
    {
     "name": "stdout",
     "output_type": "stream",
     "text": [
      "보너스 추가된 금액 :  3000\n",
      "=========================\n"
     ]
    }
   ],
   "source": [
    "# 기존 result에 bouns를 추가 누적 시키는 역할\n",
    "company_A.bonus_add(1000)\n",
    "print(\"보너스 추가된 금액 : \",company_A.result)\n",
    "# print(company_A.bonus)                        # 해당 변수는 인스턴스 변수가 아닌 매개 변수로 함수 종료후 사라짐 출력X\n",
    "print(\"=\"*25)"
   ]
  },
  {
   "cell_type": "code",
   "execution_count": 20,
   "id": "7c34d9f9",
   "metadata": {
    "scrolled": true
   },
   "outputs": [
    {
     "name": "stdout",
     "output_type": "stream",
     "text": [
      "상호명   : samsung\n",
      "영업일수 : 22\n",
      "일수익   : 300\n",
      "월수익   : 6600\n",
      "=========================\n"
     ]
    }
   ],
   "source": [
    "# account클래스를 이용해 company_B인스턴스(객체)를 생성\n",
    "company_B = account('samsung', 22, 300)\n",
    "# company_B.set_data('samsung', 22, 300)\n",
    "print(\"상호명   :\", company_B.name)\n",
    "print(\"영업일수 :\", company_B.day)\n",
    "print(\"일수익   :\", company_B.money)\n",
    "print(\"월수익   :\", company_B.sumMoney())\n",
    "print(\"=\"*25)"
   ]
  },
  {
   "cell_type": "code",
   "execution_count": 21,
   "id": "18adbe06",
   "metadata": {},
   "outputs": [],
   "source": [
    "# # 메서드의 첫 번째 인자는 항상 self여야 한다고 했습니다.\n",
    "# # 하지만 메서드의 첫 번째 인자가 항상 self여야 한다는 것은 사실 틀린 말입니다. \n",
    "# # 이번 절에서는 파이썬 클래스에서 self의 정체를 확실히 이해해야 한다."
   ]
  },
  {
   "cell_type": "code",
   "execution_count": 22,
   "id": "82315357",
   "metadata": {},
   "outputs": [],
   "source": [
    "# func1() 메서드의 첫 번째 인자가 self가 아님에도 클래스를 정의할 때 \n",
    "# # 에러가 발생하지 않는다는 점입니다.\n",
    "class Foo:\n",
    "    def func1():\n",
    "        print(\"function 1\")\n",
    "    def func2(self):\n",
    "        print(id(self), self)\n",
    "        print(\"function 2\")"
   ]
  },
  {
   "cell_type": "code",
   "execution_count": 23,
   "id": "3db73339",
   "metadata": {},
   "outputs": [
    {
     "name": "stdout",
     "output_type": "stream",
     "text": [
      "2669317945136 <__main__.Foo object at 0x0000026D7FBF7730>\n",
      "2669317945136 <__main__.Foo object at 0x0000026D7FBF7730>\n",
      "function 2\n",
      "function 1\n"
     ]
    }
   ],
   "source": [
    "f = Foo()\n",
    "print(id(f), f)\n",
    "f.func2()\n",
    "# f.func1()\n",
    "Foo.func1()"
   ]
  },
  {
   "cell_type": "code",
   "execution_count": 24,
   "id": "c416e92d",
   "metadata": {},
   "outputs": [],
   "source": [
    "# 클래스변수와 인스턴스 변수\n",
    "class Account:\n",
    "    num_accounts = 0\n",
    "    def __init__(self, name):\n",
    "            self.name = name\n",
    "            Account.num_accounts += 1"
   ]
  },
  {
   "cell_type": "code",
   "execution_count": 25,
   "id": "ad1711d7",
   "metadata": {},
   "outputs": [
    {
     "name": "stdout",
     "output_type": "stream",
     "text": [
      "0\n",
      "1 CHI1\n",
      "2 CHI2\n",
      "3 CHI3\n",
      "4 CHI4 {'name': 'CHI4'}\n",
      "100 CHI1 {'name': 'CHI1', 'num_accounts': 100}\n",
      "4\n"
     ]
    }
   ],
   "source": [
    "print(Account.num_accounts)\n",
    "# print(Account.name)\n",
    "test_A = Account ('CHI1')\n",
    "print(test_A.num_accounts, test_A.name)\n",
    "test_B = Account ('CHI2')\n",
    "print(test_B.num_accounts, test_B.name)\n",
    "test_A.num_accounts = 100\n",
    "test_c = Account ('CHI3')\n",
    "print(test_c.num_accounts, test_c.name)\n",
    "test_d = Account ('CHI4')\n",
    "print(test_d.num_accounts, test_d.name, test_d.__dict__)\n",
    "print(test_A.num_accounts, test_A.name, test_A.__dict__)\n",
    "print(test_B.num_accounts)"
   ]
  },
  {
   "cell_type": "code",
   "execution_count": 26,
   "id": "fc6647b6",
   "metadata": {},
   "outputs": [
    {
     "name": "stdout",
     "output_type": "stream",
     "text": [
      "클래스 입니다.\n"
     ]
    }
   ],
   "source": [
    "# 클래스변수와 인스턴스 변수\n",
    "class Calculator:\n",
    "    cal_number = 0\n",
    "    def __init__(self, first, second):\n",
    "        Calculator.cal_number += 1\n",
    "        self.first = first\n",
    "        self.second = second\n",
    "    \n",
    "    def add(self):\n",
    "        result = self.first + self.second\n",
    "        return result\n",
    "\n",
    "    def mul(self):\n",
    "        result = self.first * self.second\n",
    "        return result\n",
    "    print(\"클래스 입니다.\")"
   ]
  },
  {
   "cell_type": "code",
   "execution_count": 27,
   "id": "0eba9424",
   "metadata": {},
   "outputs": [
    {
     "name": "stdout",
     "output_type": "stream",
     "text": [
      "1 cal_01\n",
      "101 cal_02\n",
      "101 cal_01\n"
     ]
    }
   ],
   "source": [
    "cal_01 = Calculator(30, 40)\n",
    "print(cal_01.cal_number, \"cal_01\")\n",
    "Calculator.cal_number = 100\n",
    "cal_02 = Calculator(30, 40)\n",
    "print(cal_02.cal_number, \"cal_02\")\n",
    "print(cal_01.cal_number, \"cal_01\")"
   ]
  },
  {
   "cell_type": "code",
   "execution_count": 28,
   "id": "e287f2ec",
   "metadata": {},
   "outputs": [
    {
     "name": "stdout",
     "output_type": "stream",
     "text": [
      "<class '__main__.Cellphone'>\n",
      "apple\n",
      "iphone11pro\n",
      "1200000\n",
      "gold\n",
      "100000\n",
      "전화하기\n",
      "카메라 찰칵\n",
      "제조사는 apple이며 모델명 iphone11pro고 가격은 1200000, 시리얼은 100000입니다.\n",
      "제조사는 samsung이며 모델명 21s-plus고 가격은 830000, 시리얼은 100001입니다.\n",
      "제조사는 samsung이며 모델명 21s-plus고 가격은 830000, 시리얼은 100002입니다.\n",
      "제조사는 samsung이며 모델명 21s-plus고 가격은 830000, 시리얼은 100003입니다.\n",
      "제조사는 samsung이며 모델명 21s-plus고 가격은 830000, 시리얼은 100004입니다.\n",
      "제조사는 samsung이며 모델명 21s-plus고 가격은 830000, 시리얼은 100005입니다.\n",
      "제조사는 samsung이며 모델명 21s-plus고 가격은 830000, 시리얼은 100006입니다.\n",
      "제조사는 samsung이며 모델명 21s-plus고 가격은 830000, 시리얼은 100007입니다.\n",
      "제조사는 samsung이며 모델명 21s-plus고 가격은 830000, 시리얼은 100008입니다.\n",
      "제조사는 samsung이며 모델명 21s-plus고 가격은 830000, 시리얼은 100009입니다.\n",
      "제조사는 samsung이며 모델명 21s-plus고 가격은 830000, 시리얼은 100010입니다.\n",
      "제조사는 samsung이며 모델명 21s-plus고 가격은 830000, 시리얼은 100011입니다.\n",
      "제조사는 samsung이며 모델명 21s-plus고 가격은 830000, 시리얼은 100012입니다.\n",
      "제조사는 samsung이며 모델명 21s-plus고 가격은 830000, 시리얼은 100013입니다.\n",
      "제조사는 samsung이며 모델명 21s-plus고 가격은 830000, 시리얼은 100014입니다.\n",
      "제조사는 samsung이며 모델명 21s-plus고 가격은 830000, 시리얼은 100015입니다.\n",
      "제조사는 samsung이며 모델명 21s-plus고 가격은 830000, 시리얼은 100016입니다.\n",
      "제조사는 samsung이며 모델명 21s-plus고 가격은 830000, 시리얼은 100017입니다.\n",
      "제조사는 samsung이며 모델명 21s-plus고 가격은 830000, 시리얼은 100018입니다.\n",
      "제조사는 samsung이며 모델명 21s-plus고 가격은 830000, 시리얼은 100019입니다.\n",
      "제조사는 samsung이며 모델명 21s-plus고 가격은 830000, 시리얼은 100020입니다.\n",
      "제조사는 samsung이며 모델명 21s-plus고 가격은 830000, 시리얼은 100021입니다.\n",
      "제조사는 samsung이며 모델명 21s-plus고 가격은 830000, 시리얼은 100022입니다.\n",
      "제조사는 samsung이며 모델명 21s-plus고 가격은 830000, 시리얼은 100023입니다.\n",
      "제조사는 samsung이며 모델명 21s-plus고 가격은 830000, 시리얼은 100024입니다.\n",
      "제조사는 samsung이며 모델명 21s-plus고 가격은 830000, 시리얼은 100025입니다.\n",
      "제조사는 samsung이며 모델명 21s-plus고 가격은 830000, 시리얼은 100026입니다.\n",
      "제조사는 samsung이며 모델명 21s-plus고 가격은 830000, 시리얼은 100027입니다.\n",
      "제조사는 samsung이며 모델명 21s-plus고 가격은 830000, 시리얼은 100028입니다.\n",
      "제조사는 samsung이며 모델명 21s-plus고 가격은 830000, 시리얼은 100029입니다.\n",
      "제조사는 samsung이며 모델명 21s-plus고 가격은 830000, 시리얼은 100030입니다.\n",
      "제조사는 samsung이며 모델명 21s-plus고 가격은 830000, 시리얼은 100031입니다.\n",
      "제조사는 samsung이며 모델명 21s-plus고 가격은 830000, 시리얼은 100032입니다.\n",
      "제조사는 samsung이며 모델명 21s-plus고 가격은 830000, 시리얼은 100033입니다.\n",
      "제조사는 samsung이며 모델명 21s-plus고 가격은 830000, 시리얼은 100034입니다.\n",
      "제조사는 samsung이며 모델명 21s-plus고 가격은 830000, 시리얼은 100035입니다.\n",
      "제조사는 samsung이며 모델명 21s-plus고 가격은 830000, 시리얼은 100036입니다.\n",
      "제조사는 samsung이며 모델명 21s-plus고 가격은 830000, 시리얼은 100037입니다.\n",
      "제조사는 samsung이며 모델명 21s-plus고 가격은 830000, 시리얼은 100038입니다.\n",
      "제조사는 samsung이며 모델명 21s-plus고 가격은 830000, 시리얼은 100039입니다.\n",
      "제조사는 samsung이며 모델명 21s-plus고 가격은 830000, 시리얼은 100040입니다.\n",
      "제조사는 samsung이며 모델명 21s-plus고 가격은 830000, 시리얼은 100041입니다.\n",
      "제조사는 samsung이며 모델명 21s-plus고 가격은 830000, 시리얼은 100042입니다.\n",
      "제조사는 samsung이며 모델명 21s-plus고 가격은 830000, 시리얼은 100043입니다.\n",
      "제조사는 samsung이며 모델명 21s-plus고 가격은 830000, 시리얼은 100044입니다.\n",
      "제조사는 samsung이며 모델명 21s-plus고 가격은 830000, 시리얼은 100045입니다.\n",
      "제조사는 samsung이며 모델명 21s-plus고 가격은 830000, 시리얼은 100046입니다.\n",
      "제조사는 samsung이며 모델명 21s-plus고 가격은 830000, 시리얼은 100047입니다.\n",
      "제조사는 samsung이며 모델명 21s-plus고 가격은 830000, 시리얼은 100048입니다.\n",
      "제조사는 samsung이며 모델명 21s-plus고 가격은 830000, 시리얼은 100049입니다.\n",
      "제조사는 samsung이며 모델명 21s-plus고 가격은 830000, 시리얼은 100050입니다.\n",
      "제조사는 samsung이며 모델명 21s-plus고 가격은 830000, 시리얼은 100051입니다.\n",
      "제조사는 samsung이며 모델명 21s-plus고 가격은 830000, 시리얼은 100052입니다.\n",
      "제조사는 samsung이며 모델명 21s-plus고 가격은 830000, 시리얼은 100053입니다.\n",
      "제조사는 samsung이며 모델명 21s-plus고 가격은 830000, 시리얼은 100054입니다.\n",
      "제조사는 samsung이며 모델명 21s-plus고 가격은 830000, 시리얼은 100055입니다.\n",
      "제조사는 samsung이며 모델명 21s-plus고 가격은 830000, 시리얼은 100056입니다.\n",
      "제조사는 samsung이며 모델명 21s-plus고 가격은 830000, 시리얼은 100057입니다.\n",
      "제조사는 samsung이며 모델명 21s-plus고 가격은 830000, 시리얼은 100058입니다.\n",
      "제조사는 samsung이며 모델명 21s-plus고 가격은 830000, 시리얼은 100059입니다.\n",
      "제조사는 samsung이며 모델명 21s-plus고 가격은 830000, 시리얼은 100060입니다.\n",
      "제조사는 samsung이며 모델명 21s-plus고 가격은 830000, 시리얼은 100061입니다.\n",
      "제조사는 samsung이며 모델명 21s-plus고 가격은 830000, 시리얼은 100062입니다.\n",
      "제조사는 samsung이며 모델명 21s-plus고 가격은 830000, 시리얼은 100063입니다.\n",
      "제조사는 samsung이며 모델명 21s-plus고 가격은 830000, 시리얼은 100064입니다.\n",
      "제조사는 samsung이며 모델명 21s-plus고 가격은 830000, 시리얼은 100065입니다.\n",
      "제조사는 samsung이며 모델명 21s-plus고 가격은 830000, 시리얼은 100066입니다.\n",
      "제조사는 samsung이며 모델명 21s-plus고 가격은 830000, 시리얼은 100067입니다.\n",
      "제조사는 samsung이며 모델명 21s-plus고 가격은 830000, 시리얼은 100068입니다.\n",
      "제조사는 samsung이며 모델명 21s-plus고 가격은 830000, 시리얼은 100069입니다.\n",
      "제조사는 samsung이며 모델명 21s-plus고 가격은 830000, 시리얼은 100070입니다.\n",
      "제조사는 samsung이며 모델명 21s-plus고 가격은 830000, 시리얼은 100071입니다.\n",
      "제조사는 samsung이며 모델명 21s-plus고 가격은 830000, 시리얼은 100072입니다.\n",
      "제조사는 samsung이며 모델명 21s-plus고 가격은 830000, 시리얼은 100073입니다.\n",
      "제조사는 samsung이며 모델명 21s-plus고 가격은 830000, 시리얼은 100074입니다.\n",
      "제조사는 samsung이며 모델명 21s-plus고 가격은 830000, 시리얼은 100075입니다.\n",
      "제조사는 samsung이며 모델명 21s-plus고 가격은 830000, 시리얼은 100076입니다.\n",
      "제조사는 samsung이며 모델명 21s-plus고 가격은 830000, 시리얼은 100077입니다.\n",
      "제조사는 samsung이며 모델명 21s-plus고 가격은 830000, 시리얼은 100078입니다.\n",
      "제조사는 samsung이며 모델명 21s-plus고 가격은 830000, 시리얼은 100079입니다.\n",
      "제조사는 samsung이며 모델명 21s-plus고 가격은 830000, 시리얼은 100080입니다.\n",
      "제조사는 samsung이며 모델명 21s-plus고 가격은 830000, 시리얼은 100081입니다.\n",
      "제조사는 samsung이며 모델명 21s-plus고 가격은 830000, 시리얼은 100082입니다.\n",
      "제조사는 samsung이며 모델명 21s-plus고 가격은 830000, 시리얼은 100083입니다.\n",
      "제조사는 samsung이며 모델명 21s-plus고 가격은 830000, 시리얼은 100084입니다.\n",
      "제조사는 samsung이며 모델명 21s-plus고 가격은 830000, 시리얼은 100085입니다.\n",
      "제조사는 samsung이며 모델명 21s-plus고 가격은 830000, 시리얼은 100086입니다.\n",
      "제조사는 samsung이며 모델명 21s-plus고 가격은 830000, 시리얼은 100087입니다.\n",
      "제조사는 samsung이며 모델명 21s-plus고 가격은 830000, 시리얼은 100088입니다.\n",
      "제조사는 samsung이며 모델명 21s-plus고 가격은 830000, 시리얼은 100089입니다.\n",
      "제조사는 samsung이며 모델명 21s-plus고 가격은 830000, 시리얼은 100090입니다.\n",
      "제조사는 samsung이며 모델명 21s-plus고 가격은 830000, 시리얼은 100091입니다.\n",
      "제조사는 samsung이며 모델명 21s-plus고 가격은 830000, 시리얼은 100092입니다.\n",
      "제조사는 samsung이며 모델명 21s-plus고 가격은 830000, 시리얼은 100093입니다.\n",
      "제조사는 samsung이며 모델명 21s-plus고 가격은 830000, 시리얼은 100094입니다.\n",
      "제조사는 samsung이며 모델명 21s-plus고 가격은 830000, 시리얼은 100095입니다.\n",
      "제조사는 samsung이며 모델명 21s-plus고 가격은 830000, 시리얼은 100096입니다.\n",
      "제조사는 samsung이며 모델명 21s-plus고 가격은 830000, 시리얼은 100097입니다.\n",
      "제조사는 samsung이며 모델명 21s-plus고 가격은 830000, 시리얼은 100098입니다.\n",
      "제조사는 samsung이며 모델명 21s-plus고 가격은 830000, 시리얼은 100099입니다.\n",
      "제조사는 samsung이며 모델명 21s-plus고 가격은 830000, 시리얼은 100100입니다.\n"
     ]
    }
   ],
   "source": [
    "# 클래스 만들기\n",
    "# # 설계도\n",
    "class Cellphone:\n",
    "    # 생성자: 객체가 처음 만들어질 때 불려지는 특수한 메소드(method)\n",
    "    serial = 99999\n",
    "    def __init__(self):\n",
    "        # 속성: 필드, 멤버변수\n",
    "        self.maker = 'samsung'\n",
    "        self.model = '21s-plus'\n",
    "        self.color = 'black'\n",
    "        self.price = 830000\n",
    "        Cellphone.serial += 1\n",
    "\n",
    "    # 행위: 메소드(method)\n",
    "    def camera(self):\n",
    "        print(\"카메라 찰칵\")\n",
    "\n",
    "    def call(self):\n",
    "        print(\"전화하기\")\n",
    "\n",
    "    def introduce(self):\n",
    "        print(\"제조사는 %s이며 모델명 %s고 가격은 %d, 시리얼은 %d입니다.\"\n",
    "              % (self.maker, self.model, self.price, Cellphone.serial))\n",
    "\n",
    "# 인스턴스 화 => 객체(Object), Cellphone의 instance\n",
    "sample = Cellphone()\n",
    "# 타입 확인\n",
    "print(type(sample))\n",
    "\n",
    "# 값 넣기\n",
    "sample.maker = \"apple\"\n",
    "sample.color = \"gold\"\n",
    "sample.price = 1200000\n",
    "sample.model = 'iphone11pro'\n",
    "\n",
    "# 값 출력하기\n",
    "print(sample.maker)\n",
    "print(sample.model)\n",
    "print(sample.price)\n",
    "print(sample.color)\n",
    "print(sample.serial)\n",
    "\n",
    "# method 호출하기\n",
    "sample.call()\n",
    "sample.camera()\n",
    "sample.introduce()\n",
    "\n",
    "# 100개를 생산하기\n",
    "cellphones = []\n",
    "for i in range(100):\n",
    "    cellphones.append(Cellphone())\n",
    "    cellphones[i].introduce()"
   ]
  },
  {
   "cell_type": "code",
   "execution_count": 29,
   "id": "8f68abec",
   "metadata": {},
   "outputs": [
    {
     "name": "stdout",
     "output_type": "stream",
     "text": [
      "안녕하세요, 인사하는 기능의 메서드 입니다\n",
      "걷는다~ 걷는 기능의 메서드 입니다\n",
      "제 이름은 김엘지이고 성별은 여자입니다.\n",
      "나이는 22세입니다\n",
      "제 이름은 박삼성이고 성별은 남자입니다.\n",
      "나이는 42세입니다\n"
     ]
    }
   ],
   "source": [
    "# 사람을 클래스(객체)화 해보는 예제\n",
    "class Person:\n",
    "    # 1. 속성: 필드\n",
    "    def __init__(self, name='김엘지', birth='20000101', gender='여자'):\n",
    "        self.name = name\n",
    "        self.birth = birth   # 생년월일\n",
    "        self.gender = gender\n",
    "\n",
    "    # 2. 행위: 메소드\n",
    "    def greet(self):\n",
    "        print(\"안녕하세요, 인사하는 기능의 메서드 입니다\")\n",
    "\n",
    "    def walk(self):\n",
    "        print(\"걷는다~ 걷는 기능의 메서드 입니다\")\n",
    "\n",
    "    def introduce(self):\n",
    "        print(\"제 이름은 %s이고 성별은 %s입니다.\" % (self.name, self.gender))\n",
    "\n",
    "    def age(self):\n",
    "        yyyy = self.birth[:4]  # \"20000101\"\n",
    "        age = 2021 - int(yyyy) + 1\n",
    "        return age\n",
    "\n",
    "# instance 화 => 객체 만들기\n",
    "p1 = Person()\n",
    "p1.greet()\n",
    "p1.walk()\n",
    "p1.introduce()\n",
    "print(\"나이는 %d세입니다\" % p1.age())\n",
    "\n",
    "p2 = Person(\"박삼성\", \"19801231\", \"남자\")\n",
    "p2.introduce()\n",
    "print(\"나이는 %d세입니다\" % p2.age())"
   ]
  },
  {
   "cell_type": "code",
   "execution_count": 30,
   "id": "d02ab806",
   "metadata": {},
   "outputs": [
    {
     "name": "stdout",
     "output_type": "stream",
     "text": [
      "클래스 입니다. 프로그램 실행시 수행되요\n",
      "생성자 매소드입니다. 인스턴스 생성시 자동으로 실행되는 메소드에요\n",
      "add() 메소드 수행 결과 :  70\n"
     ]
    }
   ],
   "source": [
    "# 클래스 연습 01\n",
    "# 사칙연산 클래스 만들어보기.\n",
    "class Calculator:\n",
    "    def __init__(self, first, second):\n",
    "        self.first = first\n",
    "        self.second = second\n",
    "        print(\"생성자 매소드입니다. 인스턴스 생성시 자동으로 실행되는 메소드에요\")\n",
    "\n",
    "    def setdata(self, first, second):\n",
    "        self.first = first\n",
    "        self.second = second\n",
    "\n",
    "    def add(self):\n",
    "        result = self.first + self.second\n",
    "        return result\n",
    "\n",
    "    def mul(self):\n",
    "        result = self.first * self.second\n",
    "        return result\n",
    "    print(\"클래스 입니다. 프로그램 실행시 수행되요\")\n",
    "\n",
    "cal_01 = Calculator(10,20)\n",
    "cal_01.setdata(30, 40)\n",
    "print(\"add() 메소드 수행 결과 : \",cal_01.add())\n",
    "# print(cal_01.result)        # cal_01.result? 로 받아올순 없을까? 시도해보자"
   ]
  },
  {
   "cell_type": "code",
   "execution_count": 31,
   "id": "aa6fc087",
   "metadata": {},
   "outputs": [
    {
     "name": "stdout",
     "output_type": "stream",
     "text": [
      "None\n",
      "30\n"
     ]
    }
   ],
   "source": [
    "# 리턴값이 없는 함수라면 이렇게 접근 해야겠지?\n",
    "class Calculator:\n",
    "    def __init__(self, first, second):\n",
    "        self.first = first\n",
    "        self.second = second\n",
    "        self.result = 0\n",
    "\n",
    "    def add(self):\n",
    "        self.result = self.first + self.second\n",
    "\n",
    "cal_01 = Calculator(10,20) \n",
    "result = cal_01.add()\n",
    "print(result)               # 값이 있니?\n",
    "print(cal_01.result)        # 이렇게 해보자~"
   ]
  },
  {
   "cell_type": "code",
   "execution_count": 32,
   "id": "3bf5e8f9",
   "metadata": {},
   "outputs": [
    {
     "name": "stdout",
     "output_type": "stream",
     "text": [
      "시작값 : 5\n",
      "종료값 10\n",
      "45\n"
     ]
    }
   ],
   "source": [
    "# 클래스 연습 02\n",
    "class Calculator :\n",
    "    def __init__(self) :\n",
    "        self.result = 0\n",
    "    \n",
    "    def sum(self, startNum, endNum) :\n",
    "        while startNum <= endNum :\n",
    "            self.result += startNum\n",
    "            startNum += 1\n",
    "\n",
    "sumA = Calculator()\n",
    "startNum = int(input(\"시작값 : \"))\n",
    "endNum = int(input(\"종료값 \"))\n",
    "sumA.sum(startNum, endNum)\n",
    "print(sumA.result)"
   ]
  },
  {
   "cell_type": "code",
   "execution_count": 33,
   "id": "5533b0df",
   "metadata": {},
   "outputs": [
    {
     "name": "stdout",
     "output_type": "stream",
     "text": [
      "사각형의 넓이와 둘레를 계산하라.\n",
      "가로 : 5\n",
      "가로 : 2\n",
      "====================\n",
      "넓이 : 10\n",
      "둘레 : 14\n",
      "====================\n"
     ]
    }
   ],
   "source": [
    "# 클래스 연습 03\n",
    "class Rectangle :\n",
    "    def __init__(self, width, height) :\n",
    "        self.width = width\n",
    "        self.height = height\n",
    "    \n",
    "    def area(self) :\n",
    "        area = self.width * self.height\n",
    "        return area\n",
    "    \n",
    "    def circum(self) :\n",
    "        circum = (self.width + self.height)*2\n",
    "        return  circum\n",
    "    \n",
    "\n",
    "print(\"사각형의 넓이와 둘레를 계산하라.\")\n",
    "w = int(input(\"가로 : \" ))\n",
    "h = int(input(\"가로 : \" ))\n",
    "\n",
    "rec = Rectangle(w, h)\n",
    "area = rec.area()\n",
    "print('='*20)\n",
    "print(\"넓이 :\", area)\n",
    "\n",
    "circum = rec.circum()\n",
    "print(\"둘레 :\", circum)\n",
    "print('='*20)"
   ]
  },
  {
   "cell_type": "code",
   "execution_count": 34,
   "id": "45e5aa35",
   "metadata": {
    "scrolled": true
   },
   "outputs": [
    {
     "name": "stdout",
     "output_type": "stream",
     "text": [
      "이름: 새우깡\n",
      "가격: 1300\n",
      "유통기한: 2025-03-02\n",
      "제품 5개의 가격은: 6500\n",
      "제품 13개의 가격은: 16900\n",
      "판매 가능 상품\n"
     ]
    }
   ],
   "source": [
    "class Product:\n",
    "    def __init__(self, name, price, expired_date):\n",
    "        # 속성: 필드(field)\n",
    "        # 이름: 새우깡\n",
    "        # 가격: 1300\n",
    "        # 유통기한: 2025-03-02\n",
    "        self.name = name\n",
    "        self.price = price\n",
    "        self.expired_date = expired_date\n",
    "\n",
    "    # 행위: 메소드(함수)\n",
    "    def price_of_count(self, count):\n",
    "        print(\"제품 %d개의 가격은: %d\" % (count, count * self.price))\n",
    "\n",
    "    def sale_status(self):\n",
    "        today = \"2021-01-01\"\n",
    "        if today <= self.expired_date:\n",
    "            return \"판매 가능 상품\"\n",
    "        else:\n",
    "            return \"판매 불가 상품\"\n",
    "\n",
    "# instance화 => 객체, instance\n",
    "p1 = Product(\"새우깡\", 1300, \"2025-03-02\")\n",
    "print(\"이름:\", p1.name)\n",
    "print(\"가격:\", p1.price)\n",
    "print(\"유통기한:\", p1.expired_date)\n",
    "\n",
    "p1.price_of_count(5)   # 5개의 가격\n",
    "p1.price_of_count(13)  # 13개의 가격\n",
    "print(p1.sale_status())"
   ]
  },
  {
   "cell_type": "code",
   "execution_count": 35,
   "id": "38d4d85c",
   "metadata": {
    "scrolled": true
   },
   "outputs": [
    {
     "name": "stdout",
     "output_type": "stream",
     "text": [
      "23\n",
      "60\n",
      "6.666666666666667\n"
     ]
    }
   ],
   "source": [
    "# 클래스의 상속 후 메서드를 추가해보자\n",
    "# 클래스 상속, 오버라이딩 실습\n",
    "class Calculator:\n",
    "    def __init__(self, first, second):\n",
    "        self.first = first\n",
    "        self.second = second\n",
    "\n",
    "    def add(self):\n",
    "        result = self.first + self.second\n",
    "        return result\n",
    "\n",
    "    def mul(self):\n",
    "        result = self.first * self.second\n",
    "        return result\n",
    "# Calculator클래스(부모)를 상속받은 Calculator_child클래스(자식)\n",
    "class Calculator_child(Calculator):\n",
    "    def div(self):\n",
    "        result = self.first / self.second\n",
    "        return result\n",
    "\n",
    "cal_parent = Calculator(20, 3)\n",
    "print(cal_parent.add())\n",
    "\n",
    "# 생성자도 같이 상속된다.\n",
    "cal_child = Calculator_child(20, 3)\n",
    "print(cal_child.mul())\n",
    "print(cal_child.div())"
   ]
  },
  {
   "cell_type": "code",
   "execution_count": 36,
   "id": "bd65defb",
   "metadata": {
    "scrolled": true
   },
   "outputs": [
    {
     "name": "stdout",
     "output_type": "stream",
     "text": [
      "0\n"
     ]
    }
   ],
   "source": [
    "# 상속을 받은 후 수정을 해볼까?\n",
    "class Calculator_child_change(Calculator_child):\n",
    "    def div(self):\n",
    "        if self.second == 0:\n",
    "            return 0\n",
    "        else:\n",
    "            result = self.first / self.second\n",
    "        return result\n",
    "cal_child_change = Calculator_child_change(20,0)\n",
    "print(cal_child_change.div())"
   ]
  },
  {
   "cell_type": "code",
   "execution_count": 37,
   "id": "dd5b80fd",
   "metadata": {},
   "outputs": [
    {
     "name": "stdout",
     "output_type": "stream",
     "text": [
      "나는 무기 클래스다!\n",
      "무기종류 : 무기\n",
      "공격타입 : 근거리\n",
      "공 격 력 : 10\n",
      "레    벨 : 20\n"
     ]
    }
   ],
   "source": [
    "# super()\n",
    "# Weapone 클래스 정의\n",
    "class Weapone:\n",
    "    def __init__(self):\n",
    "        self.what = \"무기\"\n",
    "        self.type = \"근거리\"\n",
    "    print(\"나는 무기 클래스다!\")\n",
    "\n",
    "# Sword 클래스 정의 : Weapone 클래스 상속\n",
    "class Sword(Weapone):\n",
    "    def __init__(self, power, level):\n",
    "        self.power = power\n",
    "        self.level = level\n",
    "\n",
    "# Sword 클래스 정의 : Weapone 클래스 상속 후 생성자 상속 super()\n",
    "class Sword(Weapone):\n",
    "    def __init__(self, power, level):\n",
    "        super().__init__()\n",
    "        self.power = power\n",
    "        self.level = level\n",
    "\n",
    "# Sword 속성(power,level) 및 부모 클래스 Weapon 의 속성 불러오기(what, type)\n",
    "    def info(self):\n",
    "        print(\"무기종류 :\", self.what)\n",
    "        print(\"공격타입 :\", self.type)\n",
    "        print(\"공 격 력 :\", self.power)\n",
    "        print(\"레    벨 :\", self.level)\n",
    "\n",
    "# Sword 클래스 객체 short_sword 선언\n",
    "short_sword = Sword(10, 20)\n",
    "short_sword.info()"
   ]
  },
  {
   "cell_type": "code",
   "execution_count": 38,
   "id": "920fb66c",
   "metadata": {},
   "outputs": [],
   "source": [
    "def add_sample(x, y) :\n",
    "    return x+y"
   ]
  },
  {
   "cell_type": "code",
   "execution_count": 39,
   "id": "6f98fd70",
   "metadata": {},
   "outputs": [
    {
     "ename": "ModuleNotFoundError",
     "evalue": "No module named 'lecture07_2_class_sample'",
     "output_type": "error",
     "traceback": [
      "\u001b[1;31m---------------------------------------------------------------------------\u001b[0m",
      "\u001b[1;31mModuleNotFoundError\u001b[0m                       Traceback (most recent call last)",
      "Cell \u001b[1;32mIn[39], line 4\u001b[0m\n\u001b[0;32m      1\u001b[0m \u001b[38;5;66;03m# 모듈 : 함수, 클래스등 .py 안에 선언된 내용은 다른 py프로그램에서 import를 통해 활용할 수 있다.\u001b[39;00m\n\u001b[0;32m      2\u001b[0m \n\u001b[0;32m      3\u001b[0m \u001b[38;5;66;03m# 같은 경로상의 모듈에서 함수를 사용하기\u001b[39;00m\n\u001b[1;32m----> 4\u001b[0m \u001b[38;5;28;01mimport\u001b[39;00m \u001b[38;5;21;01mlecture07_2_class_sample\u001b[39;00m\n\u001b[0;32m      5\u001b[0m \u001b[38;5;28;01mfrom\u001b[39;00m \u001b[38;5;21;01mlecture07_2_class_sample\u001b[39;00m \u001b[38;5;28;01mimport\u001b[39;00m add_sample\n\u001b[0;32m      7\u001b[0m result \u001b[38;5;241m=\u001b[39m lecture07_2_class_sample\u001b[38;5;241m.\u001b[39madd_sample(\u001b[38;5;241m4\u001b[39m,\u001b[38;5;241m3\u001b[39m)\n",
      "\u001b[1;31mModuleNotFoundError\u001b[0m: No module named 'lecture07_2_class_sample'"
     ]
    }
   ],
   "source": [
    "# 모듈 : 함수, 클래스등 .py 안에 선언된 내용은 다른 py프로그램에서 import를 통해 활용할 수 있다.\n",
    "\n",
    "# 같은 경로상의 모듈에서 함수를 사용하기\n",
    "import lecture07_2_class_sample\n",
    "from lecture07_2_class_sample import add_sample\n",
    "\n",
    "result = lecture07_2_class_sample.add_sample(4,3)\n",
    "result = add_sample(4,3)\n",
    "print(result)"
   ]
  },
  {
   "cell_type": "code",
   "execution_count": 40,
   "id": "b4991c5b",
   "metadata": {},
   "outputs": [
    {
     "ename": "ModuleNotFoundError",
     "evalue": "No module named 'lecture07_2_class_sample'",
     "output_type": "error",
     "traceback": [
      "\u001b[1;31m---------------------------------------------------------------------------\u001b[0m",
      "\u001b[1;31mModuleNotFoundError\u001b[0m                       Traceback (most recent call last)",
      "Cell \u001b[1;32mIn[40], line 2\u001b[0m\n\u001b[0;32m      1\u001b[0m \u001b[38;5;66;03m# 같은 경로상의 모듈에서 클래스를 사용하기\u001b[39;00m\n\u001b[1;32m----> 2\u001b[0m \u001b[38;5;28;01mimport\u001b[39;00m \u001b[38;5;21;01mlecture07_2_class_sample\u001b[39;00m\n\u001b[0;32m      4\u001b[0m class_import \u001b[38;5;241m=\u001b[39m lecture07_2_class_sample\u001b[38;5;241m.\u001b[39mCalculator(\u001b[38;5;241m20\u001b[39m, \u001b[38;5;241m30\u001b[39m)\n\u001b[0;32m      5\u001b[0m result \u001b[38;5;241m=\u001b[39m class_import\u001b[38;5;241m.\u001b[39madd()\n",
      "\u001b[1;31mModuleNotFoundError\u001b[0m: No module named 'lecture07_2_class_sample'"
     ]
    }
   ],
   "source": [
    "# 같은 경로상의 모듈에서 클래스를 사용하기\n",
    "import lecture07_2_class_sample\n",
    "\n",
    "class_import = lecture07_2_class_sample.Calculator(20, 30)\n",
    "result = class_import.add()\n",
    "print(result)"
   ]
  },
  {
   "cell_type": "code",
   "execution_count": 41,
   "id": "1605fe25",
   "metadata": {},
   "outputs": [
    {
     "name": "stdout",
     "output_type": "stream",
     "text": [
      "['C:\\\\Users\\\\최예름\\\\3. Mega Python', 'C:\\\\anaconda3\\\\python39.zip', 'C:\\\\anaconda3\\\\DLLs', 'C:\\\\anaconda3\\\\lib', 'C:\\\\anaconda3', '', 'C:\\\\Users\\\\최예름\\\\AppData\\\\Roaming\\\\Python\\\\Python39\\\\site-packages', 'C:\\\\Users\\\\최예름\\\\AppData\\\\Roaming\\\\Python\\\\Python39\\\\site-packages\\\\win32', 'C:\\\\Users\\\\최예름\\\\AppData\\\\Roaming\\\\Python\\\\Python39\\\\site-packages\\\\win32\\\\lib', 'C:\\\\Users\\\\최예름\\\\AppData\\\\Roaming\\\\Python\\\\Python39\\\\site-packages\\\\Pythonwin', 'C:\\\\anaconda3\\\\lib\\\\site-packages', 'C:\\\\anaconda3\\\\lib\\\\site-packages\\\\win32', 'C:\\\\anaconda3\\\\lib\\\\site-packages\\\\win32\\\\lib', 'C:\\\\anaconda3\\\\lib\\\\site-packages\\\\Pythonwin']\n",
      "['C:\\\\Users\\\\최예름\\\\3. Mega Python', 'C:\\\\anaconda3\\\\python39.zip', 'C:\\\\anaconda3\\\\DLLs', 'C:\\\\anaconda3\\\\lib', 'C:\\\\anaconda3', '', 'C:\\\\Users\\\\최예름\\\\AppData\\\\Roaming\\\\Python\\\\Python39\\\\site-packages', 'C:\\\\Users\\\\최예름\\\\AppData\\\\Roaming\\\\Python\\\\Python39\\\\site-packages\\\\win32', 'C:\\\\Users\\\\최예름\\\\AppData\\\\Roaming\\\\Python\\\\Python39\\\\site-packages\\\\win32\\\\lib', 'C:\\\\Users\\\\최예름\\\\AppData\\\\Roaming\\\\Python\\\\Python39\\\\site-packages\\\\Pythonwin', 'C:\\\\anaconda3\\\\lib\\\\site-packages', 'C:\\\\anaconda3\\\\lib\\\\site-packages\\\\win32', 'C:\\\\anaconda3\\\\lib\\\\site-packages\\\\win32\\\\lib', 'C:\\\\anaconda3\\\\lib\\\\site-packages\\\\Pythonwin', 'C:\\\\chi_py_project']\n"
     ]
    }
   ],
   "source": [
    "# 시스템 경로 추가 하기\n",
    "import sys\n",
    "\n",
    "print(sys.path)\n",
    "sys.path.append('C:\\chi_py_project')\n",
    "print(sys.path)"
   ]
  },
  {
   "cell_type": "code",
   "execution_count": 42,
   "id": "b5289624",
   "metadata": {},
   "outputs": [
    {
     "name": "stdout",
     "output_type": "stream",
     "text": [
      "['C:\\\\Users\\\\최예름\\\\3. Mega Python', 'C:\\\\anaconda3\\\\python39.zip', 'C:\\\\anaconda3\\\\DLLs', 'C:\\\\anaconda3\\\\lib', 'C:\\\\anaconda3', '', 'C:\\\\Users\\\\최예름\\\\AppData\\\\Roaming\\\\Python\\\\Python39\\\\site-packages', 'C:\\\\Users\\\\최예름\\\\AppData\\\\Roaming\\\\Python\\\\Python39\\\\site-packages\\\\win32', 'C:\\\\Users\\\\최예름\\\\AppData\\\\Roaming\\\\Python\\\\Python39\\\\site-packages\\\\win32\\\\lib', 'C:\\\\Users\\\\최예름\\\\AppData\\\\Roaming\\\\Python\\\\Python39\\\\site-packages\\\\Pythonwin', 'C:\\\\anaconda3\\\\lib\\\\site-packages', 'C:\\\\anaconda3\\\\lib\\\\site-packages\\\\win32', 'C:\\\\anaconda3\\\\lib\\\\site-packages\\\\win32\\\\lib', 'C:\\\\anaconda3\\\\lib\\\\site-packages\\\\Pythonwin', 'C:\\\\chi_py_project']\n",
      "['C:\\\\Users\\\\최예름\\\\3. Mega Python', 'C:\\\\anaconda3\\\\python39.zip', 'C:\\\\anaconda3\\\\DLLs', 'C:\\\\anaconda3\\\\lib', 'C:\\\\anaconda3', '', 'C:\\\\Users\\\\최예름\\\\AppData\\\\Roaming\\\\Python\\\\Python39\\\\site-packages', 'C:\\\\Users\\\\최예름\\\\AppData\\\\Roaming\\\\Python\\\\Python39\\\\site-packages\\\\win32', 'C:\\\\Users\\\\최예름\\\\AppData\\\\Roaming\\\\Python\\\\Python39\\\\site-packages\\\\win32\\\\lib', 'C:\\\\Users\\\\최예름\\\\AppData\\\\Roaming\\\\Python\\\\Python39\\\\site-packages\\\\Pythonwin', 'C:\\\\anaconda3\\\\lib\\\\site-packages', 'C:\\\\anaconda3\\\\lib\\\\site-packages\\\\win32', 'C:\\\\anaconda3\\\\lib\\\\site-packages\\\\win32\\\\lib', 'C:\\\\anaconda3\\\\lib\\\\site-packages\\\\Pythonwin', 'C:\\\\chi_py_project', 'C:\\\\chi_py_project']\n"
     ]
    },
    {
     "ename": "ModuleNotFoundError",
     "evalue": "No module named 'module_test'",
     "output_type": "error",
     "traceback": [
      "\u001b[1;31m---------------------------------------------------------------------------\u001b[0m",
      "\u001b[1;31mModuleNotFoundError\u001b[0m                       Traceback (most recent call last)",
      "Cell \u001b[1;32mIn[42], line 7\u001b[0m\n\u001b[0;32m      4\u001b[0m sys\u001b[38;5;241m.\u001b[39mpath\u001b[38;5;241m.\u001b[39mappend(\u001b[38;5;124m'\u001b[39m\u001b[38;5;124mC:\u001b[39m\u001b[38;5;124m\\\u001b[39m\u001b[38;5;124mchi_py_project\u001b[39m\u001b[38;5;124m'\u001b[39m)\n\u001b[0;32m      5\u001b[0m \u001b[38;5;28mprint\u001b[39m(sys\u001b[38;5;241m.\u001b[39mpath)\n\u001b[1;32m----> 7\u001b[0m \u001b[38;5;28;01mimport\u001b[39;00m \u001b[38;5;21;01mmodule_test\u001b[39;00m\n\u001b[0;32m      8\u001b[0m \u001b[38;5;28mprint\u001b[39m(module_test\u001b[38;5;241m.\u001b[39madd(\u001b[38;5;241m4\u001b[39m,\u001b[38;5;241m3\u001b[39m))\n",
      "\u001b[1;31mModuleNotFoundError\u001b[0m: No module named 'module_test'"
     ]
    }
   ],
   "source": [
    "# 다른 경로상의 모듈에서 함수를 사용하기\n",
    "import sys\n",
    "print(sys.path)\n",
    "sys.path.append('C:\\chi_py_project')\n",
    "print(sys.path)\n",
    "\n",
    "import module_test\n",
    "print(module_test.add(4,3))"
   ]
  },
  {
   "cell_type": "code",
   "execution_count": 43,
   "id": "3eb2654b",
   "metadata": {},
   "outputs": [
    {
     "name": "stdout",
     "output_type": "stream",
     "text": [
      "['C:\\\\Users\\\\최예름\\\\3. Mega Python', 'C:\\\\anaconda3\\\\python39.zip', 'C:\\\\anaconda3\\\\DLLs', 'C:\\\\anaconda3\\\\lib', 'C:\\\\anaconda3', '', 'C:\\\\Users\\\\최예름\\\\AppData\\\\Roaming\\\\Python\\\\Python39\\\\site-packages', 'C:\\\\Users\\\\최예름\\\\AppData\\\\Roaming\\\\Python\\\\Python39\\\\site-packages\\\\win32', 'C:\\\\Users\\\\최예름\\\\AppData\\\\Roaming\\\\Python\\\\Python39\\\\site-packages\\\\win32\\\\lib', 'C:\\\\Users\\\\최예름\\\\AppData\\\\Roaming\\\\Python\\\\Python39\\\\site-packages\\\\Pythonwin', 'C:\\\\anaconda3\\\\lib\\\\site-packages', 'C:\\\\anaconda3\\\\lib\\\\site-packages\\\\win32', 'C:\\\\anaconda3\\\\lib\\\\site-packages\\\\win32\\\\lib', 'C:\\\\anaconda3\\\\lib\\\\site-packages\\\\Pythonwin', 'C:\\\\chi_py_project', 'C:\\\\chi_py_project', 'C:\\\\chi_py_project']\n"
     ]
    },
    {
     "ename": "ModuleNotFoundError",
     "evalue": "No module named 'module_test'",
     "output_type": "error",
     "traceback": [
      "\u001b[1;31m---------------------------------------------------------------------------\u001b[0m",
      "\u001b[1;31mModuleNotFoundError\u001b[0m                       Traceback (most recent call last)",
      "Cell \u001b[1;32mIn[43], line 5\u001b[0m\n\u001b[0;32m      3\u001b[0m sys\u001b[38;5;241m.\u001b[39mpath\u001b[38;5;241m.\u001b[39mappend(\u001b[38;5;124m'\u001b[39m\u001b[38;5;124mC:\u001b[39m\u001b[38;5;124m\\\u001b[39m\u001b[38;5;124mchi_py_project\u001b[39m\u001b[38;5;124m'\u001b[39m)\n\u001b[0;32m      4\u001b[0m \u001b[38;5;28mprint\u001b[39m(sys\u001b[38;5;241m.\u001b[39mpath)\n\u001b[1;32m----> 5\u001b[0m \u001b[38;5;28;01mimport\u001b[39;00m \u001b[38;5;21;01mmodule_test\u001b[39;00m\n\u001b[0;32m      7\u001b[0m class_import \u001b[38;5;241m=\u001b[39m module_test\u001b[38;5;241m.\u001b[39mCalculator(\u001b[38;5;241m20\u001b[39m, \u001b[38;5;241m30\u001b[39m)\n\u001b[0;32m      8\u001b[0m class_import\u001b[38;5;241m.\u001b[39msum()\n",
      "\u001b[1;31mModuleNotFoundError\u001b[0m: No module named 'module_test'"
     ]
    }
   ],
   "source": [
    "# 다른 경로상의 모듈에서 클래스를 사용하기\n",
    "import sys\n",
    "sys.path.append('C:\\chi_py_project')\n",
    "print(sys.path)\n",
    "import module_test\n",
    "\n",
    "class_import = module_test.Calculator(20, 30)\n",
    "class_import.sum()\n",
    "print(class_import.result)"
   ]
  },
  {
   "cell_type": "code",
   "execution_count": 44,
   "id": "9659f18d",
   "metadata": {},
   "outputs": [
    {
     "name": "stdout",
     "output_type": "stream",
     "text": [
      "['C:\\\\Users\\\\최예름\\\\3. Mega Python', 'C:\\\\anaconda3\\\\python39.zip', 'C:\\\\anaconda3\\\\DLLs', 'C:\\\\anaconda3\\\\lib', 'C:\\\\anaconda3', '', 'C:\\\\Users\\\\최예름\\\\AppData\\\\Roaming\\\\Python\\\\Python39\\\\site-packages', 'C:\\\\Users\\\\최예름\\\\AppData\\\\Roaming\\\\Python\\\\Python39\\\\site-packages\\\\win32', 'C:\\\\Users\\\\최예름\\\\AppData\\\\Roaming\\\\Python\\\\Python39\\\\site-packages\\\\win32\\\\lib', 'C:\\\\Users\\\\최예름\\\\AppData\\\\Roaming\\\\Python\\\\Python39\\\\site-packages\\\\Pythonwin', 'C:\\\\anaconda3\\\\lib\\\\site-packages', 'C:\\\\anaconda3\\\\lib\\\\site-packages\\\\win32', 'C:\\\\anaconda3\\\\lib\\\\site-packages\\\\win32\\\\lib', 'C:\\\\anaconda3\\\\lib\\\\site-packages\\\\Pythonwin', 'C:\\\\chi_py_project', 'C:\\\\chi_py_project', 'C:\\\\chi_py_project']\n"
     ]
    }
   ],
   "source": [
    "# Lib\\site-packages에 경로를 추가하여 영구적으로 path 등록하기 mypath.pth\n",
    "import sys\n",
    "print(sys.path)"
   ]
  },
  {
   "cell_type": "code",
   "execution_count": 45,
   "id": "9bbe7211",
   "metadata": {},
   "outputs": [
    {
     "ename": "ModuleNotFoundError",
     "evalue": "No module named 'module_test'",
     "output_type": "error",
     "traceback": [
      "\u001b[1;31m---------------------------------------------------------------------------\u001b[0m",
      "\u001b[1;31mModuleNotFoundError\u001b[0m                       Traceback (most recent call last)",
      "Cell \u001b[1;32mIn[45], line 6\u001b[0m\n\u001b[0;32m      1\u001b[0m \u001b[38;5;66;03m# if __name__ == '__main__': 의 문법의 의미\u001b[39;00m\n\u001b[0;32m      2\u001b[0m \u001b[38;5;66;03m# __name__ : 프로그램의 이름 을 의미\u001b[39;00m\n\u001b[0;32m      3\u001b[0m \u001b[38;5;66;03m# __main__ : 실행의 주체가 되는 프로그램의 이름을 의미\u001b[39;00m\n\u001b[0;32m      4\u001b[0m \u001b[38;5;66;03m# 그러므로, 위의 if문의 의미는 해당 프로그램이 실행의 주체가 될 때만 실행하라는 의미이다.\u001b[39;00m\n\u001b[1;32m----> 6\u001b[0m \u001b[38;5;28;01mimport\u001b[39;00m \u001b[38;5;21;01mmodule_test\u001b[39;00m\n\u001b[0;32m      7\u001b[0m \u001b[38;5;28mprint\u001b[39m(\u001b[38;5;124m\"\u001b[39m\u001b[38;5;124m07_3\u001b[39m\u001b[38;5;124m\"\u001b[39m, \u001b[38;5;18m__name__\u001b[39m)\n",
      "\u001b[1;31mModuleNotFoundError\u001b[0m: No module named 'module_test'"
     ]
    }
   ],
   "source": [
    "# if __name__ == '__main__': 의 문법의 의미\n",
    "# __name__ : 프로그램의 이름 을 의미\n",
    "# __main__ : 실행의 주체가 되는 프로그램의 이름을 의미\n",
    "# 그러므로, 위의 if문의 의미는 해당 프로그램이 실행의 주체가 될 때만 실행하라는 의미이다.\n",
    "\n",
    "import module_test\n",
    "print(\"07_3\", __name__)"
   ]
  },
  {
   "cell_type": "code",
   "execution_count": 46,
   "id": "4764e7ea",
   "metadata": {},
   "outputs": [
    {
     "ename": "NameError",
     "evalue": "name 'bank' is not defined",
     "output_type": "error",
     "traceback": [
      "\u001b[1;31m---------------------------------------------------------------------------\u001b[0m",
      "\u001b[1;31mNameError\u001b[0m                                 Traceback (most recent call last)",
      "Cell \u001b[1;32mIn[46], line 6\u001b[0m\n\u001b[0;32m      1\u001b[0m \u001b[38;5;66;03m# 패키지 = 모듈 여러개를 모아놓은 것. 라이브러리랑 같은 개념\u001b[39;00m\n\u001b[0;32m      2\u001b[0m \n\u001b[0;32m      3\u001b[0m \n\u001b[0;32m      4\u001b[0m \u001b[38;5;66;03m# 패키지 사용하기 1\u001b[39;00m\n\u001b[0;32m      5\u001b[0m \u001b[38;5;66;03m# import bank.deposit.deposit\u001b[39;00m\n\u001b[1;32m----> 6\u001b[0m \u001b[43mbank\u001b[49m\u001b[38;5;241m.\u001b[39mdeposit\u001b[38;5;241m.\u001b[39mdeposit\u001b[38;5;241m.\u001b[39mdeposit()\n\u001b[0;32m      9\u001b[0m \u001b[38;5;66;03m# 패키지 사용하기 2(사용하고자 하는 함수의 모듈까지 import하는 방법)\u001b[39;00m\n\u001b[0;32m     10\u001b[0m \u001b[38;5;28;01mfrom\u001b[39;00m \u001b[38;5;21;01mbank\u001b[39;00m\u001b[38;5;21;01m.\u001b[39;00m\u001b[38;5;21;01mdeposit\u001b[39;00m \u001b[38;5;28;01mimport\u001b[39;00m deposit\n",
      "\u001b[1;31mNameError\u001b[0m: name 'bank' is not defined"
     ]
    }
   ],
   "source": [
    "# 패키지 = 모듈 여러개를 모아놓은 것. 라이브러리랑 같은 개념\n",
    "\n",
    "\n",
    "# 패키지 사용하기 1\n",
    "# import bank.deposit.deposit\n",
    "bank.deposit.deposit.deposit()\n",
    "\n",
    "\n",
    "# 패키지 사용하기 2(사용하고자 하는 함수의 모듈까지 import하는 방법)\n",
    "from bank.deposit import deposit\n",
    "deposit.deposit()\n",
    "\n",
    "\n",
    "# 패키지 사용하기 3(모듈내 함수 하나를 직접 실행하는방법)\n",
    "from bank.deposit.deposit import deposit\n",
    "deposit()\n",
    "\n",
    "\n",
    "# 패키지 사용하기 4(__init__ 내 all사용의 의미)\n",
    "# 아래와 같이 선언시 deposit 폴더 내 모든 함수를 사용하겠다는 의미이나 찾지 못한다. 이때 all 변수 선언에 의미가있다\n",
    "from bank.deposit import *\n",
    "deposit.deposit()"
   ]
  },
  {
   "cell_type": "code",
   "execution_count": 47,
   "id": "768c0180",
   "metadata": {},
   "outputs": [
    {
     "name": "stdout",
     "output_type": "stream",
     "text": [
      "분자를 입력하세요 : 8\n",
      "분모를 입력하세요 : 0\n"
     ]
    },
    {
     "ename": "ZeroDivisionError",
     "evalue": "division by zero",
     "output_type": "error",
     "traceback": [
      "\u001b[1;31m---------------------------------------------------------------------------\u001b[0m",
      "\u001b[1;31mZeroDivisionError\u001b[0m                         Traceback (most recent call last)",
      "Cell \u001b[1;32mIn[47], line 4\u001b[0m\n\u001b[0;32m      2\u001b[0m first \u001b[38;5;241m=\u001b[39m \u001b[38;5;28mint\u001b[39m(\u001b[38;5;28minput\u001b[39m(\u001b[38;5;124m\"\u001b[39m\u001b[38;5;124m분자를 입력하세요 : \u001b[39m\u001b[38;5;124m\"\u001b[39m))\n\u001b[0;32m      3\u001b[0m second \u001b[38;5;241m=\u001b[39m \u001b[38;5;28mint\u001b[39m(\u001b[38;5;28minput\u001b[39m(\u001b[38;5;124m\"\u001b[39m\u001b[38;5;124m분모를 입력하세요 : \u001b[39m\u001b[38;5;124m\"\u001b[39m))\n\u001b[1;32m----> 4\u001b[0m \u001b[38;5;28mprint\u001b[39m(\u001b[43mfirst\u001b[49m\u001b[43m \u001b[49m\u001b[38;5;241;43m/\u001b[39;49m\u001b[43m \u001b[49m\u001b[43msecond\u001b[49m)\n",
      "\u001b[1;31mZeroDivisionError\u001b[0m: division by zero"
     ]
    }
   ],
   "source": [
    "# # 예외 처리하지 않은 경우\n",
    "first = int(input(\"분자를 입력하세요 : \"))\n",
    "second = int(input(\"분모를 입력하세요 : \"))\n",
    "print(first / second)"
   ]
  },
  {
   "cell_type": "code",
   "execution_count": 48,
   "id": "c8850b4b",
   "metadata": {},
   "outputs": [
    {
     "name": "stdout",
     "output_type": "stream",
     "text": [
      "분자를 입력하세요 : 8\n",
      "분모를 입력하세요 : 0\n",
      "오류입니다.\n"
     ]
    }
   ],
   "source": [
    "# 예외 처리, try except 기본 구조 구문\n",
    "try :\n",
    "    first = int(input(\"분자를 입력하세요 : \"))\n",
    "    second = int(input(\"분모를 입력하세요 : \"))\n",
    "    print(first / second)\n",
    "except :\n",
    "    print(\"오류입니다.\")"
   ]
  },
  {
   "cell_type": "code",
   "execution_count": 49,
   "id": "7511b473",
   "metadata": {},
   "outputs": [
    {
     "name": "stdout",
     "output_type": "stream",
     "text": [
      "프로그램 시작!\n",
      "=======10=======\n",
      "대상 = 10, 제곱값 = 100\n",
      "=======30=======\n",
      "대상 = 30, 제곱값 = 900\n",
      "=======25.2=======\n",
      "대상 = 25.2, 제곱값 = 635.04\n",
      "=======num=======\n"
     ]
    },
    {
     "ename": "TypeError",
     "evalue": "unsupported operand type(s) for ** or pow(): 'str' and 'int'",
     "output_type": "error",
     "traceback": [
      "\u001b[1;31m---------------------------------------------------------------------------\u001b[0m",
      "\u001b[1;31mTypeError\u001b[0m                                 Traceback (most recent call last)",
      "Cell \u001b[1;32mIn[49], line 8\u001b[0m\n\u001b[0;32m      6\u001b[0m \u001b[38;5;28;01mfor\u001b[39;00m i \u001b[38;5;129;01min\u001b[39;00m x :\n\u001b[0;32m      7\u001b[0m     \u001b[38;5;28mprint\u001b[39m(\u001b[38;5;124mf\u001b[39m\u001b[38;5;124m\"\u001b[39m\u001b[38;5;124m=======\u001b[39m\u001b[38;5;132;01m{\u001b[39;00mi\u001b[38;5;132;01m}\u001b[39;00m\u001b[38;5;124m=======\u001b[39m\u001b[38;5;124m\"\u001b[39m)\n\u001b[1;32m----> 8\u001b[0m     y \u001b[38;5;241m=\u001b[39m \u001b[38;5;28;43mpow\u001b[39;49m\u001b[43m(\u001b[49m\u001b[43mi\u001b[49m\u001b[43m,\u001b[49m\u001b[38;5;241;43m2\u001b[39;49m\u001b[43m)\u001b[49m\n\u001b[0;32m      9\u001b[0m     \u001b[38;5;28mprint\u001b[39m(\u001b[38;5;124mf\u001b[39m\u001b[38;5;124m'\u001b[39m\u001b[38;5;124m대상 = \u001b[39m\u001b[38;5;132;01m{\u001b[39;00mi\u001b[38;5;132;01m}\u001b[39;00m\u001b[38;5;124m, 제곱값 = \u001b[39m\u001b[38;5;132;01m{\u001b[39;00my\u001b[38;5;132;01m}\u001b[39;00m\u001b[38;5;124m'\u001b[39m)\n\u001b[0;32m     11\u001b[0m \u001b[38;5;28mprint\u001b[39m(\u001b[38;5;124m'\u001b[39m\u001b[38;5;124m프로그램 종료!\u001b[39m\u001b[38;5;124m'\u001b[39m)\n",
      "\u001b[1;31mTypeError\u001b[0m: unsupported operand type(s) for ** or pow(): 'str' and 'int'"
     ]
    }
   ],
   "source": [
    "# 연습문제 01\n",
    "# 현재 이 코드는 오류가 난다. 이를 예외처리를 통해 처리하라\n",
    "print('프로그램 시작!')\n",
    "x = [10, 30, 25.2, 'num', 14, 51]\n",
    "\n",
    "for i in x :\n",
    "    print(f\"======={i}=======\")\n",
    "    y = pow(i,2)\n",
    "    print(f'대상 = {i}, 제곱값 = {y}')\n",
    "\n",
    "print('프로그램 종료!')"
   ]
  },
  {
   "cell_type": "code",
   "execution_count": 50,
   "id": "36549a95",
   "metadata": {},
   "outputs": [
    {
     "name": "stdout",
     "output_type": "stream",
     "text": [
      "프로그램 시작!\n",
      "=======10=======\n",
      "대상 = 10, 제곱값 = 100\n",
      "=======30=======\n",
      "대상 = 30, 제곱값 = 900\n",
      "=======25.2=======\n",
      "대상 = 25.2, 제곱값 = 635.04\n",
      "=======num=======\n",
      "에러내용 [unsupported operand type(s) for ** or pow(): 'str' and 'int'], num는 숫자가 아닙니다.\n",
      "=======14=======\n",
      "대상 = 14, 제곱값 = 196\n",
      "=======51=======\n",
      "대상 = 51, 제곱값 = 2601\n",
      "프로그램 종료!\n"
     ]
    }
   ],
   "source": [
    "print('프로그램 시작!')\n",
    "x = [10, 30, 25.2, 'num', 14, 51]\n",
    "\n",
    "for i in x :\n",
    "    try :\n",
    "        print(f\"======={i}=======\")\n",
    "        y = pow(i,2)\n",
    "        print(f'대상 = {i}, 제곱값 = {y}')\n",
    "    except TypeError as err :\n",
    "        print(f'에러내용 [{err}], {i}는 숫자가 아닙니다.')\n",
    "        # print(f'{i}는 숫자가 아닙니다.')\n",
    "\n",
    "print('프로그램 종료!')"
   ]
  },
  {
   "cell_type": "code",
   "execution_count": 51,
   "id": "885431fa",
   "metadata": {},
   "outputs": [
    {
     "name": "stdout",
     "output_type": "stream",
     "text": [
      "분자를 입력하세요 : 한글\n",
      "에러내용 : [invalid literal for int() with base 10: '한글'], 숫자를 입력해주세요.\n",
      "에러가 나던 안나던 출력되는 finally 구문\n",
      "분자를 입력하세요 : aa\n",
      "에러내용 : [invalid literal for int() with base 10: 'aa'], 숫자를 입력해주세요.\n",
      "에러가 나던 안나던 출력되는 finally 구문\n",
      "분자를 입력하세요 : 10\n",
      "분모를 입력하세요 : 0\n",
      "에러내용 : [division by zero], 0으로 나누지 말아주세요.\n",
      "에러가 나던 안나던 출력되는 finally 구문\n",
      "분자를 입력하세요 : 10\n",
      "분모를 입력하세요 : 3\n",
      "에러가 나던 안나던 출력되는 finally 구문\n"
     ]
    }
   ],
   "source": [
    "# 예외 처리, try except 구조 발전\n",
    "while True:\n",
    "    try:\n",
    "        first = int(input(\"분자를 입력하세요 : \"))\n",
    "        second = int(input(\"분모를 입력하세요 : \"))\n",
    "        result = (first / second)\n",
    "        break\n",
    "    except ValueError as ve:\n",
    "        print(f\"에러내용 : [{ve}], 숫자를 입력해주세요.\")\n",
    "    except ZeroDivisionError as ze:\n",
    "        print(f\"에러내용 : [{ze}], 0으로 나누지 말아주세요.\")\n",
    "    except Exception as e:\n",
    "        print(f\"에러내용 : [{e}], 오류입니다.\")\n",
    "    else:\n",
    "        print(f\"두 정수가 모두 올바른 값으로 입력되어 출력합니다~ 나눗셈 값은 [{result}]입니다\")\n",
    "    finally:\n",
    "        print(\"에러가 나던 안나던 출력되는 finally 구문\")"
   ]
  },
  {
   "cell_type": "code",
   "execution_count": 52,
   "id": "035737c8",
   "metadata": {},
   "outputs": [
    {
     "name": "stdout",
     "output_type": "stream",
     "text": [
      "독수리 입니다.\n",
      "하늘을 활공합니다.\n"
     ]
    }
   ],
   "source": [
    "# 에러 강제를 통해 상속을 유도 한다.\n",
    "class Bird:\n",
    "    def fly(self):\n",
    "        print(\"상속 후 꼭 오버라이딩 하여 사용하시오.\")\n",
    "        raise Exception\n",
    "\n",
    "class Eagle(Bird):\n",
    "    print(\"독수리 입니다.\")\n",
    "    def fly(self):\n",
    "        print(\"하늘을 활공합니다.\")\n",
    "\n",
    "eagle1 = Eagle()\n",
    "eagle1.fly()"
   ]
  }
 ],
 "metadata": {
  "kernelspec": {
   "display_name": "Python 3 (ipykernel)",
   "language": "python",
   "name": "python3"
  },
  "language_info": {
   "codemirror_mode": {
    "name": "ipython",
    "version": 3
   },
   "file_extension": ".py",
   "mimetype": "text/x-python",
   "name": "python",
   "nbconvert_exporter": "python",
   "pygments_lexer": "ipython3",
   "version": "3.9.12"
  }
 },
 "nbformat": 4,
 "nbformat_minor": 5
}
