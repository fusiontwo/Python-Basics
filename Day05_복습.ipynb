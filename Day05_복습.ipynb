{
 "cells": [
  {
   "cell_type": "code",
   "execution_count": 1,
   "id": "0e19d4a0",
   "metadata": {},
   "outputs": [
    {
     "name": "stdout",
     "output_type": "stream",
     "text": [
      "실행문 10\n",
      "실행문 9\n",
      "실행문 8\n",
      "실행문 7\n",
      "실행문 6\n",
      "실행문 5\n",
      "실행문 4\n",
      "실행문 3\n",
      "실행문 2\n",
      "실행문 1\n"
     ]
    }
   ],
   "source": [
    "num = 10\n",
    "while 0 < num :\n",
    "    print(\"실행문\",num)\n",
    "    num -= 1"
   ]
  },
  {
   "cell_type": "code",
   "execution_count": 2,
   "id": "62746867",
   "metadata": {},
   "outputs": [
    {
     "name": "stdout",
     "output_type": "stream",
     "text": [
      "1회 수행\n",
      "2회 수행\n",
      "3회 수행\n",
      "4회 수행\n",
      "5회 수행\n",
      "5회 수행 종료\n"
     ]
    }
   ],
   "source": [
    "pushup = 0\n",
    "while pushup < 10 :\n",
    "    pushup += 1\n",
    "    print(f\"{pushup}회 수행\")\n",
    "    if pushup == 5 :\n",
    "        print(\"5회 수행 종료\")\n",
    "        break"
   ]
  },
  {
   "cell_type": "code",
   "execution_count": 3,
   "id": "e0e672ca",
   "metadata": {},
   "outputs": [
    {
     "name": "stdout",
     "output_type": "stream",
     "text": [
      "<built-in function sum>\n"
     ]
    }
   ],
   "source": [
    "# for 문으로 합 구하기\n",
    "sum_num = 0\n",
    "for i in range(1,101) :\n",
    "    sum_num += i\n",
    "print(sum)"
   ]
  },
  {
   "cell_type": "code",
   "execution_count": 4,
   "id": "d6fe2505",
   "metadata": {},
   "outputs": [
    {
     "name": "stdout",
     "output_type": "stream",
     "text": [
      "5050\n"
     ]
    }
   ],
   "source": [
    "# while 문으로 합 구하기\n",
    "num = 0\n",
    "sum_num = 0\n",
    "while num < 100 : # 범위 주의\n",
    "    num += 1\n",
    "    sum_num += num\n",
    "print(sum_num)"
   ]
  },
  {
   "cell_type": "code",
   "execution_count": 5,
   "id": "6558b59c",
   "metadata": {},
   "outputs": [
    {
     "ename": "IndentationError",
     "evalue": "expected an indented block (681001797.py, line 2)",
     "output_type": "error",
     "traceback": [
      "\u001b[1;36m  Input \u001b[1;32mIn [5]\u001b[1;36m\u001b[0m\n\u001b[1;33m    while True :\u001b[0m\n\u001b[1;37m    ^\u001b[0m\n\u001b[1;31mIndentationError\u001b[0m\u001b[1;31m:\u001b[0m expected an indented block\n"
     ]
    }
   ],
   "source": [
    "while 1 :\n",
    "while True :\n",
    "    print(\"무한루프\")"
   ]
  },
  {
   "cell_type": "code",
   "execution_count": 6,
   "id": "94a00160",
   "metadata": {},
   "outputs": [
    {
     "name": "stdout",
     "output_type": "stream",
     "text": [
      "\n",
      "1. Add\n",
      "2. Del\n",
      "3. List\n",
      "4. Quit\n",
      "Enter Number: 1\n",
      "\n",
      "1. Add\n",
      "2. Del\n",
      "3. List\n",
      "4. Quit\n",
      "Enter Number: 5\n",
      "\n",
      "1. Add\n",
      "2. Del\n",
      "3. List\n",
      "4. Quit\n",
      "Enter Number: 4\n",
      "정상종료\n"
     ]
    }
   ],
   "source": [
    "msg = '''\n",
    "1. Add\n",
    "2. Del\n",
    "3. List\n",
    "4. Quit'''\n",
    "\n",
    "num = 0\n",
    "while num != 4 :\n",
    "    print(msg)\n",
    "    num=int(input(\"Enter Number: \"))\n",
    "print(\"정상종료\")"
   ]
  },
  {
   "cell_type": "code",
   "execution_count": 7,
   "id": "4c9f1df3",
   "metadata": {},
   "outputs": [
    {
     "name": "stdout",
     "output_type": "stream",
     "text": [
      "\n",
      "1. Add\n",
      "2. Del\n",
      "3. List\n",
      "4. Quit\n",
      "Enter Number: 1\n",
      "\n",
      "1. Add\n",
      "2. Del\n",
      "3. List\n",
      "4. Quit\n",
      "Enter Number: 4\n",
      "정상 종료\n"
     ]
    }
   ],
   "source": [
    "num = 0\n",
    "while True :\n",
    "    print(msg)\n",
    "    num = int(input(\"Enter Number: \"))\n",
    "    if num == 4 :\n",
    "        print(\"정상 종료\")\n",
    "        break"
   ]
  },
  {
   "cell_type": "code",
   "execution_count": 8,
   "id": "78a998b4",
   "metadata": {},
   "outputs": [
    {
     "name": "stdout",
     "output_type": "stream",
     "text": [
      "\n",
      "1. Add\n",
      "2. Del\n",
      "3. List\n",
      "4. Quit\n",
      "Enter Number: 1\n",
      "Add 합니다.\n",
      "\n",
      "1. Add\n",
      "2. Del\n",
      "3. List\n",
      "4. Quit\n",
      "Enter Number: 4\n",
      "정상 종료\n"
     ]
    }
   ],
   "source": [
    "num = 0\n",
    "while True :\n",
    "    print(msg)\n",
    "    num = int(input(\"Enter Number: \"))\n",
    "    if num == 1 :\n",
    "        print(\"Add 합니다.\")\n",
    "    elif num == 4 :\n",
    "        print(\"정상 종료\")\n",
    "        break\n",
    "    else :\n",
    "        pass"
   ]
  },
  {
   "cell_type": "code",
   "execution_count": 1,
   "id": "e3c6245e",
   "metadata": {},
   "outputs": [
    {
     "name": "stdout",
     "output_type": "stream",
     "text": [
      "리스트의 크기를 정하세요! 5\n"
     ]
    }
   ],
   "source": [
    "size = int(input(\"리스트의 크기를 정하세요! \"))\n",
    "while size > 10 :\n",
    "    print(\"리스트의 크기를 10 이하로 다시 할당하세요!\")"
   ]
  },
  {
   "cell_type": "code",
   "execution_count": 3,
   "id": "993bd6a9",
   "metadata": {},
   "outputs": [
    {
     "name": "stdout",
     "output_type": "stream",
     "text": [
      "리스트의 크기를 정하세요!6\n",
      "값을 입력하세요: 8\n",
      "값을 입력하세요: 5\n",
      "값을 입력하세요: 1\n",
      "값을 입력하세요: 13\n",
      "값을 입력하세요: 4\n",
      "값을 입력하세요: 5\n",
      "[8, 5, 1, 13, 4, 5]\n"
     ]
    }
   ],
   "source": [
    "while True :\n",
    "    size = int(input(\"리스트의 크기를 정하세요!\"))\n",
    "    if size <= 10 :\n",
    "        break\n",
    "    print(\"리스트의 크기를 10 이하로 다시 할당하세요!\")\n",
    "    \n",
    "result_list = []\n",
    "x = 0\n",
    "while x < size :\n",
    "    result_list.append(int(input(\"값을 입력하세요: \")))\n",
    "    x += 1\n",
    "print(result_list)"
   ]
  },
  {
   "cell_type": "code",
   "execution_count": 5,
   "id": "c564b273",
   "metadata": {},
   "outputs": [
    {
     "name": "stdout",
     "output_type": "stream",
     "text": [
      "리스트의 크기를 정하세요: 6\n",
      "[86, 8, 18, 97, 53, 64]\n"
     ]
    }
   ],
   "source": [
    "# randint 함수는 random 이라는 모듈에 있다.\n",
    "import random # random 드래그하고 정의로 이동 눌러보기\n",
    "\n",
    "list_num = int(input(\"리스트의 크기를 정하세요: \"))\n",
    "num = 0\n",
    "result_list = []\n",
    "while num < list_num :\n",
    "    result_list.append(random.randint(1,101)) #(페이지.함수)\n",
    "    num += 1\n",
    "print(result_list)"
   ]
  },
  {
   "cell_type": "code",
   "execution_count": 6,
   "id": "604420f5",
   "metadata": {},
   "outputs": [
    {
     "name": "stdout",
     "output_type": "stream",
     "text": [
      "푸쉬업 1회 수행\n",
      "푸쉬업 2회 수행\n",
      "푸쉬업 3회 수행\n",
      "푸쉬업 4회 수행\n",
      "푸쉬업 5회 수행\n",
      "푸쉬업 6회 수행\n",
      "푸쉬업 7회 수행\n",
      "푸쉬업 8회 수행\n",
      "푸쉬업 9회 수행\n",
      "푸쉬업 10회 수행\n",
      "운동 끝\n"
     ]
    }
   ],
   "source": [
    "pushup = 0\n",
    "while pushup < 10 :\n",
    "    pushup += 1\n",
    "    print(\"푸쉬업 %d회 수행\"%pushup)\n",
    "print(\"운동 끝\")"
   ]
  },
  {
   "cell_type": "code",
   "execution_count": 7,
   "id": "0e0984a9",
   "metadata": {},
   "outputs": [
    {
     "name": "stdout",
     "output_type": "stream",
     "text": [
      "푸쉬업 1회 수행\n",
      "푸쉬업 2회 수행\n",
      "푸쉬업 3회 수행\n",
      "푸쉬업 4회 수행\n",
      "푸쉬업 5회 수행\n",
      "푸쉬업 6회 수행\n",
      "푸쉬업 7회 수행\n",
      "푸쉬업 8회 수행\n",
      "푸쉬업 9회 수행\n",
      "푸쉬업 10회 수행\n",
      "운동 끝\n"
     ]
    }
   ],
   "source": [
    "pushup = 0\n",
    "while True :\n",
    "    pushup += 1\n",
    "    print(\"푸쉬업 %d회 수행\"%pushup)\n",
    "    if pushup == 10 :\n",
    "        print(\"운동 끝\")\n",
    "        break"
   ]
  },
  {
   "cell_type": "code",
   "execution_count": 8,
   "id": "2b73ba0b",
   "metadata": {},
   "outputs": [
    {
     "name": "stdout",
     "output_type": "stream",
     "text": [
      "1 3 5 7 9 11 13 15 17 19 21 23 25 27 29 31 33 35 37 39 41 43 45 47 49 51 53 55 57 59 61 63 65 67 69 71 73 75 77 79 81 83 85 87 89 91 93 95 97 99 "
     ]
    }
   ],
   "source": [
    "# continue 문으로 1~100 중 홀수 출력\n",
    "number = 0\n",
    "while number < 100 :\n",
    "    number += 1\n",
    "    if number % 2 == 0 :\n",
    "        continue # 짝수일 때는 print 문장을 출력하지 않도록\n",
    "    print(number, end=\" \")"
   ]
  },
  {
   "cell_type": "code",
   "execution_count": 9,
   "id": "9c84a69a",
   "metadata": {},
   "outputs": [
    {
     "name": "stdout",
     "output_type": "stream",
     "text": [
      "푸쉬업 0회 수행\n",
      "푸쉬업 1회 수행\n",
      "푸쉬업 2회 수행\n",
      "푸쉬업 3회 수행\n",
      "푸쉬업 4회 수행\n",
      "푸쉬업 5회 수행\n",
      "푸쉬업 6회 수행\n",
      "푸쉬업 7회 수행\n",
      "푸쉬업 8회 수행\n",
      "푸쉬업 9회 수행\n",
      "푸쉬업 10회 수행\n",
      "오늘 운동 끝\n"
     ]
    }
   ],
   "source": [
    "pushup = 0\n",
    "while True :\n",
    "    if pushup <= 10 :\n",
    "        print(\"푸쉬업 %d회 수행\"%pushup)\n",
    "        pushup += 1\n",
    "        continue\n",
    "    print(\"오늘 운동 끝\")\n",
    "    break"
   ]
  },
  {
   "cell_type": "code",
   "execution_count": 11,
   "id": "42bfc744",
   "metadata": {},
   "outputs": [
    {
     "name": "stdout",
     "output_type": "stream",
     "text": [
      "예상되는 숫자를 입력하시오: 5\n",
      "더 큰 값을 입력하세요\n",
      "예상되는 숫자를 입력하시오: 7\n",
      "성공\n"
     ]
    }
   ],
   "source": [
    "import random\n",
    "num_random = random.randint(1,10)\n",
    "\n",
    "while True :\n",
    "    num = int(input(\"예상되는 숫자를 입력하시오: \"))\n",
    "    if num == num_random :\n",
    "        print(\"성공\")\n",
    "        break\n",
    "    elif num > num_random :\n",
    "        print(\"더 작은 값을 입력하세요\")\n",
    "    else :\n",
    "        print(\"더 큰 값을 입력하세요\")"
   ]
  },
  {
   "cell_type": "code",
   "execution_count": null,
   "id": "d4f4ffde",
   "metadata": {},
   "outputs": [
    {
     "name": "stderr",
     "output_type": "stream",
     "text": [
      "IOPub data rate exceeded.\n",
      "The notebook server will temporarily stop sending output\n",
      "to the client in order to avoid crashing it.\n",
      "To change this limit, set the config variable\n",
      "`--NotebookApp.iopub_data_rate_limit`.\n",
      "\n",
      "Current values:\n",
      "NotebookApp.iopub_data_rate_limit=1000000.0 (bytes/sec)\n",
      "NotebookApp.rate_limit_window=3.0 (secs)\n",
      "\n"
     ]
    }
   ],
   "source": [
    "msg = '''비 갠 뒤에 비애 대신 a happy end\n",
    "비스듬히 씩 비웃듣 칠색 무늬의 무지개\n",
    "철없이 철 지나 철들지 못해 (still)'''\n",
    "msg.replace('\\n',' ')\n",
    "msg.split( )\n",
    "list = []\n",
    "count = 0\n",
    "while True:\n",
    "    for i in msg :\n",
    "        list.append(i)\n",
    "        count += 1\n",
    "    print(list)"
   ]
  }
 ],
 "metadata": {
  "kernelspec": {
   "display_name": "Python 3 (ipykernel)",
   "language": "python",
   "name": "python3"
  },
  "language_info": {
   "codemirror_mode": {
    "name": "ipython",
    "version": 3
   },
   "file_extension": ".py",
   "mimetype": "text/x-python",
   "name": "python",
   "nbconvert_exporter": "python",
   "pygments_lexer": "ipython3",
   "version": "3.9.12"
  }
 },
 "nbformat": 4,
 "nbformat_minor": 5
}
