{
 "cells": [
  {
   "cell_type": "code",
   "execution_count": 43,
   "metadata": {},
   "outputs": [
    {
     "name": "stdout",
     "output_type": "stream",
     "text": [
      "<class 'int'> 1\n",
      "<class 'str'> 1\n"
     ]
    }
   ],
   "source": [
    "num_01 = 1\n",
    "num_02 = \"1\"\n",
    "print(type(num_01), num_01)\n",
    "print(type(num_02), num_02)"
   ]
  },
  {
   "cell_type": "code",
   "execution_count": 44,
   "metadata": {},
   "outputs": [
    {
     "ename": "TypeError",
     "evalue": "unsupported operand type(s) for +: 'int' and 'str'",
     "output_type": "error",
     "traceback": [
      "\u001b[1;31m---------------------------------------------------------------------------\u001b[0m",
      "\u001b[1;31mTypeError\u001b[0m                                 Traceback (most recent call last)",
      "\u001b[1;32mUntitled-2.ipynb 셀 2\u001b[0m in \u001b[0;36m<cell line: 1>\u001b[1;34m()\u001b[0m\n\u001b[1;32m----> <a href='vscode-notebook-cell:Untitled-2.ipynb?jupyter-notebook#W2sdW50aXRsZWQ%3D?line=0'>1</a>\u001b[0m \u001b[39mprint\u001b[39m(num_01 \u001b[39m+\u001b[39;49m num_02)\n",
      "\u001b[1;31mTypeError\u001b[0m: unsupported operand type(s) for +: 'int' and 'str'"
     ]
    }
   ],
   "source": [
    "print(num_01 + num_02)"
   ]
  },
  {
   "cell_type": "code",
   "execution_count": null,
   "metadata": {},
   "outputs": [
    {
     "name": "stdout",
     "output_type": "stream",
     "text": [
      "Hello \n",
      "'World'\n",
      "Hello \n",
      "\"Mega\"\n",
      "Hello\n",
      "Mega\n"
     ]
    }
   ],
   "source": [
    "msg = \"Hello \\n'World'\"\n",
    "msg_mega = 'Hello \\n\"Mega\"'\n",
    "msg_update = '''Hello\n",
    "Mega'''\n",
    "\n",
    "print(msg)\n",
    "print(msg_mega)\n",
    "print(msg_update)"
   ]
  },
  {
   "cell_type": "code",
   "execution_count": null,
   "metadata": {},
   "outputs": [
    {
     "name": "stdout",
     "output_type": "stream",
     "text": [
      "Pythonis fun\n"
     ]
    }
   ],
   "source": [
    "a = \"Python\"\n",
    "b = \"is fun\"\n",
    "print(a+b)"
   ]
  },
  {
   "cell_type": "code",
   "execution_count": null,
   "metadata": {},
   "outputs": [
    {
     "data": {
      "text/plain": [
       "100"
      ]
     },
     "execution_count": 14,
     "metadata": {},
     "output_type": "execute_result"
    }
   ],
   "source": [
    "abs(-100)"
   ]
  },
  {
   "cell_type": "code",
   "execution_count": null,
   "metadata": {},
   "outputs": [
    {
     "name": "stdout",
     "output_type": "stream",
     "text": [
      "==============================\n",
      "python is fun\n"
     ]
    }
   ],
   "source": [
    "word_01 = \"python \"\n",
    "word_02 = \"is fun\"\n",
    "word_result = word_01 + word_02 # 변수를 사용해서 간편하게\n",
    "print(\"=\"*30) # 반복 출력\n",
    "print(word_result)"
   ]
  },
  {
   "cell_type": "code",
   "execution_count": null,
   "metadata": {},
   "outputs": [
    {
     "name": "stdout",
     "output_type": "stream",
     "text": [
      "msg변수 값의 사이즈 :  13\n"
     ]
    },
    {
     "ename": "IndexError",
     "evalue": "string index out of range",
     "output_type": "error",
     "traceback": [
      "\u001b[1;31m---------------------------------------------------------------------------\u001b[0m",
      "\u001b[1;31mIndexError\u001b[0m                                Traceback (most recent call last)",
      "\u001b[1;32mUntitled-2.ipynb 셀 7\u001b[0m in \u001b[0;36m<cell line: 4>\u001b[1;34m()\u001b[0m\n\u001b[0;32m      <a href='vscode-notebook-cell:Untitled-2.ipynb?jupyter-notebook#X10sdW50aXRsZWQ%3D?line=1'>2</a>\u001b[0m \u001b[39mprint\u001b[39m(\u001b[39m\"\u001b[39m\u001b[39mmsg변수 값의 사이즈 : \u001b[39m\u001b[39m\"\u001b[39m, \u001b[39mlen\u001b[39m(msg))\n\u001b[0;32m      <a href='vscode-notebook-cell:Untitled-2.ipynb?jupyter-notebook#X10sdW50aXRsZWQ%3D?line=2'>3</a>\u001b[0m msg[\u001b[39m1\u001b[39m]\n\u001b[1;32m----> <a href='vscode-notebook-cell:Untitled-2.ipynb?jupyter-notebook#X10sdW50aXRsZWQ%3D?line=3'>4</a>\u001b[0m \u001b[39mprint\u001b[39m(msg[\u001b[39m15\u001b[39;49m])\n",
      "\u001b[1;31mIndexError\u001b[0m: string index out of range"
     ]
    }
   ],
   "source": [
    "msg = \"python is fun\"\n",
    "print(\"msg변수 값의 사이즈 : \", len(msg))\n",
    "msg[1]\n",
    "print(msg[15]) # 변수의 범위를 넘어서 인덱싱한 경우"
   ]
  },
  {
   "cell_type": "code",
   "execution_count": null,
   "metadata": {},
   "outputs": [
    {
     "name": "stdout",
     "output_type": "stream",
     "text": [
      "pytho\n",
      "pytho\n",
      "fun\n",
      "pto sfn\n"
     ]
    }
   ],
   "source": [
    "print(msg[0:5]) #앞은 이상, 뒤는 미만\n",
    "print(msg[:5]) #앞을 비워두어도 같은 결과\n",
    "print(msg[10:13])\n",
    "print(msg[::2]) #a[x:y:z]에서 z는 간격"
   ]
  },
  {
   "cell_type": "code",
   "execution_count": 63,
   "metadata": {},
   "outputs": [
    {
     "name": "stdout",
     "output_type": "stream",
     "text": [
      "20221225은 Christmas입니다.\n",
      "20221225은 Christmas입니다.\n",
      "20221225은 Christmas입니다.\n",
      "20221225은 Christmas입니다.\n",
      "20221225은 Christmas입니다.\n"
     ]
    }
   ],
   "source": [
    "a = \"20221225\"+\"Christmas\"\n",
    "date = a[0:8] # 앞에 0 생략해도 된다.\n",
    "day = a[8:17]\n",
    "print(\"%s은 %s입니다.\"%(date, day)) # 포맷팅\n",
    "# C언어와 파이썬 문법이 조금 다르다\n",
    "# %s는 문자열이고, %c는 문자 1개라서 아까 오류가 났던 것!\n",
    "print(date+\"은 \"+day+\"입니다.\")\n",
    "\n",
    "# 다양한 포맷팅 방식 3가지\n",
    "print(\"%d은 %s입니다.\"%(int(date), day)) #date를 정수형으로 형변환\n",
    "print(\"{}은 {}입니다.\".format(date, day))\n",
    "print(f\"{date}은 {day}입니다.\") "
   ]
  },
  {
   "cell_type": "code",
   "execution_count": 55,
   "metadata": {},
   "outputs": [
    {
     "name": "stdout",
     "output_type": "stream",
     "text": [
      "1:2:3:4:5\n",
      "12345\n"
     ]
    }
   ],
   "source": [
    "print(1,2,3,4,5, sep=\":\") # sep 함수 : 콤마를 \"\"안에 있는 것으로 바꾸어준다.\n",
    "print(1,2,3,4,5, sep=\"\")"
   ]
  },
  {
   "cell_type": "code",
   "execution_count": 64,
   "metadata": {},
   "outputs": [
    {
     "name": "stdout",
     "output_type": "stream",
     "text": [
      "2022\n",
      "2022\n"
     ]
    }
   ],
   "source": [
    "date = 2022\n",
    "print(\"%d\"%date) # 그냥 값만 출력하는데 포맷팅은 불필요\n",
    "print(2022)"
   ]
  },
  {
   "cell_type": "code",
   "execution_count": 75,
   "metadata": {},
   "outputs": [
    {
     "name": "stdout",
     "output_type": "stream",
     "text": [
      "1\n",
      "2\n"
     ]
    }
   ],
   "source": [
    "word = \"python\"\n",
    "print(word.count(\"p\"))\n",
    "print(word.find(\"t\")) #인덱스처럼 0부터 시작해서 세기 때문에 2가 나온 것"
   ]
  },
  {
   "cell_type": "code",
   "execution_count": 74,
   "metadata": {},
   "outputs": [
    {
     "name": "stdout",
     "output_type": "stream",
     "text": [
      "0\n"
     ]
    },
    {
     "ename": "ValueError",
     "evalue": "substring not found",
     "output_type": "error",
     "traceback": [
      "\u001b[1;31m---------------------------------------------------------------------------\u001b[0m",
      "\u001b[1;31mValueError\u001b[0m                                Traceback (most recent call last)",
      "\u001b[1;32mUntitled-2.ipynb 셀 13\u001b[0m in \u001b[0;36m<cell line: 2>\u001b[1;34m()\u001b[0m\n\u001b[0;32m      <a href='vscode-notebook-cell:Untitled-2.ipynb?jupyter-notebook#X16sdW50aXRsZWQ%3D?line=0'>1</a>\u001b[0m \u001b[39mprint\u001b[39m(word\u001b[39m.\u001b[39mindex(\u001b[39m\"\u001b[39m\u001b[39mp\u001b[39m\u001b[39m\"\u001b[39m))\n\u001b[1;32m----> <a href='vscode-notebook-cell:Untitled-2.ipynb?jupyter-notebook#X16sdW50aXRsZWQ%3D?line=1'>2</a>\u001b[0m \u001b[39mprint\u001b[39m(word\u001b[39m.\u001b[39;49mindex(\u001b[39m\"\u001b[39;49m\u001b[39mz\u001b[39;49m\u001b[39m\"\u001b[39;49m))\n",
      "\u001b[1;31mValueError\u001b[0m: substring not found"
     ]
    }
   ],
   "source": [
    "print(word.index(\"p\"))\n",
    "print(word.index(\"z\")) # 없는 것을 찾으면 에러가 난다."
   ]
  },
  {
   "cell_type": "code",
   "execution_count": 6,
   "metadata": {},
   "outputs": [
    {
     "name": "stdout",
     "output_type": "stream",
     "text": [
      "PYTHON\n",
      "python\n"
     ]
    }
   ],
   "source": [
    "word = \"python\"\n",
    "upper_word = \"PYTHON\"\n",
    "print(word.upper()) # 대문자로 변환\n",
    "print(upper_word.lower()) # 소문자로 변환"
   ]
  },
  {
   "cell_type": "code",
   "execution_count": 8,
   "metadata": {},
   "outputs": [
    {
     "name": "stdout",
     "output_type": "stream",
     "text": [
      "hello python\n"
     ]
    }
   ],
   "source": [
    "msg = \"hello python\" # 문자열을 드래그하고 shift+따옴표 클릭하면 문자열로 지정된다.\n",
    "print(msg)"
   ]
  },
  {
   "cell_type": "code",
   "execution_count": 12,
   "metadata": {},
   "outputs": [
    {
     "name": "stdout",
     "output_type": "stream",
     "text": [
      "   hello python   \n",
      "hello python\n",
      "   hello python\n",
      "hello python   \n"
     ]
    }
   ],
   "source": [
    "msg = \"   hello python   \"\n",
    "print(msg)\n",
    "print(msg.strip())\n",
    "print(msg.rstrip()) #오른쪽 공백을 지워라\n",
    "print(msg.lstrip()) #왼쪽 공백을 지워라"
   ]
  },
  {
   "cell_type": "code",
   "execution_count": 15,
   "metadata": {},
   "outputs": [
    {
     "name": "stdout",
     "output_type": "stream",
     "text": [
      "I love soccer\n",
      "I love basketball\n"
     ]
    }
   ],
   "source": [
    "msg = \"I love basketball\"\n",
    "print(msg.replace(\"basketball\", \"soccer\")) # 원하는 단어로 바꿔준다.(원본값이 바뀌지는 않음)\n",
    "print(msg)"
   ]
  },
  {
   "cell_type": "code",
   "execution_count": 17,
   "metadata": {},
   "outputs": [
    {
     "name": "stdout",
     "output_type": "stream",
     "text": [
      "I love soccer\n"
     ]
    }
   ],
   "source": [
    "msg = \"I love basketball\"\n",
    "msg_change = msg.replace(\"basketball\", \"soccer\")\n",
    "print(msg_change)"
   ]
  },
  {
   "cell_type": "code",
   "execution_count": 19,
   "metadata": {},
   "outputs": [
    {
     "name": "stdout",
     "output_type": "stream",
     "text": [
      "['I', 'love', 'basketball']\n"
     ]
    }
   ],
   "source": [
    "list_msg = msg.split() # 하나의 문자열을 리스트화해서 저장\n",
    "print(list_msg)"
   ]
  },
  {
   "cell_type": "code",
   "execution_count": 23,
   "metadata": {},
   "outputs": [
    {
     "data": {
      "text/plain": [
       "['1', '2', '3', '4', '5', '6', '7']"
      ]
     },
     "execution_count": 23,
     "metadata": {},
     "output_type": "execute_result"
    }
   ],
   "source": [
    "web_site = \"1:2:3:4:5:6:7\"\n",
    "web_site.split(\":\") # 콜론을 기준으로 split하겠다."
   ]
  },
  {
   "cell_type": "code",
   "execution_count": 27,
   "metadata": {},
   "outputs": [
    {
     "name": "stdout",
     "output_type": "stream",
     "text": [
      "2차 방정식 결과 =  22.6\n"
     ]
    }
   ],
   "source": [
    "x = 2 # 변수 x가 y에 포함되면 먼저 정의해야 한다.\n",
    "y = 2.5*x**2+3.3*x+6\n",
    "print(\"2차 방정식 결과 = \", y)"
   ]
  },
  {
   "cell_type": "code",
   "execution_count": 28,
   "metadata": {},
   "outputs": [
    {
     "name": "stdout",
     "output_type": "stream",
     "text": [
      "2차 방정식 결과 =  22.6\n"
     ]
    }
   ],
   "source": [
    "x = 2 # 변수 x가 y에 포함되면 먼저 정의해야 한다.\n",
    "y = 2.5*pow(x,2)+3.3*x+6\n",
    "print(\"2차 방정식 결과 = \", y)"
   ]
  },
  {
   "cell_type": "code",
   "execution_count": 40,
   "metadata": {},
   "outputs": [
    {
     "name": "stdout",
     "output_type": "stream",
     "text": [
      "<class 'str'> 2\n"
     ]
    },
    {
     "ename": "TypeError",
     "evalue": "unsupported operand type(s) for ** or pow(): 'str' and 'int'",
     "output_type": "error",
     "traceback": [
      "\u001b[1;31m---------------------------------------------------------------------------\u001b[0m",
      "\u001b[1;31mTypeError\u001b[0m                                 Traceback (most recent call last)",
      "\u001b[1;32mc:\\Users\\user\\Desktop\\Untitled-2.ipynb 셀 23\u001b[0m in \u001b[0;36m<cell line: 3>\u001b[1;34m()\u001b[0m\n\u001b[0;32m      <a href='vscode-notebook-cell:/c%3A/Users/user/Desktop/Untitled-2.ipynb#X32sZmlsZQ%3D%3D?line=0'>1</a>\u001b[0m x \u001b[39m=\u001b[39m \u001b[39minput\u001b[39m(\u001b[39m\"\u001b[39m\u001b[39mx의 값을 입력하세요. \u001b[39m\u001b[39m\"\u001b[39m) \u001b[39m# 오류가 나는 이유는 input이 str형이기 때문이다.\u001b[39;00m\n\u001b[0;32m      <a href='vscode-notebook-cell:/c%3A/Users/user/Desktop/Untitled-2.ipynb#X32sZmlsZQ%3D%3D?line=1'>2</a>\u001b[0m \u001b[39mprint\u001b[39m(\u001b[39mtype\u001b[39m(x), x)\n\u001b[1;32m----> <a href='vscode-notebook-cell:/c%3A/Users/user/Desktop/Untitled-2.ipynb#X32sZmlsZQ%3D%3D?line=2'>3</a>\u001b[0m y \u001b[39m=\u001b[39m \u001b[39m2.5\u001b[39m\u001b[39m*\u001b[39mx\u001b[39m*\u001b[39;49m\u001b[39m*\u001b[39;49m\u001b[39m2\u001b[39;49m\u001b[39m+\u001b[39m\u001b[39m3.3\u001b[39m\u001b[39m*\u001b[39mx\u001b[39m+\u001b[39m\u001b[39m6\u001b[39m\n\u001b[0;32m      <a href='vscode-notebook-cell:/c%3A/Users/user/Desktop/Untitled-2.ipynb#X32sZmlsZQ%3D%3D?line=3'>4</a>\u001b[0m \u001b[39mprint\u001b[39m(\u001b[39m\"\u001b[39m\u001b[39m2차 방정식 결과 = \u001b[39m\u001b[39m\"\u001b[39m, y)\n",
      "\u001b[1;31mTypeError\u001b[0m: unsupported operand type(s) for ** or pow(): 'str' and 'int'"
     ]
    }
   ],
   "source": [
    "x = input(\"x의 값을 입력하세요. \") # 오류가 나는 이유는 input이 str형이기 때문이다.\n",
    "print(type(x), x)\n",
    "y = 2.5*x**2+3.3*x+6\n",
    "print(\"2차 방정식 결과 = \", y)"
   ]
  },
  {
   "cell_type": "code",
   "execution_count": 41,
   "metadata": {},
   "outputs": [],
   "source": [
    "x = int(input(\"x의 값을 입력하세요. \")) # 형변환(str -> int)\n",
    "print(type(x), x)\n",
    "y = 2.5*x**2+3.3*x+6\n",
    "print(\"2차 방정식 결과 = \", y)"
   ]
  }
 ],
 "metadata": {
  "kernelspec": {
   "display_name": "Python 3 (ipykernel)",
   "language": "python",
   "name": "python3"
  },
  "language_info": {
   "codemirror_mode": {
    "name": "ipython",
    "version": 3
   },
   "file_extension": ".py",
   "mimetype": "text/x-python",
   "name": "python",
   "nbconvert_exporter": "python",
   "pygments_lexer": "ipython3",
   "version": "3.9.12"
  },
  "vscode": {
   "interpreter": {
    "hash": "26de051ba29f2982a8de78e945f0abaf191376122a1563185a90213a26c5da77"
   }
  }
 },
 "nbformat": 4,
 "nbformat_minor": 2
}
