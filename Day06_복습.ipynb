{
 "cells": [
  {
   "cell_type": "code",
   "execution_count": 1,
   "id": "dc6a2f0f",
   "metadata": {},
   "outputs": [
    {
     "name": "stdout",
     "output_type": "stream",
     "text": [
      "13\n"
     ]
    }
   ],
   "source": [
    "# 함수 정의\n",
    "def test_plus (x,y):\n",
    "    result = x + y\n",
    "    return result\n",
    "print(test_plus(5,8))"
   ]
  },
  {
   "cell_type": "code",
   "execution_count": 2,
   "id": "be92bc7d",
   "metadata": {},
   "outputs": [
    {
     "name": "stdout",
     "output_type": "stream",
     "text": [
      "김메가 입니다.\n"
     ]
    }
   ],
   "source": [
    "# 입력값은 있지만 결과값은 없는 함수\n",
    "def print_sample(msg) :\n",
    "    print(msg, \"입니다.\")\n",
    "\n",
    "print_sample(\"김메가\")"
   ]
  },
  {
   "cell_type": "code",
   "execution_count": 3,
   "id": "49852660",
   "metadata": {},
   "outputs": [
    {
     "name": "stdout",
     "output_type": "stream",
     "text": [
      "1-2의 값은 -1입니다\n",
      "None\n"
     ]
    }
   ],
   "source": [
    "def minus(x,y) :\n",
    "    print(f\"{x}-{y}의 값은 {x-y}입니다\")\n",
    "print(minus(1,2))"
   ]
  },
  {
   "cell_type": "code",
   "execution_count": 4,
   "id": "e7ff7bb2",
   "metadata": {},
   "outputs": [
    {
     "name": "stdout",
     "output_type": "stream",
     "text": [
      "None\n",
      "[1, 2, 3, 5, 7]\n"
     ]
    }
   ],
   "source": [
    "list_num = [1,5,3,7,2]\n",
    "print(list_num.sort())\n",
    "print(list_num)"
   ]
  },
  {
   "cell_type": "code",
   "execution_count": 5,
   "id": "831989c1",
   "metadata": {},
   "outputs": [
    {
     "name": "stdout",
     "output_type": "stream",
     "text": [
      "[1, 2, 3, 5, 7]\n"
     ]
    }
   ],
   "source": [
    "list_num = [1,5,3,7,2]\n",
    "list_num.sort() # sort () 괄호 안에 히든키 self가 있어서 list_num 의 주소를 sort에 넘기는 원리, 클래스와 연관\n",
    "print(list_num)"
   ]
  },
  {
   "cell_type": "code",
   "execution_count": 6,
   "id": "05d343c4",
   "metadata": {},
   "outputs": [
    {
     "name": "stdout",
     "output_type": "stream",
     "text": [
      "[1, 2, 3, 5, 7]\n"
     ]
    }
   ],
   "source": [
    "list_num = [1,5,3,7,2]\n",
    "list.sort(list_num)\n",
    "print(list_num)"
   ]
  },
  {
   "cell_type": "code",
   "execution_count": 1,
   "id": "18cae4ed",
   "metadata": {},
   "outputs": [
    {
     "name": "stdout",
     "output_type": "stream",
     "text": [
      "[1, 2, 3, 5, 7, 9]\n",
      "반복횟수 15\n"
     ]
    }
   ],
   "source": [
    "# 선택정렬(selection sort)\n",
    "list = [5,1,3,7,2,9]\n",
    "count = 0\n",
    "for x in range(0, len(list)-1) : # 마지막 요소는 이미 가장 큰 값으로, 검사할 필요X\n",
    "    for y in range(x+1, len(list)) :\n",
    "        count += 1\n",
    "        if list[x] > list[y] :\n",
    "            temp = list[x]  # C나 JAVA에서 이용하는 방식(temp)\n",
    "            list[x] = list[y]\n",
    "            list[y] = temp\n",
    "print(list)\n",
    "print(\"반복횟수\", count)"
   ]
  },
  {
   "cell_type": "code",
   "execution_count": 2,
   "id": "8b94a6ca",
   "metadata": {},
   "outputs": [],
   "source": [
    "# 파이썬에서 위치를 서로 바꾸는 기능 X,Y = Y,X\n",
    "# list[x],list[y] = list[y],list[x]"
   ]
  },
  {
   "cell_type": "code",
   "execution_count": 4,
   "id": "03300655",
   "metadata": {},
   "outputs": [
    {
     "name": "stdout",
     "output_type": "stream",
     "text": [
      "[2, 15, 15, 21, 25, 27, 46, 49, 51, 59, 64, 74, 75, 76, 78, 81, 85, 92, 94, 96]\n",
      "반복 횟수:  180\n"
     ]
    }
   ],
   "source": [
    "# 버블정렬 : 가장 큰 값을 오른쪽으로\n",
    "import random\n",
    "list_num = []\n",
    "init = 0\n",
    "while init < 20 :\n",
    "    list_num.append(random.randint(1,101))\n",
    "    init += 1\n",
    "    \n",
    "count = 0\n",
    "for x in range(len(list_num)-1, 0, -1) :\n",
    "    swap_true = False\n",
    "    for y in range(x) :\n",
    "        count += 1\n",
    "        if list_num[y] > list_num[y+1] :\n",
    "            list_num[y],list_num[y+1] = list_num[y+1],list_num[y]\n",
    "            swap_true = True\n",
    "    if not swap_true : # not swap_true가 False일 때\n",
    "        break\n",
    "print(list_num)\n",
    "print(\"반복 횟수: \", count)"
   ]
  },
  {
   "cell_type": "code",
   "execution_count": 5,
   "id": "1df1b008",
   "metadata": {},
   "outputs": [
    {
     "name": "stdout",
     "output_type": "stream",
     "text": [
      "정렬전 5\n"
     ]
    },
    {
     "ename": "TypeError",
     "evalue": "object of type 'int' has no len()",
     "output_type": "error",
     "traceback": [
      "\u001b[1;31m---------------------------------------------------------------------------\u001b[0m",
      "\u001b[1;31mTypeError\u001b[0m                                 Traceback (most recent call last)",
      "Input \u001b[1;32mIn [5]\u001b[0m, in \u001b[0;36m<cell line: 14>\u001b[1;34m()\u001b[0m\n\u001b[0;32m     12\u001b[0m                 \u001b[38;5;66;03m# return 문이 없어도 정상 실행\u001b[39;00m\n\u001b[0;32m     13\u001b[0m \u001b[38;5;28mprint\u001b[39m(\u001b[38;5;124m\"\u001b[39m\u001b[38;5;124m정렬전\u001b[39m\u001b[38;5;124m\"\u001b[39m,x)\n\u001b[1;32m---> 14\u001b[0m \u001b[43msample_sort\u001b[49m\u001b[43m(\u001b[49m\u001b[43mx\u001b[49m\u001b[43m)\u001b[49m\n\u001b[0;32m     15\u001b[0m \u001b[38;5;28mprint\u001b[39m(\u001b[38;5;124m\"\u001b[39m\u001b[38;5;124m정렬후\u001b[39m\u001b[38;5;124m\"\u001b[39m,x)\n",
      "Input \u001b[1;32mIn [5]\u001b[0m, in \u001b[0;36msample_sort\u001b[1;34m(list_num)\u001b[0m\n\u001b[0;32m      5\u001b[0m \u001b[38;5;28;01mdef\u001b[39;00m \u001b[38;5;21msample_sort\u001b[39m(list_num) :\n\u001b[1;32m----> 6\u001b[0m     \u001b[38;5;28;01mfor\u001b[39;00m x \u001b[38;5;129;01min\u001b[39;00m \u001b[38;5;28mrange\u001b[39m(\u001b[38;5;241m0\u001b[39m,\u001b[38;5;28;43mlen\u001b[39;49m\u001b[43m(\u001b[49m\u001b[43mlist_num\u001b[49m\u001b[43m)\u001b[49m\u001b[38;5;241m-\u001b[39m\u001b[38;5;241m1\u001b[39m) : \u001b[38;5;66;03m# 마지막 요소는 이미 가장 큰 값으로, 검사할 필요X\u001b[39;00m\n\u001b[0;32m      7\u001b[0m         \u001b[38;5;28;01mfor\u001b[39;00m y \u001b[38;5;129;01min\u001b[39;00m \u001b[38;5;28mrange\u001b[39m(x\u001b[38;5;241m+\u001b[39m\u001b[38;5;241m1\u001b[39m,\u001b[38;5;28mlen\u001b[39m(list_num)) :\n\u001b[0;32m      8\u001b[0m             \u001b[38;5;28;01mif\u001b[39;00m list_num[x] \u001b[38;5;241m>\u001b[39m list_num[y] :\n",
      "\u001b[1;31mTypeError\u001b[0m: object of type 'int' has no len()"
     ]
    }
   ],
   "source": [
    "list_num = [5,1,3,7,2,9]\n",
    "list_num.sort()\n",
    "\n",
    "def sample_sort(list_num) :\n",
    "    for x in range(0,len(list_num)-1) : # 마지막 요소는 이미 가장 큰 값으로, 검사할 필요X\n",
    "        for y in range(x+1,len(list_num)) :\n",
    "            if list_num[x] > list_num[y] :\n",
    "                temp = list_num[x]  # C나 Java에서 이용하는 방식(temp)\n",
    "                list_num[x] = list_num[y]\n",
    "                list_num[y] = temp\n",
    "                # return 문이 없어도 정상 실행\n",
    "print(\"정렬전\",x)\n",
    "sample_sort(x)\n",
    "print(\"정렬후\",x)"
   ]
  },
  {
   "cell_type": "code",
   "execution_count": 6,
   "id": "db9f5cca",
   "metadata": {},
   "outputs": [
    {
     "name": "stdout",
     "output_type": "stream",
     "text": [
      "Hello\n"
     ]
    }
   ],
   "source": [
    "def hello() :\n",
    "    return 'Hello'\n",
    "print(hello())"
   ]
  },
  {
   "cell_type": "code",
   "execution_count": 7,
   "id": "afc1720b",
   "metadata": {},
   "outputs": [
    {
     "name": "stdout",
     "output_type": "stream",
     "text": [
      "Hello\n",
      "None\n",
      "Hello\n"
     ]
    }
   ],
   "source": [
    "# 입력값, 결과값 모두 없는 함수\n",
    "def hello() :\n",
    "    print('Hello')\n",
    "    \n",
    "print(hello())\n",
    "hello()"
   ]
  },
  {
   "cell_type": "code",
   "execution_count": 8,
   "id": "e7dd2dd3",
   "metadata": {},
   "outputs": [
    {
     "ename": "TypeError",
     "evalue": "sample_plus() takes 2 positional arguments but 3 were given",
     "output_type": "error",
     "traceback": [
      "\u001b[1;31m---------------------------------------------------------------------------\u001b[0m",
      "\u001b[1;31mTypeError\u001b[0m                                 Traceback (most recent call last)",
      "Input \u001b[1;32mIn [8]\u001b[0m, in \u001b[0;36m<cell line: 4>\u001b[1;34m()\u001b[0m\n\u001b[0;32m      2\u001b[0m \u001b[38;5;28;01mdef\u001b[39;00m \u001b[38;5;21msample_plus\u001b[39m(a,b) :\n\u001b[0;32m      3\u001b[0m     \u001b[38;5;28;01mpass\u001b[39;00m\n\u001b[1;32m----> 4\u001b[0m \u001b[38;5;28mprint\u001b[39m(\u001b[43msample_plus\u001b[49m\u001b[43m(\u001b[49m\u001b[38;5;241;43m1\u001b[39;49m\u001b[43m,\u001b[49m\u001b[38;5;241;43m2\u001b[39;49m\u001b[43m,\u001b[49m\u001b[38;5;241;43m2\u001b[39;49m\u001b[43m)\u001b[49m)\n",
      "\u001b[1;31mTypeError\u001b[0m: sample_plus() takes 2 positional arguments but 3 were given"
     ]
    }
   ],
   "source": [
    "# 입력값 개수 불일치로 인한 오류\n",
    "def sample_plus(a,b) :\n",
    "    pass\n",
    "print(sample_plus(1,2,2))"
   ]
  },
  {
   "cell_type": "code",
   "execution_count": 9,
   "id": "8c396e6b",
   "metadata": {},
   "outputs": [
    {
     "name": "stdout",
     "output_type": "stream",
     "text": [
      "<class 'tuple'> (1, 2, 2)\n",
      "5\n"
     ]
    }
   ],
   "source": [
    "# 입력값이 몇 개인지 모를 때 함수 구조\n",
    "def sample_plus(*args) : # args: arguments의 약자, args 말고 nums를 써도 되고 아무거나 써도 된다.\n",
    "    print(type(args),args)\n",
    "    # return a+b\n",
    "    sum = 0\n",
    "    for i in args :\n",
    "        sum += i\n",
    "    return sum\n",
    "\n",
    "print(sample_plus(1,2,2))"
   ]
  },
  {
   "cell_type": "code",
   "execution_count": 10,
   "id": "c9ad741d",
   "metadata": {},
   "outputs": [
    {
     "name": "stdout",
     "output_type": "stream",
     "text": [
      "평균 : 38.25\n"
     ]
    }
   ],
   "source": [
    "def get_average_many(*args) :\n",
    "    sum = 0\n",
    "    for i in args :\n",
    "        sum += i\n",
    "    average = sum / len(args)\n",
    "    return average\n",
    "result = get_average_many(1,32,51,32,20,50,60,60)\n",
    "print(\"평균 :\", result)"
   ]
  },
  {
   "cell_type": "code",
   "execution_count": 11,
   "id": "acd3c11e",
   "metadata": {},
   "outputs": [
    {
     "name": "stdout",
     "output_type": "stream",
     "text": [
      "add\n",
      "(1, 2, 3, 4, 5)\n"
     ]
    }
   ],
   "source": [
    "def sample_calculator(select, *nums) :\n",
    "    print(select)\n",
    "    print(nums)\n",
    "    \n",
    "sample_calculator(\"add\", 1,2,3,4,5)"
   ]
  },
  {
   "cell_type": "code",
   "execution_count": 12,
   "id": "62898112",
   "metadata": {},
   "outputs": [
    {
     "name": "stdout",
     "output_type": "stream",
     "text": [
      "add\n",
      "(1, 2, 3, 4, 5)\n"
     ]
    }
   ],
   "source": [
    "# 놓침\n",
    "def sample_calculator(select, *nums) :\n",
    "    if select == \"add\" :\n",
    "        sum = 0\n",
    "        for i in nums :\n",
    "            sum += i\n",
    "    print(select)\n",
    "    print(nums)\n",
    "    \n",
    "sample_calculator(\"add\", 1,2,3,4,5)"
   ]
  },
  {
   "cell_type": "code",
   "execution_count": 13,
   "id": "c982f99e",
   "metadata": {},
   "outputs": [],
   "source": [
    "# 함수를 불러들이는 방식의 차이"
   ]
  },
  {
   "cell_type": "code",
   "execution_count": 14,
   "id": "65e8f23e",
   "metadata": {},
   "outputs": [
    {
     "name": "stdout",
     "output_type": "stream",
     "text": [
      "3\n"
     ]
    }
   ],
   "source": [
    "import statistics\n",
    "list_num = [1,2,3,4,5]\n",
    "print(statistics.mean(list_num))"
   ]
  },
  {
   "cell_type": "code",
   "execution_count": 15,
   "id": "2be26cbc",
   "metadata": {},
   "outputs": [
    {
     "name": "stdout",
     "output_type": "stream",
     "text": [
      "3\n"
     ]
    }
   ],
   "source": [
    "from statistics import mean\n",
    "list_num = [1,2,3,4,5]\n",
    "print(mean(list_num))"
   ]
  },
  {
   "cell_type": "code",
   "execution_count": 17,
   "id": "8f0c3f78",
   "metadata": {},
   "outputs": [
    {
     "name": "stdout",
     "output_type": "stream",
     "text": [
      "avgs =  3\n",
      "var =  2.5\n",
      "std =  1.5811388300841898\n",
      "??? =  오류, 재입력 요망\n"
     ]
    }
   ],
   "source": [
    "def sample_cal(select, *args) :\n",
    "    if select == 'avg' : # 평균\n",
    "        return statistics.mean(args)\n",
    "    elif select == 'var' : # 분산\n",
    "        return statistics.variance(args)\n",
    "    elif select == 'std' : # 표준편차\n",
    "        return statistics.stdev(args)\n",
    "    else :\n",
    "        return '오류, 재입력 요망'\n",
    "print('avgs = ',sample_cal('avg',1,2,3,4,5))\n",
    "print('var = ',sample_cal('var',1,2,3,4,5))\n",
    "print('std = ',sample_cal('std',1,2,3,4,5))\n",
    "print('??? = ',sample_cal('???',1,2,3,4,5))"
   ]
  },
  {
   "cell_type": "code",
   "execution_count": 19,
   "id": "d9d633f5",
   "metadata": {},
   "outputs": [
    {
     "name": "stdout",
     "output_type": "stream",
     "text": [
      "어떤 연산을 하실건가요? (+,-,*,/)+\n",
      "첫번째 정수를 입력하세요.5\n",
      "두번째 정수를 입력하세요.8\n",
      "5와 8의 + 연산 결과는 13\n"
     ]
    }
   ],
   "source": [
    "# 내가 썼던 방식\n",
    "def calculation(select,a,b) :\n",
    "    if select == '+' :\n",
    "        return a+b\n",
    "    elif select == '-' :\n",
    "        return a-b\n",
    "    elif select == '*' :\n",
    "        return a*b\n",
    "    elif select == '/' :\n",
    "        return a/b\n",
    "    else :\n",
    "        print(\"None\")\n",
    "select = input(\"어떤 연산을 하실건가요? (+,-,*,/)\")\n",
    "a = int(input(\"첫번째 정수를 입력하세요.\"))\n",
    "b = int(input(\"두번째 정수를 입력하세요.\"))\n",
    "print(f\"{a}와 {b}의 {select} 연산 결과는 {calculation(select,a,b)}\")"
   ]
  },
  {
   "cell_type": "code",
   "execution_count": 20,
   "id": "83a05837",
   "metadata": {},
   "outputs": [
    {
     "name": "stdout",
     "output_type": "stream",
     "text": [
      "(30, -10, 200)\n",
      "30\n",
      "-10\n",
      "200\n"
     ]
    }
   ],
   "source": [
    "def cal(a,b) :\n",
    "    result1 = a+b\n",
    "    result2 = a-b\n",
    "    result3 = a*b\n",
    "    return result1, result2, result3\n",
    "\n",
    "result = cal(10,20)\n",
    "print(result)\n",
    "print(result[0])\n",
    "print(result[1])\n",
    "print(result[2])"
   ]
  },
  {
   "cell_type": "code",
   "execution_count": 22,
   "id": "eb7dc481",
   "metadata": {},
   "outputs": [
    {
     "name": "stdout",
     "output_type": "stream",
     "text": [
      "메세지를 입력하세요 안녕하세요\n",
      "안녕하세요라고 입력하셨네요\n",
      "메세지를 입력하세요 반가워요\n",
      "반가워요라고 입력하셨네요\n",
      "메세지를 입력하세요 종료\n"
     ]
    }
   ],
   "source": [
    "def speak(msg) :\n",
    "    if msg == \"종료\" :\n",
    "        return # return으로 함수 종료\n",
    "        print(f\"{msg}라고 입력하셨네요\")\n",
    "    else :\n",
    "        print(f\"{msg}라고 입력하셨네요\")\n",
    "\n",
    "while True :\n",
    "    msg = input(\"메세지를 입력하세요 \")\n",
    "    speak(msg)\n",
    "    if msg == '종료' :\n",
    "        break"
   ]
  },
  {
   "cell_type": "code",
   "execution_count": 23,
   "id": "7f4f7824",
   "metadata": {},
   "outputs": [
    {
     "name": "stdout",
     "output_type": "stream",
     "text": [
      "3\n",
      "-1\n",
      "입력오류\n"
     ]
    }
   ],
   "source": [
    "def cal(x,y,sel=\"+\") :\n",
    "    if sel == \"+\" :\n",
    "        return x+y\n",
    "    elif sel == \"-\" :\n",
    "        return x-y\n",
    "    else :\n",
    "        return '입력오류'\n",
    "    \n",
    "print(cal(1,2)) # 더하기 기능을 제공\n",
    "print(cal(1,2, sel='-'))\n",
    "print(cal(1,2, sel='*'))"
   ]
  },
  {
   "cell_type": "code",
   "execution_count": 24,
   "id": "e90a7585",
   "metadata": {},
   "outputs": [
    {
     "name": "stdout",
     "output_type": "stream",
     "text": [
      "이름은 메가이며 나이는 20, 성별은 남입니다\n",
      "이름은 메가이며 나이는 20, 성별은 남입니다\n"
     ]
    }
   ],
   "source": [
    "def profile (name, age, gender) :\n",
    "    print(f\"이름은 {name}이며 나이는 {age}, 성별은 {gender}입니다\")\n",
    "\n",
    "profile('메가', 20, \"남\")\n",
    "profile(age = 20, gender = \"남\", name = \"메가\")"
   ]
  },
  {
   "cell_type": "code",
   "execution_count": 25,
   "id": "a9de6f57",
   "metadata": {},
   "outputs": [
    {
     "name": "stdout",
     "output_type": "stream",
     "text": [
      "3\n"
     ]
    }
   ],
   "source": [
    "# 일반적 함수\n",
    "def plus(a,b) :\n",
    "    return a+b\n",
    "\n",
    "print(plus(1,2))"
   ]
  },
  {
   "cell_type": "code",
   "execution_count": 26,
   "id": "49cde008",
   "metadata": {},
   "outputs": [
    {
     "name": "stdout",
     "output_type": "stream",
     "text": [
      "3\n"
     ]
    }
   ],
   "source": [
    "# lambda 형식(여러 줄의 함수를 간단히 표현)\n",
    "plus = lambda a, b : a + b\n",
    "print(plus(1,2))"
   ]
  },
  {
   "cell_type": "code",
   "execution_count": 27,
   "id": "776c2025",
   "metadata": {},
   "outputs": [
    {
     "name": "stdout",
     "output_type": "stream",
     "text": [
      "3\n",
      "-1\n"
     ]
    }
   ],
   "source": [
    "add_func_test = [lambda a,b : a+b, lambda a,b : a-b]\n",
    "print(add_func_test[0](1,2)) # lambda a,b : a+b 지정\n",
    "print(add_func_test[1](1,2)) # lambda a,b : a-b 지정"
   ]
  },
  {
   "cell_type": "code",
   "execution_count": 28,
   "id": "881014de",
   "metadata": {},
   "outputs": [
    {
     "name": "stdout",
     "output_type": "stream",
     "text": [
      "3\n",
      "2\n"
     ]
    }
   ],
   "source": [
    "a = 2\n",
    "def sum(a):\n",
    "    a += 1\n",
    "    return a\n",
    "result = sum(a)\n",
    "print(result)\n",
    "print(a)"
   ]
  },
  {
   "cell_type": "code",
   "execution_count": 29,
   "id": "dfba3555",
   "metadata": {},
   "outputs": [
    {
     "name": "stdout",
     "output_type": "stream",
     "text": [
      "1\n"
     ]
    }
   ],
   "source": [
    "result = 2\n",
    "def sum(a):\n",
    "    result = 0\n",
    "    result += a\n",
    "    return result\n",
    "result = sum(1)\n",
    "print(result)"
   ]
  },
  {
   "cell_type": "code",
   "execution_count": 34,
   "id": "8ebacc37",
   "metadata": {},
   "outputs": [
    {
     "name": "stdout",
     "output_type": "stream",
     "text": [
      "3\n"
     ]
    }
   ],
   "source": [
    "result = 2\n",
    "def sum(a):\n",
    "    global result # 밖에 있는 전역변수 result를 사용한다고 선언한 것\n",
    "    result = result + 1\n",
    "    # a = a + result\n",
    "    return result\n",
    "result = sum(1)\n",
    "print(result)"
   ]
  },
  {
   "cell_type": "code",
   "execution_count": 35,
   "id": "620668ea",
   "metadata": {},
   "outputs": [
    {
     "name": "stdout",
     "output_type": "stream",
     "text": [
      "3\n"
     ]
    }
   ],
   "source": [
    "result = 2\n",
    "def sum(a):\n",
    "    global result # 밖에 있는 전역변수 result를 사용한다고 선언한 것\n",
    "    result = result + 1\n",
    "    # a = a + result\n",
    "    return result\n",
    "\n",
    "result = sum(1)\n",
    "print(result)"
   ]
  },
  {
   "cell_type": "code",
   "execution_count": 36,
   "id": "270d7b19",
   "metadata": {},
   "outputs": [],
   "source": [
    "# Python Tutor에서 메모리 구조 시각화 해보기"
   ]
  },
  {
   "cell_type": "code",
   "execution_count": 37,
   "id": "f13c47d6",
   "metadata": {},
   "outputs": [
    {
     "name": "stdout",
     "output_type": "stream",
     "text": [
      "2143563573552 1\n",
      "2143563573552 1\n",
      "2143563573584 2\n",
      "2143649587520 [1]\n",
      "2143649350336 [1]\n",
      "2143649587520 [1, 2]\n"
     ]
    }
   ],
   "source": [
    "# 같은 1이라는 값을 가리키고 있어서 주소값이 같다.\n",
    "a = 1\n",
    "b = 1\n",
    "print(id(a), a)\n",
    "print(id(b), b)\n",
    "a += 1\n",
    "print(id(a), a)\n",
    "\n",
    "# 같은 1이라는 값을 가리키고 있지만 주소값이 다르다. class와 관련\n",
    "c = [1]\n",
    "d = [1]\n",
    "print(id(c), c)\n",
    "print(id(d), d)\n",
    "\n",
    "c.append(2) # 리스트에 값을 추가했지만 주소는 바뀌지 않았다.\n",
    "print(id(c), c)"
   ]
  },
  {
   "cell_type": "code",
   "execution_count": 38,
   "id": "46a8c974",
   "metadata": {},
   "outputs": [],
   "source": [
    "# 함수는 클래스 외부에, 메소드는 클래스 외부에"
   ]
  }
 ],
 "metadata": {
  "kernelspec": {
   "display_name": "Python 3 (ipykernel)",
   "language": "python",
   "name": "python3"
  },
  "language_info": {
   "codemirror_mode": {
    "name": "ipython",
    "version": 3
   },
   "file_extension": ".py",
   "mimetype": "text/x-python",
   "name": "python",
   "nbconvert_exporter": "python",
   "pygments_lexer": "ipython3",
   "version": "3.9.12"
  }
 },
 "nbformat": 4,
 "nbformat_minor": 5
}
